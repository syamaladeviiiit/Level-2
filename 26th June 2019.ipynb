{
 "cells": [
  {
   "cell_type": "markdown",
   "metadata": {},
   "source": [
    "## Day Objectives:-\n",
    "\n",
    "#### 26th June 2019\n",
    "\n",
    "   -  Function to find the Number having the kth largest frequency\n",
    "   -  Largest nuber in a list\n",
    "   -  Second Largest number in a list\n",
    "   -  Kth largest number in a list\n",
    "   -  Element with highest frequency\n",
    "   -  Second Highest frequency\n",
    "   -  Kth Highest frequency¶"
   ]
  },
  {
   "cell_type": "markdown",
   "metadata": {},
   "source": [
    "## Function to find the Number having the kth largest frequency\n",
    "###  Largest nuber in a list\n",
    "### Second Largest number in a list\n",
    "###  Kth largest number in a list\n"
   ]
  },
  {
   "cell_type": "code",
   "execution_count": 1,
   "metadata": {},
   "outputs": [
    {
     "data": {
      "text/plain": [
       "'b'"
      ]
     },
     "execution_count": 1,
     "metadata": {},
     "output_type": "execute_result"
    }
   ],
   "source": [
    "# Function to find the largest Frequency of the element\n",
    "def largestFrequency(N,K):\n",
    "    # build the frequency dictionary for all unique characters\n",
    "    unique=[]\n",
    "    freq={}\n",
    "    for i in N:\n",
    "        if i not in freq.keys() :\n",
    "            freq[i]=N.count(i)\n",
    "    # Extract unique frequencies in descending \n",
    "    values=sorted(freq.values(),reverse=True)\n",
    "    uniquevalues=list(set(values))\n",
    "    uniquevalues=sorted(uniquevalues,reverse=True)\n",
    "    # Identify the kth largest frequency\n",
    "    if K<=len(uniquevalues):\n",
    "        kvalue=uniquevalues[K-1]\n",
    "    else:\n",
    "        return -1\n",
    "    # Get all elements with kth largest frequecy \n",
    "    li=[]\n",
    "    for item in  freq.items():\n",
    "        if item[1]==kvalue:\n",
    "            li.append(item[0])\n",
    "    # Minimum of Kth Largest frequency\n",
    "    return min(li)\n",
    "largestFrequency('aabcdcc',3)\n",
    "'''with open('Data\\input.txt','r') as f:\n",
    "    t=int(input())\n",
    "    for i in range(t):\n",
    "        N=f.readline()\n",
    "        K=int(input())\n",
    "        print(largestFrequency(N,K))\n",
    "            '''\n"
   ]
  },
  {
   "cell_type": "code",
   "execution_count": null,
   "metadata": {},
   "outputs": [],
   "source": []
  },
  {
   "cell_type": "code",
   "execution_count": 6,
   "metadata": {},
   "outputs": [
    {
     "name": "stdout",
     "output_type": "stream",
     "text": [
      "45 23 45 12 33\n"
     ]
    },
    {
     "data": {
      "text/plain": [
       "'4'"
      ]
     },
     "execution_count": 6,
     "metadata": {},
     "output_type": "execute_result"
    }
   ],
   "source": [
    "# Function to find the second largest number in the string\n",
    "\n",
    "def secondLargest(li):\n",
    "    #Convert the list into a unique list\n",
    "    unique=[]\n",
    "    for n in li:\n",
    "        if n not in unique:\n",
    "            unique.append(n)\n",
    "    unique = sorted(unique,reverse=True)\n",
    "    if len(unique)>1:\n",
    "        return unique[1]\n",
    "li=input()\n",
    "secondLargest(li)\n",
    "    \n",
    "\n",
    "# def KSmallest(li)\n",
    "        "
   ]
  },
  {
   "cell_type": "code",
   "execution_count": null,
   "metadata": {},
   "outputs": [],
   "source": []
  },
  {
   "cell_type": "code",
   "execution_count": 15,
   "metadata": {},
   "outputs": [
    {
     "data": {
      "text/plain": [
       "7"
      ]
     },
     "execution_count": 15,
     "metadata": {},
     "output_type": "execute_result"
    }
   ],
   "source": [
    "# def fifthLeast(li)\n",
    "\n",
    "def fifthLeast(li):\n",
    "    unique=[]\n",
    "    for n in li:\n",
    "        if n not in unique:\n",
    "            unique.append(n)\n",
    "    unique = sorted(unique,reverse=True)\n",
    "    if len(unique)>1:\n",
    "        return unique[-5]\n",
    "    return -1\n",
    "li=[1,2,3,3,5,7,8,2,3,5,7,8]\n",
    "fifthLeast(li)"
   ]
  },
  {
   "cell_type": "code",
   "execution_count": null,
   "metadata": {},
   "outputs": [],
   "source": []
  },
  {
   "cell_type": "code",
   "execution_count": 20,
   "metadata": {},
   "outputs": [
    {
     "name": "stdout",
     "output_type": "stream",
     "text": [
      "2 3 4 5 6 7 8 1 2 3 9\n",
      "3\n"
     ]
    },
    {
     "data": {
      "text/plain": [
       "'7'"
      ]
     },
     "execution_count": 20,
     "metadata": {},
     "output_type": "execute_result"
    }
   ],
   "source": [
    "def Klargest(li):\n",
    "    unique=[]\n",
    "    for n in li:\n",
    "        if n not in unique:\n",
    "            unique.append(n)\n",
    "    unique = sorted(unique,reverse=True)\n",
    "    if len(unique)>K:\n",
    "        return unique[K-1]\n",
    "    return -1\n",
    "li=input().split()\n",
    "K=int(input())\n",
    "Klargest(li)"
   ]
  },
  {
   "cell_type": "code",
   "execution_count": null,
   "metadata": {},
   "outputs": [],
   "source": []
  },
  {
   "cell_type": "code",
   "execution_count": 23,
   "metadata": {},
   "outputs": [
    {
     "name": "stdout",
     "output_type": "stream",
     "text": [
      "\n",
      "1\n"
     ]
    },
    {
     "data": {
      "text/plain": [
       "-1"
      ]
     },
     "execution_count": 23,
     "metadata": {},
     "output_type": "execute_result"
    }
   ],
   "source": [
    "# Function for  the Kth largest element in the list\n",
    "def Ksmallest(li):\n",
    "    # Extract unique elements in the list\n",
    "    unique=[]\n",
    "    for n in li:\n",
    "        if n not in unique:\n",
    "            unique.append(n)\n",
    "    # Sort the Unique list in descending order (highest to lowest) \n",
    "    unique = sorted(unique) # no need to reverse this because smallest  element we are finding\n",
    "    # Check if length of unique list is greater than K\n",
    "    if len(unique)>=K:\n",
    "        \n",
    "        return unique[K-1]\n",
    "    return -1\n",
    "li=input().split()\n",
    "K=int(input())\n",
    "Ksmallest(li)"
   ]
  },
  {
   "cell_type": "code",
   "execution_count": null,
   "metadata": {},
   "outputs": [],
   "source": []
  },
  {
   "cell_type": "markdown",
   "metadata": {},
   "source": [
    "### Element with highest frequency\n",
    "###  Second Highest frequency\n",
    "### Kth Highest frequency"
   ]
  },
  {
   "cell_type": "code",
   "execution_count": null,
   "metadata": {},
   "outputs": [],
   "source": []
  },
  {
   "cell_type": "code",
   "execution_count": null,
   "metadata": {},
   "outputs": [],
   "source": [
    "# Function to identify the element with highest frequency\n",
    "# If any have the highest fequency,return the smallest\n",
    "# highestFrequency([1,2,3,9,8,7,3,4,2,1])\n",
    "\n",
    "\n",
    "def highestFrequency(li):\n",
    "    # Extracting the \n",
    "    unique={}\n",
    "    #freq={}\n",
    "    for n in li:\n",
    "        if n in unique.keys():\n",
    "            unique[n]+=1\n",
    "        else:\n",
    "            unique[n]=1\n",
    "# Getting all frequencies into a \n",
    "    freq = unique.values()\n",
    "    maxfreq=max(freq)\n",
    "    maxfreqE = []\n",
    "\n",
    "# Identify keys with  maximum frequency    \n",
    "    for item in unique.items():\n",
    "        if item[1] == maxfreq:\n",
    "            maxfreqE.append(item[0])\n",
    "    \n",
    "# Select the minimum from the keys with maximum frequency\n",
    "    return min(maxfreqE)# Instead minfreqE [K-1]\n",
    "    #return max(maxfreqE)\n",
    "    #maxfreqE=sorted(maxfreqE,reverse=True)\n",
    "    return maxfreqE[K-1]\n",
    "#K=int(input())\n",
    "li=[1,2,3,4,5,7,3,2,4,5,1,2,5,3,4,8,2,1,3,4,5,6,5]\n",
    "highestFrequency(li)\n",
    "\n",
    "\n",
    "            \n",
    "        "
   ]
  },
  {
   "cell_type": "code",
   "execution_count": 55,
   "metadata": {},
   "outputs": [
    {
     "name": "stdout",
     "output_type": "stream",
     "text": [
      "[1, 2, 3, 4, 5, 6, 9]\n",
      "1 = 2\n",
      "2 = 2\n",
      "3 = 2\n",
      "4 = 2\n",
      "5 = 2\n",
      "6 = 1\n",
      "9 = 2\n"
     ]
    }
   ],
   "source": [
    "# Function to identify the element with highest frequency\n",
    "# If any have the highest fequency,return the smallest\n",
    "# highestFrequency([1,2,3,9,8,7,3,4,2,1])\n",
    "\n",
    "\n",
    "def highestFrequency(li):\n",
    "    unique=[]\n",
    "    fre=[]\n",
    "    frecount=[]\n",
    "    for i in li:\n",
    "        if i not in unique:\n",
    "            unique.append(i)\n",
    "    unique=sorted(unique)\n",
    "    print(unique)\n",
    "    for i in unique:\n",
    "        fre=li.count(i)\n",
    "        print(i,'=',fre,end=\"\\n\")\n",
    "li=[1 ,9,9,3,4,5,2,4,5,2,6,1,3,]\n",
    "highestFrequency(li)\n",
    "            \n"
   ]
  },
  {
   "cell_type": "code",
   "execution_count": 140,
   "metadata": {},
   "outputs": [
    {
     "name": "stdout",
     "output_type": "stream",
     "text": [
      "2 1 3 4 \n",
      "1\n",
      "{'2': 1, '1': 1, '3': 1, '4': 1}\n"
     ]
    },
    {
     "data": {
      "text/plain": [
       "'1'"
      ]
     },
     "execution_count": 140,
     "metadata": {},
     "output_type": "execute_result"
    }
   ],
   "source": [
    "# Function to identify the element with highest frequency\n",
    "# If any have the highest fequency,return the smallest\n",
    "# highestFrequency([1,2,3,9,8,7,3,4,2,1])\n",
    "\n",
    "\n",
    "def highestFrequency(li):\n",
    "    # Extracting the \n",
    "    unique={}\n",
    "    for n in li:\n",
    "        if n  in unique:\n",
    "            unique[n]+=1\n",
    "        else:\n",
    "            unique[n]=1\n",
    "    print(unique)\n",
    "    maxfreq=max(unique.values())\n",
    "    # Extract all the keys with maximum frequency\n",
    "    maxfreqkeys=[]\n",
    "    for item in unique.items():\n",
    "        if item[1]==maxfreq:\n",
    "            maxfreqkeys.append(item[0])\n",
    "    return min(maxfreqkeys)\n",
    "        \n",
    "li=input().split()\n",
    "K=int(input())\n",
    "highestFrequency(li)\n",
    "\n",
    "\n",
    "            \n",
    "        "
   ]
  },
  {
   "cell_type": "code",
   "execution_count": 143,
   "metadata": {},
   "outputs": [
    {
     "name": "stdout",
     "output_type": "stream",
     "text": [
      "{1: 2, 2: 2, 3: 1, 4: 2, 9: 1}\n"
     ]
    },
    {
     "data": {
      "text/plain": [
       "{1: 2, 2: 2, 3: 1, 4: 2, 9: 1}"
      ]
     },
     "execution_count": 143,
     "metadata": {},
     "output_type": "execute_result"
    }
   ],
   "source": [
    "# Function to identify second highest frequency element.If there are many such elements return the smallest\n",
    "\n",
    "# Function to identify the element with highest frequency\n",
    "# If any have the highest fequency,return the smallest\n",
    "# highestFrequency([1,2,3,9,8,7,3,4,2,1])\n",
    "\n",
    "\n",
    "def SecondFrequency(li):\n",
    "    # Extracting the \n",
    "    unique={}\n",
    "    u={}\n",
    "    for n in li:\n",
    "        if n  in unique:\n",
    "            unique[n]+=1\n",
    "        else:\n",
    "            unique[n]=1\n",
    "    print(unique)\n",
    "    \n",
    "    u=sorted(unique.values())\n",
    "    print(u)\n",
    "    usecond=[]\n",
    "    for i in u:\n",
    "        if i not in usecond:\n",
    "            usecond.append(i)\n",
    "    print(usecond)\n",
    "    us=usecond[-2]\n",
    "    print(us)\n",
    "    # Extract all the keys with maximum frequency\n",
    "    maxfreqkeys=[]\n",
    "    for item in unique.items():\n",
    "        if item[1]==us:\n",
    "            maxfreqkeys.append(item[0])\n",
    "    return min(maxfreqkeys)\n",
    "li=[1,1,2,2,3,4,4,9]\n",
    "SecondFrequency(li)\n",
    "\n",
    "\n",
    "            \n",
    "        "
   ]
  },
  {
   "cell_type": "code",
   "execution_count": 154,
   "metadata": {},
   "outputs": [
    {
     "name": "stdout",
     "output_type": "stream",
     "text": [
      "3\n",
      "1 1 2 2 3 4 4 9 9\n",
      "{'1': 2, '2': 2, '3': 1, '4': 2, '9': 2}\n",
      "[2, 2, 2, 2, 1]\n",
      "[2, 1]\n"
     ]
    },
    {
     "data": {
      "text/plain": [
       "-1"
      ]
     },
     "execution_count": 154,
     "metadata": {},
     "output_type": "execute_result"
    }
   ],
   "source": [
    "# Function to identify second highest frequency element.If there are many such elements return the smallest\n",
    "\n",
    "# Function to identify the element with highest frequency\n",
    "# If any have the highest fequency,return the smallest\n",
    "# highestFrequency([1,2,3,9,8,7,3,4,2,1])\n",
    "\n",
    "\n",
    "def KthLargest(li):\n",
    "    # Extracting the \n",
    "    unique={}\n",
    "    u=[]\n",
    "    for n in li:\n",
    "        if n  not in unique:\n",
    "            unique[n]=1\n",
    "        else:\n",
    "            unique[n]+=1\n",
    "    print(unique)\n",
    "    # Extract all frequencies in a unique frequencies in a list\n",
    "    u=sorted(unique.values(),reverse=True)\n",
    "    print(u)\n",
    "    usecond=[]\n",
    "    for i in u:\n",
    "        if i not in usecond:\n",
    "            usecond.append(i)\n",
    "    print(usecond)\n",
    "    if len(usecond)>=K:\n",
    "        us=usecond[K]\n",
    "        print(us)\n",
    "        # Extract all the keys with maximum frequency\n",
    "        maxfreqkeys=[]\n",
    "        for item in unique.items():\n",
    "            if item[1]==us:\n",
    "                maxfreqkeys.append(item[0])\n",
    "        return min(maxfreqkeys)\n",
    "    else:\n",
    "        return -1\n",
    "K=int(input())\n",
    "li=input().split()\n",
    "KthLargest(li)\n",
    "\n",
    "\n",
    "            \n",
    "        "
   ]
  },
  {
   "cell_type": "code",
   "execution_count": 162,
   "metadata": {},
   "outputs": [
    {
     "name": "stdout",
     "output_type": "stream",
     "text": [
      "s\n",
      "g\n",
      "h\n",
      "e\n",
      "w\n",
      "r\n",
      "n\n",
      "k\n",
      "-1\n",
      "-1\n"
     ]
    }
   ],
   "source": [
    "# Function to identify second highest frequency element.If there are many such elements return the smallest\n",
    "\n",
    "# Function to identify the element with highest frequency\n",
    "# If any have the highest fequency,return the smallest\n",
    "# highestFrequency([1,2,3,9,8,7,3,4,2,1])\n",
    "\n",
    "\n",
    "def HackerearthProblem(li):\n",
    "    # Extracting the \n",
    "    unique={}\n",
    "    u={}\n",
    "    for n in li:\n",
    "        if n  in unique:\n",
    "            unique[n]+=1\n",
    "        else:\n",
    "            unique[n]=1\n",
    "    #print(unique)\n",
    "    u=sorted(unique.values())\n",
    "    #print(u)\n",
    "    usecond=[]\n",
    "    for i in u:\n",
    "        if i not in usecond:\n",
    "            usecond.append(i)\n",
    "    #print(usecond)\n",
    "    if len(usecond)>K:\n",
    "        us=usecond[-K]\n",
    "        #print(us)\n",
    "        # Extract all the keys with maximum frequency\n",
    "        maxfreqkeys=[]\n",
    "        for item in unique.items():\n",
    "            if item[1]==us:\n",
    "                maxfreqkeys.append(item[0])\n",
    "        return min(maxfreqkeys)\n",
    "    else:\n",
    "        return -1\n",
    "\n",
    "\n",
    "with open('Data/i.txt','r') as f:\n",
    "    T=int(f.readline())\n",
    "    for i in range(T):\n",
    "        li = f.readline()\n",
    "        K=int(f.readline())\n",
    "        print(HackerearthProblem(li))\n"
   ]
  },
  {
   "cell_type": "code",
   "execution_count": null,
   "metadata": {},
   "outputs": [],
   "source": []
  }
 ],
 "metadata": {
  "kernelspec": {
   "display_name": "Python 3",
   "language": "python",
   "name": "python3"
  },
  "language_info": {
   "codemirror_mode": {
    "name": "ipython",
    "version": 3
   },
   "file_extension": ".py",
   "mimetype": "text/x-python",
   "name": "python",
   "nbconvert_exporter": "python",
   "pygments_lexer": "ipython3",
   "version": "3.7.3"
  }
 },
 "nbformat": 4,
 "nbformat_minor": 2
}
