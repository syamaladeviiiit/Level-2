{
 "cells": [
  {
   "cell_type": "markdown",
   "metadata": {},
   "source": [
    "### Day Objectives\n",
    "\n",
    "#### 25th June 2019\n",
    "\n",
    "- Hacker earth exam problems solved\n",
    "\n",
    "### Marks Application\n",
    "\n"
   ]
  },
  {
   "cell_type": "markdown",
   "metadata": {},
   "source": [
    "##### Function for counting the frequency of digits which are in given string"
   ]
  },
  {
   "cell_type": "code",
   "execution_count": null,
   "metadata": {},
   "outputs": [],
   "source": []
  },
  {
   "cell_type": "code",
   "execution_count": 22,
   "metadata": {},
   "outputs": [
    {
     "name": "stdout",
     "output_type": "stream",
     "text": [
      "1 2 1 2 1 1 1 1 1 1 "
     ]
    }
   ],
   "source": [
    "def uniDa(allnumbers):\n",
    "    unque=[]\n",
    "    for n in allnumbers:\n",
    "        if n not in unque:\n",
    "            unque.append(n)\n",
    "    return unque\n",
    "\n",
    "def digitfre(s):\n",
    "    allnumbers=[]\n",
    "    for i in s:\n",
    "        if i.isdigit():\n",
    "            allnumbers.append(i)\n",
    "    un=uniDa(allnumbers)\n",
    "    for i in range(0,10):\n",
    "        if str(i) not in un:\n",
    "            print(0,end=\" \")\n",
    "        else:\n",
    "            count=allnumbers.count(str(i))\n",
    "            print(count,end=\" \")\n",
    "\n",
    "digitfre(\"09876543211adlrfkvm3\")\n",
    "        \n",
    "\n",
    "    \n"
   ]
  },
  {
   "cell_type": "code",
   "execution_count": 20,
   "metadata": {},
   "outputs": [
    {
     "name": "stdout",
     "output_type": "stream",
     "text": [
      "09876543211adlrfkvm3\n",
      "1 2 1 2 1 1 1 1 1 1 "
     ]
    }
   ],
   "source": [
    "def model2(s):\n",
    "    for i in range(0,10):\n",
    "        count=s.count(str(i))\n",
    "        print(count,end=\" \")\n",
    "s=input()\n",
    "model2(s)"
   ]
  },
  {
   "cell_type": "code",
   "execution_count": 1,
   "metadata": {},
   "outputs": [],
   "source": [
    "#contacts Application\n",
    "    # Add,Search,List,Modify Delete Contacts\n",
    "    \n",
    "# Find and Replace Application\n",
    "    # Count the total number of occurances of a word\n",
    "    # If word is existing \n",
    "    # Replace all occurances of word with another word\n",
    "    \n",
    "    \n",
    "# Marks Analysis Application\n",
    "    # Generate marks file-\n",
    "    # Input: Marks text file - each line contacts marks of students\n",
    "    # Generates a report with with the following information\n",
    "        # Class Average class(filepath)\n",
    "        # % Of Students passed        all are same filepath\n",
    "        # % of Students failed\n",
    "        # % of students with Distinction\n",
    "        # Frequency of highest marks\n",
    "        # Frequency of lowest markss\n",
    "        \n",
    "        # common function that calls all the 6 sub functions generateReport(filepath)"
   ]
  },
  {
   "cell_type": "code",
   "execution_count": null,
   "metadata": {},
   "outputs": [],
   "source": []
  },
  {
   "cell_type": "code",
   "execution_count": 17,
   "metadata": {},
   "outputs": [
    {
     "name": "stdout",
     "output_type": "stream",
     "text": [
      "ammma\n",
      "9440772640\n",
      "ammma123@gmail.com\n",
      "ammma added to contacts file\n"
     ]
    }
   ],
   "source": [
    "#Function to add contact to contacts text file if doestn't only add\n",
    "from Packages.validators import phoneNumberValidator as pnv ,emailValidator as env\n",
    "\n",
    "import re \n",
    "def addContact(name,phone,email):\n",
    "    \n",
    "    # store data as name,phone,email in the contacts file\n",
    "    filename='Data\\contacts.txt'\n",
    "    if not checkContactExists(name):\n",
    "        if pnv(phone) and env(email):\n",
    "            with open (filename,'a') as f:\n",
    "                line = name + ',' + str(phone) + ',' + email + '\\n'\n",
    "                f.write(line)\n",
    "            print(name,'added to contacts file')\n",
    "        else:\n",
    "            print(\"Invalid Phone Number\")\n",
    "            print(\"Invalid Email\")\n",
    "            return \n",
    "    else:\n",
    "        print(name,'already exists')\n",
    "    return\n",
    "def checkContactExists(name):\n",
    "    filename='Data\\contacts.txt'\n",
    "    with open (filename,'r') as f:\n",
    "        filedata=f.read()\n",
    "        pattern=name + ','\n",
    "        return re.search(pattern,filedata)\n",
    "name=input()\n",
    "phone=input()\n",
    "email=input()\n",
    "addContact(name,phone,email)"
   ]
  },
  {
   "cell_type": "code",
   "execution_count": 37,
   "metadata": {},
   "outputs": [
    {
     "name": "stdout",
     "output_type": "stream",
     "text": [
      "dsjciofherfjrefjper\n",
      "dsjciofherfjrefjper doesnot exists\n"
     ]
    }
   ],
   "source": [
    "def searchContact(name):\n",
    "        with open (filename, 'r') as f:\n",
    "            filedata=f.read()\n",
    "            if name in filedata:\n",
    "                print(\"%s exists\"%name)\n",
    "            else:\n",
    "                print(\"%s doesnot exists\"%name)\n",
    "filename='Data Files\\contacts.txt'\n",
    "name=input()\n",
    "searchContact(name)\n",
    "            "
   ]
  },
  {
   "cell_type": "code",
   "execution_count": null,
   "metadata": {},
   "outputs": [],
   "source": []
  },
  {
   "cell_type": "code",
   "execution_count": 1,
   "metadata": {},
   "outputs": [
    {
     "name": "stdout",
     "output_type": "stream",
     "text": [
      "50\n",
      "1\n",
      "100\n",
      "50 Marks stored/Generated in file Successfully\n"
     ]
    }
   ],
   "source": [
    "# Generation of marks Function\n",
    "from random import randint\n",
    "\n",
    "def GenerateMarks(n,lb,ub):\n",
    "    filepath='Data\\marks.txt'\n",
    "    with open(filepath,'w') as f:\n",
    "        for i in range(0,n):\n",
    "            r=randint(lb,ub)\n",
    "            f.write(str(r)+'\\n')\n",
    "    print(n,\"Marks stored/Generated in file Successfully\")\n",
    "        \n",
    "n=int(input())\n",
    "lb=int(input())\n",
    "ub=int(input())\n",
    "GenerateMarks(n,lb,ub)\n",
    "    "
   ]
  },
  {
   "cell_type": "code",
   "execution_count": 2,
   "metadata": {},
   "outputs": [
    {
     "data": {
      "text/plain": [
       "47.06"
      ]
     },
     "execution_count": 2,
     "metadata": {},
     "output_type": "execute_result"
    }
   ],
   "source": [
    "# Class Average ---Class Average(filepath)\n",
    "# Sum of total students marks/total students count\n",
    "\n",
    "def classAverage(filepath):\n",
    "    sum=0\n",
    "    count=0\n",
    "    with open (filepath,'r') as f:\n",
    "        for i in f:\n",
    "            sum=sum+int(i)\n",
    "            count=count+1\n",
    "    return sum/count\n",
    "filepath='Data\\marks.txt'\n",
    "classAverage(filepath)\n",
    "            \n",
    "    "
   ]
  },
  {
   "cell_type": "code",
   "execution_count": 3,
   "metadata": {},
   "outputs": [
    {
     "data": {
      "text/plain": [
       "57.99999999999999"
      ]
     },
     "execution_count": 3,
     "metadata": {},
     "output_type": "execute_result"
    }
   ],
   "source": [
    "# Function to find the percentage of passed students\n",
    "\n",
    "def PassedPercentage(filepath):\n",
    "    count=0\n",
    "    tc=0\n",
    "    with open(filepath,'r') as f:\n",
    "        for i in f:\n",
    "            tc=tc+1\n",
    "            if (int(i)>=35):\n",
    "                count=count+1\n",
    "        return ((count/tc)*100)\n",
    "filepath='Data\\marks.txt'\n",
    "PassedPercentage(filepath)\n",
    "                "
   ]
  },
  {
   "cell_type": "code",
   "execution_count": 6,
   "metadata": {},
   "outputs": [
    {
     "data": {
      "text/plain": [
       "42.0"
      ]
     },
     "execution_count": 6,
     "metadata": {},
     "output_type": "execute_result"
    }
   ],
   "source": [
    "# Function to find the percentage of passed students\n",
    "\n",
    "def FailedPercentage(filepath):\n",
    "    count=0\n",
    "    tc=0\n",
    "    with open(filepath,'r') as f:\n",
    "        for i in f:\n",
    "            tc=tc+1\n",
    "            if (int(i)<35):\n",
    "                count=count+1\n",
    "        return ((count/tc)*100)\n",
    "filepath='Data\\marks.txt'\n",
    "FailedPercentage(filepath)\n",
    "                "
   ]
  },
  {
   "cell_type": "code",
   "execution_count": 5,
   "metadata": {},
   "outputs": [
    {
     "data": {
      "text/plain": [
       "20.0"
      ]
     },
     "execution_count": 5,
     "metadata": {},
     "output_type": "execute_result"
    }
   ],
   "source": [
    "# Function to find the % of DistinctionPercentage(filepath)\n",
    "# Total Distinction =(count/total students)*100\n",
    "\n",
    "\n",
    "def DistinctionPercentage(filepath):\n",
    "    count=0\n",
    "    tc=0\n",
    "    with open(filepath,'r') as f:\n",
    "        for i in f:\n",
    "            tc=tc+1\n",
    "            if (int(i)>=75):\n",
    "                count=count+1\n",
    "        return ((count/tc)*100)\n",
    "filepath='Data\\marks.txt'\n",
    "DistinctionPercentage(filepath)\n",
    "                \n",
    "                "
   ]
  },
  {
   "cell_type": "code",
   "execution_count": 7,
   "metadata": {},
   "outputs": [
    {
     "name": "stdout",
     "output_type": "stream",
     "text": [
      "98\n"
     ]
    },
    {
     "data": {
      "text/plain": [
       "3"
      ]
     },
     "execution_count": 7,
     "metadata": {},
     "output_type": "execute_result"
    }
   ],
   "source": [
    "# Frequencty of Highest mark --FrequencyHighest (filepath)\n",
    "def frequencyHighest(filepath):\n",
    "    with open(filepath,'r') as f:\n",
    "        li=f.read().split()\n",
    "        li=list(map(int,li))\n",
    "        print(max(li))\n",
    "        return li.count(max(li))\n",
    "filepath='Data\\marks.txt'\n",
    "frequencyHighest(filepath)"
   ]
  },
  {
   "cell_type": "code",
   "execution_count": 8,
   "metadata": {},
   "outputs": [
    {
     "name": "stdout",
     "output_type": "stream",
     "text": [
      "1\n"
     ]
    },
    {
     "data": {
      "text/plain": [
       "1"
      ]
     },
     "execution_count": 8,
     "metadata": {},
     "output_type": "execute_result"
    }
   ],
   "source": [
    "# Frequency of Lowest Marks ---FrequencyLowest(filepath)\n",
    "def LowestFrequency(filepath):\n",
    "    with open(filepath,'r') as f:\n",
    "        li=f.read().split()\n",
    "        li=list(map(int,li))\n",
    "        print(min(li))\n",
    "        return li.count(min(li))\n",
    "filepath='Data\\marks.txt'\n",
    "LowestFrequency(filepath)\n"
   ]
  },
  {
   "cell_type": "code",
   "execution_count": null,
   "metadata": {},
   "outputs": [],
   "source": []
  },
  {
   "cell_type": "markdown",
   "metadata": {},
   "source": [
    "### Marks Application (Marks Report)"
   ]
  },
  {
   "cell_type": "code",
   "execution_count": 9,
   "metadata": {},
   "outputs": [
    {
     "name": "stdout",
     "output_type": "stream",
     "text": [
      "Choose option:\n",
      " 1.Generation Of Marks:\n",
      " 2.Class Average:\n",
      " 3.Percentage of fail:\n",
      " 4.Percentage of Pass:\n",
      " 5.Percentage of Distinction:\n",
      " 6.FrequencyHighest:\n",
      " 7.Frequency of Lowest\n",
      ":2\n",
      "Enter No of Students marks30\n",
      "30 Marks stored/Generated in file Successfully\n",
      "49.8\n",
      "Choose option:\n",
      " 1.Generation Of Marks:\n",
      " 2.Class Average:\n",
      " 3.Percentage of fail:\n",
      " 4.Percentage of Pass:\n",
      " 5.Percentage of Distinction:\n",
      " 6.FrequencyHighest:\n",
      " 7.Frequency of Lowest\n",
      ":3\n",
      "Enter No of Students marks40\n",
      "40 Marks stored/Generated in file Successfully\n",
      "65.0\n",
      "Choose option:\n",
      " 1.Generation Of Marks:\n",
      " 2.Class Average:\n",
      " 3.Percentage of fail:\n",
      " 4.Percentage of Pass:\n",
      " 5.Percentage of Distinction:\n",
      " 6.FrequencyHighest:\n",
      " 7.Frequency of Lowest\n",
      ":50\n",
      "Enter No of Students marks60\n",
      "60 Marks stored/Generated in file Successfully\n"
     ]
    }
   ],
   "source": [
    "def MarksGenerationReport(filepath):\n",
    "    while True:\n",
    "        n=int(input(\"Choose option:\\n 1.Generation Of Marks:\\n 2.Class Average:\\n 3.Percentage of fail:\\n 4.Percentage of Pass:\\n 5.Percentage of Distinction:\\n 6.FrequencyHighest:\\n 7.Frequency of Lowest\\n:\"))\n",
    "        st=int(input(\"Enter No of Students marks\"))\n",
    "        GenerateMarks(st,1,100)\n",
    "        if(n==1):\n",
    "            print(GenerateMarks(50,1,100))\n",
    "            st=int(input(\"enter marks\"))\n",
    "        elif(n==2):\n",
    "            print(classAverage(filepath))\n",
    "        elif(n==3):\n",
    "            print(PassedPercentage(filepath))\n",
    "        elif(n==4):\n",
    "            print(FailedPercentage(filepath))\n",
    "        elif(n==5):\n",
    "            print(DistinctionPercentage(filepath))\n",
    "        elif(n==6):\n",
    "            print(frequencyHighest(filepath))\n",
    "        elif(n==7):\n",
    "            print(LowestFrequency(filepath))\n",
    "        else:\n",
    "            break\n",
    "MarksGenerationReport('Data\\marks.txt')"
   ]
  },
  {
   "cell_type": "markdown",
   "metadata": {},
   "source": []
  },
  {
   "cell_type": "markdown",
   "metadata": {},
   "source": [
    "### Hacker earth exam questions"
   ]
  },
  {
   "cell_type": "code",
   "execution_count": 52,
   "metadata": {},
   "outputs": [
    {
     "name": "stdout",
     "output_type": "stream",
     "text": [
      "abc\n",
      "nbd\n"
     ]
    },
    {
     "data": {
      "text/plain": [
       "False"
      ]
     },
     "execution_count": 52,
     "metadata": {},
     "output_type": "execute_result"
    }
   ],
   "source": [
    "# Function to check the two strings are anagrams or not\n",
    "# abc cba----> True\n",
    "# aabbcc ---->ccbbaaa --->False\n",
    "\n",
    "def  ana(s1,s2):\n",
    "    if(len(s1)!=len(s2)):\n",
    "        return  False\n",
    "    if(sorted(s1)==sorted(s2)):\n",
    "        return True\n",
    "    else:\n",
    "        return False   \n",
    "s1=input()\n",
    "s2=input()\n",
    "ana(s1,s2)\n"
   ]
  },
  {
   "cell_type": "code",
   "execution_count": 71,
   "metadata": {},
   "outputs": [
    {
     "name": "stdout",
     "output_type": "stream",
     "text": [
      "abcde\n",
      "cdjfjdfe\n",
      "{'c': 1, 'd': 1, 'e': 1}\n",
      "{'c': 1, 'd': 2, 'e': 1}\n"
     ]
    },
    {
     "data": {
      "text/plain": [
       "6"
      ]
     },
     "execution_count": 71,
     "metadata": {},
     "output_type": "execute_result"
    }
   ],
   "source": [
    "def chardeletionsAnagrams(s1,s2):\n",
    "    uncommon=[]\n",
    "    for i in s1:\n",
    "        if i not in s2:\n",
    "            uncommon.append(i)\n",
    "    for i in s2:\n",
    "        if i not in s1:\n",
    "            uncommon.append(i)\n",
    "    count=len(uncommon)\n",
    "    freqs1={}\n",
    "    freqs2={}\n",
    "    us1=[]\n",
    "    us2=[]\n",
    "    for i in s1:\n",
    "        if i not in uncommon and i not in us1:\n",
    "            freqs1[i]=s1.count(i)\n",
    "            us1.append(i)\n",
    "    print(freqs1)\n",
    "    for i in s2:\n",
    "        if i not in uncommon and i not in us2:\n",
    "            freqs2[i]=s2.count(i)\n",
    "            us2.append(i)\n",
    "    print(freqs2)\n",
    "    for key in freqs1.keys():\n",
    "        count+= abs(freqs1[key]-freqs2[key])\n",
    "        return count\n",
    "s1=input()\n",
    "s2=input()\n",
    "chardeletionsAnagrams(s1,s2)\n",
    "\n",
    "    "
   ]
  },
  {
   "cell_type": "code",
   "execution_count": null,
   "metadata": {},
   "outputs": [],
   "source": []
  },
  {
   "cell_type": "code",
   "execution_count": 69,
   "metadata": {},
   "outputs": [
    {
     "name": "stdout",
     "output_type": "stream",
     "text": [
      "1000 123456\n",
      "62228\n"
     ]
    }
   ],
   "source": [
    "n=list(map(int,input().split()))\n",
    "sum=0\n",
    "count=0\n",
    "for i in n:\n",
    "    sum=sum+i\n",
    "    count=count+1\n",
    "print(sum//count)"
   ]
  },
  {
   "cell_type": "code",
   "execution_count": 94,
   "metadata": {},
   "outputs": [
    {
     "data": {
      "text/plain": [
       "'b'"
      ]
     },
     "execution_count": 94,
     "metadata": {},
     "output_type": "execute_result"
    }
   ],
   "source": [
    "# Function to find the character having the kth largest frequency\n",
    "# Largest nuber in a list\n",
    "# Second Largest number in a list\n",
    "# Kth largest number in a list\n",
    "\n",
    "# Element with highest frequency\n",
    "# Second Highest frequency\n",
    "# Kth Highest frequency\n",
    "\n",
    "def largestFrequency(N,K):\n",
    "    # build the frequency dictionary for all unique characters\n",
    "    unique=[]\n",
    "    freq={}\n",
    "    for i in N:\n",
    "        if i not in freq.keys() :\n",
    "            freq[i]=N.count(i)\n",
    "    # Extract unique frequencies in descending \n",
    "    values=sorted(freq.values(),reverse=True)\n",
    "    uniquevalues=list(set(values))\n",
    "    uniquevalues=sorted(uniquevalues,reverse=True)\n",
    "    # Identify the kth largest frequency\n",
    "    if K<=len(uniquevalues):\n",
    "        kvalue=uniquevalues[K-1]\n",
    "    else:\n",
    "        return -1\n",
    "    # Get all elements with kth largest frequecy \n",
    "    li=[]\n",
    "    for item in  freq.items():\n",
    "        if item[1]==kvalue:\n",
    "            li.append(item[0])\n",
    "    # Minimum of Kth Largest frequency\n",
    "    return min(li)\n",
    "largestFrequency('aabcdcc',3)\n",
    "    \n",
    "            "
   ]
  },
  {
   "cell_type": "code",
   "execution_count": null,
   "metadata": {},
   "outputs": [],
   "source": []
  }
 ],
 "metadata": {
  "kernelspec": {
   "display_name": "Python 3",
   "language": "python",
   "name": "python3"
  },
  "language_info": {
   "codemirror_mode": {
    "name": "ipython",
    "version": 3
   },
   "file_extension": ".py",
   "mimetype": "text/x-python",
   "name": "python",
   "nbconvert_exporter": "python",
   "pygments_lexer": "ipython3",
   "version": "3.7.3"
  }
 },
 "nbformat": 4,
 "nbformat_minor": 2
}
