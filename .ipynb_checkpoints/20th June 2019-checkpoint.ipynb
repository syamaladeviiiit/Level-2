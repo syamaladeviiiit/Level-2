{
 "cells": [
  {
   "cell_type": "markdown",
   "metadata": {},
   "source": [
    "## Day Objectives\n",
    "\n",
    "- Day Objectives\n",
    "  - Regular Expressions\n",
    "     - Constructing Regular Expressions for various use cases\n",
    "     - Regular Expressions Module and related in Python\n",
    "     - Improving the Contacts application with name and phone number validation using regular expressions \n",
    "  - File Handling\n",
    "     - Text Files\n",
    "     - Upgrading the Contacts Application to store contact information in a text file "
   ]
  },
  {
   "cell_type": "markdown",
   "metadata": {},
   "source": [
    "### Regular Expressions\n",
    " - Pattern Matching\n",
    " - Symbolic Notation of a pattern\n",
    "     - Pattern: Format which repeats\n",
    "     - Pattern(RE)- Represents the se of all values that matches the pattern\n",
    " - [0-9]----> Any digit\n",
    " - [a-z]----> Any lower case character or alphabet\n",
    " - [8642]---->All single digit multiples of 2\n",
    " - [2486]---->Order may be in Any form\n",
    " \n",
    " - ^[0-9]{1}$--->Only single digit number  1\n",
    " \n",
    " - ^[0-9]{2}$--->Only two digit numbers   34\n",
    " \n",
    " - ^[a-z]{2}$---> Only two alphabets      gh\n",
    " \n",
    " - ^[1-9][0-9]*[05]$ ----> All Multiples of 5   \n",
    " \n",
    "          -  Using the or ^[1-9][0-9]*[05]$|^([5])$\n",
    " \n",
    " -  ^[0-9]{10}$ -----> All 10 digit numbers\n",
    "  \n",
    " \n",
    " - [w][o][r][d] or (word)   ----> Searching for a 'word'\n",
    " \n",
    " -  ^[6-9]{1}[0-9]{9}$  ------> Valid phone number in India\n",
    " \n",
    "              -  ^[6-9][0-9]{9}$|^[0][6-9][0-9]{9}|^[+][9][1][6-9][0-9]{9}$\n",
    " \n",
    " - Email Validation(username@domain extension)\n",
    "     - username\n",
    "         - Length of suername :       [6,15]            ^[0-9a-z][0-9a-z_.]{4,13}[0-9a-z]$\n",
    "         - No special characters other than _.\n",
    "         - Should not begin and end with _.                 \n",
    "         - Characters Set : all digits and lower case alphabet\n",
    "     - domain\n",
    "         - Length of domain :         [3,18]\n",
    "         - No Special Characters\n",
    "         - Character Set: all digits and lower case alphabet\n",
    "                \n",
    "     - extension\n",
    "         - Length of extension :      [2,4]\n",
    "         - No special characters\n",
    "         - Character Set : alphabet\n",
    "         \n",
    "    ### EmailExtension\n",
    "    \n",
    "    \n",
    " \n",
    "  - **^[0-9a-z][0-9a-z_.]{4,13}[@][0-9a-z]{3,18}[.][a-z]{2,4}|[.][a-z]{2,4}$**\n",
    "  \n",
    "  \n",
    "  -    ^[a]...[z]$    -----> Any string of length 5 that starts with 'a' and ends with 'z'\n",
    "  \n",
    "   -    ^[a].*[z]$    -----> Any string of length of any that starts with 'a' and ends with 'z'\n",
    "    \n",
    "    \n",
    "    \n",
    "      \n",
    " "
   ]
  },
  {
   "cell_type": "code",
   "execution_count": null,
   "metadata": {},
   "outputs": [],
   "source": []
  },
  {
   "cell_type": "markdown",
   "metadata": {},
   "source": [
    "### Validating the Phone number"
   ]
  },
  {
   "cell_type": "code",
   "execution_count": 7,
   "metadata": {},
   "outputs": [
    {
     "name": "stdout",
     "output_type": "stream",
     "text": [
      "+919063066886\n"
     ]
    },
    {
     "data": {
      "text/plain": [
       "True"
      ]
     },
     "execution_count": 7,
     "metadata": {},
     "output_type": "execute_result"
    }
   ],
   "source": [
    "# Function to Validate a phone nuber\n",
    "\n",
    "import re\n",
    "\n",
    "def phoneNumberValidator(n):\n",
    "    pattern='^[6-9][0-9]{9}$|^[0][6-9][0-9]{9}$|^[+][9][1][6-9][0-9]{9}$'\n",
    "    if re.match(pattern,str(n)):\n",
    "        return True\n",
    "    return False\n",
    "n=input()\n",
    "phoneNumberValidator(n)\n",
    "\n",
    "    "
   ]
  },
  {
   "cell_type": "code",
   "execution_count": 10,
   "metadata": {},
   "outputs": [
    {
     "name": "stdout",
     "output_type": "stream",
     "text": [
      "jdjs\n"
     ]
    },
    {
     "data": {
      "text/plain": [
       "False"
      ]
     },
     "execution_count": 10,
     "metadata": {},
     "output_type": "execute_result"
    }
   ],
   "source": [
    "def emailValidator(email):\n",
    "    pattern='^[0-9a-z][0-9a-z_.]{4,13}[@][0-9a-z]{3,18}[.][a-z]{2,4}|[.][a-z]{2,4}$'\n",
    "    if re.match(pattern,email):\n",
    "        return True\n",
    "    return False\n",
    "email= input()\n",
    "emailValidator(email)\n"
   ]
  },
  {
   "cell_type": "code",
   "execution_count": 11,
   "metadata": {},
   "outputs": [
    {
     "name": "stdout",
     "output_type": "stream",
     "text": [
      "syam\n",
      "9063066886\n",
      "syam123@gmail.com\n",
      "syam added Succesfully\n"
     ]
    }
   ],
   "source": [
    "contacts={\"syamu\":[8331063380,'name@domain.ext'],\"name1\":[8331063380,'name1@domain.ext']}\n",
    "def addContact(name,phone,email):\n",
    "    # Verify the contact doesnot already exist \n",
    "    if name in contacts:\n",
    "        print(name,\"already exists.\")\n",
    "    else:\n",
    "        if not phoneNumberValidator(phone):\n",
    "            print(\"Invalid Phone number\")\n",
    "        if not emailValidator(email):\n",
    "            print(\"Invalid Email address\")\n",
    "            return\n",
    "    newcontact =[]\n",
    "    newcontact.append(phone)\n",
    "    newcontact.append(email)\n",
    "    contacts[name]=newcontact\n",
    "    print(name,\"added Succesfully\")\n",
    "    return\n",
    "name=input()\n",
    "phone=int(input())\n",
    "email=input()\n",
    "#print(contacts)\n",
    "addContact(name,phone,email)"
   ]
  },
  {
   "cell_type": "code",
   "execution_count": 12,
   "metadata": {},
   "outputs": [
    {
     "data": {
      "text/plain": [
       "{'syamu': [8331063380, 'name@domain.ext'],\n",
       " 'name1': [8331063380, 'name1@domain.ext'],\n",
       " 'syam': [9063066886, 'syam123@gmail.com']}"
      ]
     },
     "execution_count": 12,
     "metadata": {},
     "output_type": "execute_result"
    }
   ],
   "source": [
    "contacts\n"
   ]
  },
  {
   "cell_type": "code",
   "execution_count": 14,
   "metadata": {},
   "outputs": [
    {
     "name": "stdout",
     "output_type": "stream",
     "text": [
      "syam\n",
      "syam\n",
      "Phone: 9063066886\n",
      "Email: syam123@gmail.com\n"
     ]
    }
   ],
   "source": [
    "def searchContacts(name):\n",
    "    if name in contacts:\n",
    "        print(name)\n",
    "        print(\"Phone:\",contacts[name][0])\n",
    "        print(\"Email:\",contacts[name][1])\n",
    "    else:\n",
    "        print(\"%s does not exist\" % name)\n",
    "    return\n",
    "name=input()\n",
    "searchContacts(name)"
   ]
  },
  {
   "cell_type": "code",
   "execution_count": 15,
   "metadata": {},
   "outputs": [
    {
     "name": "stdout",
     "output_type": "stream",
     "text": [
      "name2\n",
      "name3\n",
      "98858841848\n",
      "9063966886\n",
      "2 contacts  added successfully\n",
      "{'syamu': [8331063380, 'name@domain.ext'], 'name1': [8331063380, 'name1@domain.ext'], 'syam': [9063066886, 'syam123@gmail.com']}\n",
      "{'syamu': [8331063380, 'name@domain.ext'], 'name1': [8331063380, 'name1@domain.ext']}\n"
     ]
    }
   ],
   "source": [
    "def importContacts(newConctacts):\n",
    "    contacts.update(newContacts)\n",
    "    print(len(newContacts.keys()),\"contacts  added successfully\")\n",
    "    print(contacts)\n",
    "    print(newContacts)\n",
    "    return\n",
    "name2=input()\n",
    "name3=input()\n",
    "phone2=input()\n",
    "phone3=input()\n",
    "newContacts={\"syamu\":[8331063380,'name@domain.ext'],\"name1\":[8331063380,'name1@domain.ext']}\n",
    "importContacts(newContacts)"
   ]
  },
  {
   "cell_type": "code",
   "execution_count": 39,
   "metadata": {},
   "outputs": [
    {
     "data": {
      "text/plain": [
       "{'syamu': [8331063380, 'name@domain.ext'],\n",
       " 'name1': [8331063380, 'name1@domain.ext']}"
      ]
     },
     "execution_count": 39,
     "metadata": {},
     "output_type": "execute_result"
    }
   ],
   "source": [
    "newContacts"
   ]
  },
  {
   "cell_type": "code",
   "execution_count": 20,
   "metadata": {},
   "outputs": [
    {
     "name": "stdout",
     "output_type": "stream",
     "text": [
      "syamu \n",
      " Phone: 8331063380 \n",
      " Email: name@domain.ext\n",
      "name1 \n",
      " Phone: 8331063380 \n",
      " Email: name1@domain.ext\n",
      "syam \n",
      " Phone: 9063066886 \n",
      " Email: syam123@gmail.com\n"
     ]
    }
   ],
   "source": [
    "def listAllContacts():\n",
    "    for contact,info in contacts.items():\n",
    "        print(contact,\"\\n\",\"Phone:\",info[0],\"\\n\",\"Email:\",info[1])\n",
    "    return\n",
    "listAllContacts()"
   ]
  },
  {
   "cell_type": "code",
   "execution_count": 2,
   "metadata": {},
   "outputs": [
    {
     "name": "stdout",
     "output_type": "stream",
     "text": [
      "syj\n",
      "56789\n",
      "cme\n",
      "syj Not Exists\n"
     ]
    }
   ],
   "source": [
    "contacts={}\n",
    "def edit(name,phone,email):\n",
    "    if name in contacts:\n",
    "        contacts[name]=phone\n",
    "        print(\"Contact %s Added \"%phone)\n",
    "    else:\n",
    "        print(\"%s Not Exists\"%name)\n",
    "name=input()\n",
    "phone=int(input())\n",
    "email=input()\n",
    "edit(name,phone,email)"
   ]
  },
  {
   "cell_type": "code",
   "execution_count": null,
   "metadata": {},
   "outputs": [],
   "source": [
    " "
   ]
  },
  {
   "cell_type": "code",
   "execution_count": 1,
   "metadata": {},
   "outputs": [
    {
     "name": "stdout",
     "output_type": "stream",
     "text": [
      "syamu\n",
      "8331063380\n",
      "contact syamu already exists\n"
     ]
    }
   ],
   "source": [
    "contacts={\"syamu\":[8331063380,'name@domain.ext'],\"name1\":[8331063380,'name1@domain.ext']}\n",
    "def addContact(name,phone,email):\n",
    "    # Verify the contact doesnot already exist \n",
    "    if name not in contacts and phoneNumberValidator(phone):\n",
    "        contacts[name]=phone\n",
    "        print(\"Contact %s Added\" % name)\n",
    "    if name in contacts:\n",
    "        print(\"contact %s already exists\" % name)\n",
    "    #elif not phoneNumberValidator(phone):\n",
    "        #print(\"Invalid phone numberr\")\n",
    "    return\n",
    "name=input()\n",
    "phone=int(input())\n",
    "email=input()\n",
    "#print(contacts)\n",
    "addContact(name,phone,email)"
   ]
  },
  {
   "cell_type": "code",
   "execution_count": null,
   "metadata": {},
   "outputs": [],
   "source": []
  },
  {
   "cell_type": "code",
   "execution_count": 95,
   "metadata": {},
   "outputs": [
    {
     "name": "stdout",
     "output_type": "stream",
     "text": [
      "syamu\n",
      "syamu exists [8331063380, 'name@domain.ext']\n"
     ]
    }
   ],
   "source": [
    "def searchContacts(name):\n",
    "    if name in contacts:\n",
    "        print(name,\"exists\",contacts[name])\n",
    "    else:\n",
    "        print(\"%s does not exist\" % name)\n",
    "    return\n",
    "name=input()\n",
    "searchContacts(name)"
   ]
  },
  {
   "cell_type": "code",
   "execution_count": 22,
   "metadata": {},
   "outputs": [
    {
     "name": "stdout",
     "output_type": "stream",
     "text": [
      "dfdjf\n",
      "fdfjio\n",
      "8331063380\n",
      "9075347882\n",
      "2 contacts  added successfully\n"
     ]
    }
   ],
   "source": [
    "def importContacts(newConctacts):\n",
    "    contacts.update(newContacts)\n",
    "    print(len(newContacts.keys()),\"contacts  added successfully\")\n",
    "    return\n",
    "name2=input()\n",
    "name3=input()\n",
    "phone2=input()\n",
    "phone3=input()\n",
    "email2=input()\n",
    "email3=input()\n",
    "newContacts={name2:phone2,name3:phone3}\n",
    "importContacts(newContacts)"
   ]
  },
  {
   "cell_type": "code",
   "execution_count": null,
   "metadata": {},
   "outputs": [],
   "source": [
    "def removeContacts(name):\n",
    "    if name in contacts:\n",
    "        contacts.pop(name)\n",
    "        print(\"%s removed\"% name)\n",
    "    else:\n",
    "        print(\"%s not does not exists \"% name)\n",
    "    return\n",
    "name=input()\n",
    "removeContacts(name)\n",
    "        \n",
    "    "
   ]
  },
  {
   "cell_type": "code",
   "execution_count": 23,
   "metadata": {},
   "outputs": [
    {
     "data": {
      "text/plain": [
       "{'dfdjf': '8331063380', 'fdfjio': '9075347882'}"
      ]
     },
     "execution_count": 23,
     "metadata": {},
     "output_type": "execute_result"
    }
   ],
   "source": [
    "newContacts"
   ]
  },
  {
   "cell_type": "code",
   "execution_count": null,
   "metadata": {},
   "outputs": [],
   "source": []
  },
  {
   "cell_type": "markdown",
   "metadata": {},
   "source": [
    "### Ali and help his innocent friends"
   ]
  },
  {
   "cell_type": "code",
   "execution_count": 13,
   "metadata": {},
   "outputs": [
    {
     "name": "stdout",
     "output_type": "stream",
     "text": [
      "12X345-78\n",
      "invalid\n"
     ]
    }
   ],
   "source": [
    "s=input()\n",
    "if(len(s)>9):\n",
    "    print(\"invalid\")\n",
    "else:\n",
    "    if (s[2]!=\"A\" ) and (s[2]!= \"E\") and (s[2]!=\"i\" )and (s[2]!=\"O\") and (s[2]!=\"U\") and (s[2]!=\"Y\"):\n",
    "        if((int(s[0])+int(s[1]))%2==0 and (int(s[3])+int(s[4]))%2==0 and (int(s[4])+int(s[5]))%2==0 and (int(s[7])+int(s[8]))%2==0 ):\n",
    "            print(\"valid\")\n",
    "        else:\n",
    "            print(\"invalid\")\n",
    "    else:\n",
    "        print(\"valid\")"
   ]
  },
  {
   "cell_type": "code",
   "execution_count": 15,
   "metadata": {},
   "outputs": [
    {
     "name": "stdout",
     "output_type": "stream",
     "text": [
      "13Y357-22\n",
      "valid\n"
     ]
    }
   ],
   "source": [
    "s=input()\n",
    "if(len(s)>9):\n",
    "    print(\"invalid\")\n",
    "else:\n",
    "    if ((s[2]!=\"A\")  and (s[2]!= \"E\") and (s[2]!=\"I\" )and (s[2]!=\"O\") and (s[2]!=\"U\") and (s[2]!=\"Y\")):\n",
    "        if((int(s[0])+int(s[1]))%2==0 and (int(s[3])+int(s[4]))%2==0 and (int(s[4])+int(s[5]))%2==0 and (int(s[7])+int(s[8]))%2==0 ):\n",
    "            print(\"valid\")\n",
    "        else:\n",
    "            print(\"invalid\")\n",
    "    else:\n",
    "        print(\"valid\")"
   ]
  },
  {
   "cell_type": "markdown",
   "metadata": {},
   "source": [
    "## Ali and Helping innocent people"
   ]
  },
  {
   "cell_type": "code",
   "execution_count": 16,
   "metadata": {},
   "outputs": [
    {
     "name": "stdout",
     "output_type": "stream",
     "text": [
      "13Y35-768\n",
      "invalid\n"
     ]
    }
   ],
   "source": [
    "# Determine yes or no Ali and Helping innocent people\n",
    "s=input()\n",
    "if(len(s)>9):\n",
    "    print(\"invalid\")\n",
    "else:\n",
    "    if ((s[2]!=\"A\")  and (s[2]!= \"Y\") and (s[2]!=\"I\" )and (s[2]!=\"O\") and (s[2]!=\"U\") and (s[2]!=\"E\")and ((int(s[0])+int(s[1]))%2==0 and (int(s[3])+int(s[4]))%2==0 and (int(s[4])+int(s[5]))%2==0 and (int(s[7])+int(s[8]))%2==0 )):\n",
    "        print(\"valid\")\n",
    "    else:\n",
    "        print(\"invalid\")\n"
   ]
  },
  {
   "cell_type": "markdown",
   "metadata": {},
   "source": [
    "## Ladderophilia"
   ]
  },
  {
   "cell_type": "code",
   "execution_count": 96,
   "metadata": {},
   "outputs": [
    {
     "name": "stdout",
     "output_type": "stream",
     "text": [
      "4\n",
      "*   *\n",
      "*   *\n",
      "*****\n",
      "*   *\n",
      "*   *\n",
      "*****\n",
      "*   *\n",
      "*   *\n",
      "*****\n",
      "*   *\n",
      "*   *\n",
      "*****\n",
      "*   *\n",
      "*   *\n"
     ]
    }
   ],
   "source": [
    "# Generate the Pattern of the following\n",
    "n=int(input())\n",
    "for i in range(n):\n",
    "    for j in range(2):\n",
    "        print(\"*\",end=\"   \")\n",
    "        print(\"*\")\n",
    "    print(\"*****\")\n",
    "for k in range(2):\n",
    "    print(\"*\",end=\"   \")\n",
    "    print(\"*\")"
   ]
  },
  {
   "cell_type": "code",
   "execution_count": null,
   "metadata": {},
   "outputs": [],
   "source": []
  },
  {
   "cell_type": "markdown",
   "metadata": {},
   "source": [
    "## File Handling in Python\n",
    "\n",
    "**File** - Document containing information residing on the permanent storage \n",
    "\n",
    "**Types**- Text,PDF,CSV etc\n",
    "\n",
    "**File I/O**  Channelling  I/O -data to files for Reading and writing \n",
    "\n",
    "Read a file  - Input from file\n",
    "\n",
    "Write to a file - Output to a file\n",
    "\n",
    "Read a file - open (filename,mode)\n",
    "\n",
    "Read/Write  file -open(filename,mode)\n",
    "\n"
   ]
  },
  {
   "cell_type": "markdown",
   "metadata": {},
   "source": [
    "### Reading A File"
   ]
  },
  {
   "cell_type": "code",
   "execution_count": 52,
   "metadata": {},
   "outputs": [
    {
     "data": {
      "text/plain": [
       "['Line1', 'Line2', 'Line3', '']"
      ]
     },
     "execution_count": 52,
     "metadata": {},
     "output_type": "execute_result"
    }
   ],
   "source": [
    "# Function to read a file\n",
    "\n",
    "def readFile(filename):\n",
    "    f=open(filename,'r')\n",
    "    filedata=f.read()\n",
    "    f.close()\n",
    "    return filedata\n",
    "filename='Data Files\\data.txt'\n",
    "readFile(filename).split('\\n')\n"
   ]
  },
  {
   "cell_type": "markdown",
   "metadata": {},
   "source": [
    "### Reading a File in another way"
   ]
  },
  {
   "cell_type": "code",
   "execution_count": 48,
   "metadata": {},
   "outputs": [
    {
     "name": "stdout",
     "output_type": "stream",
     "text": [
      "Line1\n",
      "Line2\n",
      "Line3\n",
      "\n"
     ]
    }
   ],
   "source": [
    "# Function to read a file\n",
    "\n",
    "def readFile(filename):\n",
    "    f=open(filename,'r')\n",
    "    filedata=f.read()\n",
    "    f.close()\n",
    "    return filedata\n",
    "filename='Data Files\\data.txt'\n",
    "filedata=readFile(filename)\n",
    "#readFile(filename).split('\\n')\n",
    "for line in readFile(filename).split('\\n'):\n",
    "    print(line)\n"
   ]
  },
  {
   "cell_type": "markdown",
   "metadata": {},
   "source": [
    "### Reading the data in files in anoter way"
   ]
  },
  {
   "cell_type": "code",
   "execution_count": 57,
   "metadata": {},
   "outputs": [
    {
     "name": "stdout",
     "output_type": "stream",
     "text": [
      "Line1\n",
      "Line2\n",
      "Line3\n",
      "Line1\n",
      "Line2\n",
      "Line3\n",
      "\n"
     ]
    }
   ],
   "source": [
    "# Define file data\n",
    "\n",
    "# Function to read a file\n",
    "\n",
    "def readFile(filename):\n",
    "    f=open(filename,'r')\n",
    "    filedata=f.read()\n",
    "    f.close()\n",
    "    return filedata\n",
    "filename='Data Files\\data.txt'\n",
    "filedata=readFile(filename)\n",
    "\n",
    "\n",
    "def printFileDataLines(filename):\n",
    "    f=open(filename,'r')\n",
    "    for line in f:\n",
    "        print(line,end='')\n",
    "    return\n",
    "printFileDataLines(filename)\n",
    "\n",
    "print(readFile(filename))"
   ]
  },
  {
   "cell_type": "code",
   "execution_count": 61,
   "metadata": {},
   "outputs": [
    {
     "name": "stdout",
     "output_type": "stream",
     "text": [
      "Line1\n",
      "Line2\n",
      "Line3\n",
      "Line1\n",
      "Line2\n",
      "Line3\n",
      "\n"
     ]
    }
   ],
   "source": [
    "# Define file data\n",
    "\n",
    "# Function to read a file\n",
    "\n",
    "def readFile(filename):\n",
    "    f=open(filename,'r')\n",
    "    filedata=f.read()\n",
    "    f.close()\n",
    "    return filedata\n",
    "filename='Data Files\\data.txt'\n",
    "filedata=readFile(filename)\n",
    "\n",
    "\n",
    "def printFileDataLines(filename):\n",
    "    with open(filename,'r') as f:\n",
    "        for line in f:\n",
    "            print(line,end='')\n",
    "    return\n",
    "printFileDataLines(filename)\n",
    "\n",
    "#print(readFile(filename))"
   ]
  },
  {
   "cell_type": "markdown",
   "metadata": {},
   "source": [
    "## Write data into a file"
   ]
  },
  {
   "cell_type": "code",
   "execution_count": 5,
   "metadata": {},
   "outputs": [],
   "source": [
    "# Function to write data into a file\n",
    "\n",
    "def writeINTOFile(filename,filedata):\n",
    "    with open(filename,'w') as f:\n",
    "        f.write(filedata)\n",
    "    return \n",
    "filename='Data Files/data.txt'\n",
    "\n",
    "writeINTOFile(filename,\"name1,9888588418,name22344@gmail.com\")\n",
    "    "
   ]
  },
  {
   "cell_type": "code",
   "execution_count": null,
   "metadata": {},
   "outputs": [],
   "source": []
  },
  {
   "cell_type": "code",
   "execution_count": 90,
   "metadata": {},
   "outputs": [],
   "source": [
    "def appendDataToFile(filename,filedata):\n",
    "    with open(filename,'a') as f:\n",
    "        f.writelines(filedata)\n",
    "    return \n",
    "filedata=[\"Line2,Line3\"]\n",
    "\n",
    "appendDataToFile(filename,filedata)\n",
    "    "
   ]
  },
  {
   "cell_type": "code",
   "execution_count": null,
   "metadata": {},
   "outputs": [],
   "source": []
  },
  {
   "cell_type": "code",
   "execution_count": 94,
   "metadata": {},
   "outputs": [],
   "source": [
    "def appendDataToFile(filename,filedata):\n",
    "    with open(filename,'a') as f:\n",
    "        f.write(filedata)\n",
    "    return \n",
    "filedata=\"\\nLine2\\nLine7\"\n",
    "\n",
    "appendDataToFile(filename,filedata)"
   ]
  },
  {
   "cell_type": "code",
   "execution_count": 93,
   "metadata": {},
   "outputs": [],
   "source": [
    "def appendDataToFile(filename,filedata):\n",
    "    with open(filename,'a') as f:\n",
    "        f.writelines(\"\\n\"+line)\n",
    "    return \n",
    "filedata='Data Files/data.txt'\n",
    "appendDataToFile(filename,filedata)\n",
    "    "
   ]
  },
  {
   "cell_type": "code",
   "execution_count": 9,
   "metadata": {},
   "outputs": [
    {
     "name": "stdout",
     "output_type": "stream",
     "text": [
      "1346\n"
     ]
    }
   ],
   "source": [
    "# Function to count the most occuring numbers in a given series\n",
    "n=input().split()\n",
    "li=[]\n",
    "for i in n:\n",
    "    "
   ]
  },
  {
   "cell_type": "code",
   "execution_count": 3,
   "metadata": {},
   "outputs": [
    {
     "name": "stdout",
     "output_type": "stream",
     "text": [
      "name,19888588418,name22344@gmail.com\n",
      "line1\n"
     ]
    }
   ],
   "source": [
    "def readFile(filepath):\n",
    "    with open(filepath,'r')  as f:# Refference to the file object\n",
    "        filedata=f.read()\n",
    "    return filedata\n",
    "filepath = 'Data Files/data.txt'\n",
    "print(readFile(filepath))"
   ]
  },
  {
   "cell_type": "code",
   "execution_count": 4,
   "metadata": {},
   "outputs": [
    {
     "name": "stdout",
     "output_type": "stream",
     "text": [
      "Line1\n",
      "Line2\n",
      "line2\n"
     ]
    }
   ],
   "source": [
    "def readFile(filePath):\n",
    "    with open(filePath, 'r') as f:\n",
    "        filedata = f.read()\n",
    "    return filedata\n",
    "\n",
    "filePath = 'DataFiles/data.txt'\n",
    "print(readFile(filePath))"
   ]
  },
  {
   "cell_type": "code",
   "execution_count": 11,
   "metadata": {},
   "outputs": [
    {
     "name": "stdout",
     "output_type": "stream",
     "text": [
      "3\n"
     ]
    }
   ],
   "source": [
    "# Function to find the number of lines in a file\n",
    "def LileCount(filePath):\n",
    "    c=0\n",
    "    with open(filePath, 'r') as f:\n",
    "        filedata=f.read()\n",
    "        c=len(filedata.split())\n",
    "        print(c)\n",
    "\n",
    "filePath = 'Data Files/data.txt'\n",
    "LileCount(filePath)"
   ]
  },
  {
   "cell_type": "code",
   "execution_count": null,
   "metadata": {},
   "outputs": [],
   "source": []
  },
  {
   "cell_type": "code",
   "execution_count": null,
   "metadata": {},
   "outputs": [],
   "source": []
  }
 ],
 "metadata": {
  "kernelspec": {
   "display_name": "Python 3",
   "language": "python",
   "name": "python3"
  },
  "language_info": {
   "codemirror_mode": {
    "name": "ipython",
    "version": 3
   },
   "file_extension": ".py",
   "mimetype": "text/x-python",
   "name": "python",
   "nbconvert_exporter": "python",
   "pygments_lexer": "ipython3",
   "version": "3.7.3"
  }
 },
 "nbformat": 4,
 "nbformat_minor": 2
}
