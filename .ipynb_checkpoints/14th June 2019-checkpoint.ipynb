{
 "cells": [
  {
   "cell_type": "markdown",
   "metadata": {},
   "source": [
    "### Problem Solving and Programming in Python June 2019\n",
    "\n",
    "\n",
    "\n",
    "#### Date - 14th June 2019\n",
    "\n",
    "\n",
    "#### Day Objectives\n",
    "\n",
    "- Python Data Structures\n",
    "   - Lists\n",
    "   - Tuples\n",
    "   - Dictionaries\n",
    "- Basic Problem set on Data Structures\n",
    "- Advanced Problem set\n",
    "- Packages and Modules in Python"
   ]
  },
  {
   "cell_type": "markdown",
   "metadata": {},
   "source": [
    "## Python Data Structures\n",
    "\n",
    "\n",
    "\n",
    "### Lists"
   ]
  },
  {
   "cell_type": "code",
   "execution_count": 58,
   "metadata": {},
   "outputs": [
    {
     "data": {
      "text/plain": [
       "171.0"
      ]
     },
     "execution_count": 58,
     "metadata": {},
     "output_type": "execute_result"
    }
   ],
   "source": [
    "list =[123,987,654,234]\n",
    "\n",
    "list  # Access the entire list\n",
    "\n",
    "list[1] # Access an element with index in a list\n",
    "\n",
    "list[-2:] # Access all element from second element\n",
    "\n",
    "list[::-1]  # Accessing the reverse order\n",
    "\n",
    "list = list[::-1] # Assigning the reverse order to other variable\n",
    "list  # Calling the  reverse list varible\n",
    "\n",
    "list=list[::-1] # Again assigning the list which is going to reversing \n",
    "list # Calling the reversed list\n",
    "\n",
    "list[::2]  #Accessing the even index elements\n",
    "\n",
    "list[1::2] # Accessing the odd index elements\n",
    "\n",
    "\n",
    "\n",
    "    \n",
    "# Lists can be accessed ,manipulated in \n",
    "        # Direct Referencing  - [index ] it can be a list ,string,tuples\n",
    "        # Indirect Referencing (this is done by using the functions. Through functions we can manupulated the data)\n",
    "        \n",
    "list.insert(1,424) # Adding an element at a particular position\n",
    "list\n",
    "\n",
    "\n",
    "list.append(241)     # Adding an element to the end of the list\n",
    "list    # Element 241 is added to the end of the list\n",
    "\n",
    "\n",
    "list.insert(1,424) # Adding an element at a particular position\n",
    "list\n",
    "\n",
    "\n",
    "list.sort() # sort elements in ascendng order\n",
    "list\n",
    "\n",
    "list.pop() # Remove the last element in a list\n",
    "list\n",
    "\n",
    "list.pop(4) # Removing the element at a particular position\n",
    "list\n",
    "\n",
    "list1=[12,13,14]\n",
    "\n",
    "list.extend(list1) # Merge list1 into list\n",
    "list\n",
    "\n",
    "\n",
    "sum(list) # Gives out put of the adding the all elements in the list\n",
    "\n",
    "max(list) # Gives the output of highest element\n",
    "\n",
    "len(list)\n",
    "\n",
    "list\n",
    "\n",
    "list2=['a','b']\n",
    "list.extend(list2)\n",
    "list\n",
    "\n",
    "\n",
    "\n",
    "\n",
    "list.pop(-2)\n",
    "list\n",
    "\n",
    "list.pop(-1)\n",
    "list\n",
    "\n",
    "list\n",
    "\n",
    "\n",
    "\n",
    "#Average of list elements\n",
    "\n",
    "sum(list)#Average of list elements\n",
    "len(list)\n",
    "avg=sum(list)/len(list)\n",
    "avg\n",
    "\n",
    "\n",
    "# Average of all alternate elements\n",
    "avg = sum(list[::2])/len(list[::2])\n",
    "avg\n",
    "\n",
    "# Average of all odd elements\n",
    "\n",
    "avg=sum(list[1::2])/len(list[1::2])# Average of odd elements\n",
    "avg\n",
    " \n",
    "    \n",
    "    \n",
    "    \n"
   ]
  },
  {
   "cell_type": "code",
   "execution_count": 87,
   "metadata": {},
   "outputs": [
    {
     "data": {
      "text/plain": [
       "45"
      ]
     },
     "execution_count": 87,
     "metadata": {},
     "output_type": "execute_result"
    }
   ],
   "source": [
    "# Function to identity the second largest element in a list\n",
    "            # Sort the data and select the second last element\n",
    "            # Sort the data in reverse order,and select\n",
    "            # Remove the max element and then get the max of the next element\n",
    "            \n",
    "def secondLargest(l):    \n",
    "    l.sort()\n",
    "    return l[-2]\n",
    "l=[23,45,78,1,56] \n",
    "secondLargest(l)\n",
    "\n",
    "def genericLargest(l,n):\n",
    "    l.sort()\n",
    "    return l[-n]\n",
    "secondLargest(l)\n",
    "genericLargest(l,3)\n"
   ]
  },
  {
   "cell_type": "code",
   "execution_count": 96,
   "metadata": {},
   "outputs": [
    {
     "name": "stdout",
     "output_type": "stream",
     "text": [
      "key1\n"
     ]
    },
    {
     "data": {
      "text/plain": [
       "True"
      ]
     },
     "execution_count": 96,
     "metadata": {},
     "output_type": "execute_result"
    }
   ],
   "source": [
    "# Function to search for  data in alist\n",
    "\n",
    "def linearSearch(li,key):\n",
    "    if key in li:\n",
    "        return True\n",
    "    else:\n",
    "        return False\n",
    "li=[2,9,8,3,5,7]\n",
    "key=int(input(\"key\"))\n",
    "linearSearch(li,key)\n",
    "\n",
    "    \n",
    "# short cut\n",
    "\n",
    "def linear(list,key):\n",
    "    for index in range(0,len(li)): #  or for i in li \n",
    "        if li[index]==key:\n",
    "            return index \n",
    "    return -1\n",
    "li=[34,56,2,567,234,233]                      \n",
    "linearSearch(li,234)\n",
    "\n",
    "\n"
   ]
  },
  {
   "cell_type": "code",
   "execution_count": 103,
   "metadata": {},
   "outputs": [
    {
     "data": {
      "text/plain": [
       "0"
      ]
     },
     "execution_count": 103,
     "metadata": {},
     "output_type": "execute_result"
    }
   ],
   "source": [
    "def linearSearch2(li,key):\n",
    "    for element in li:\n",
    "        if element == key:\n",
    "            return li.index(element)\n",
    "        return -1\n",
    "li=[34,56,2,567,234,233]   \n",
    "linearSearch2(li,34)"
   ]
  },
  {
   "cell_type": "code",
   "execution_count": 106,
   "metadata": {},
   "outputs": [
    {
     "data": {
      "text/plain": [
       "4"
      ]
     },
     "execution_count": 106,
     "metadata": {},
     "output_type": "execute_result"
    }
   ],
   "source": [
    "def linearSearch3(li,key):\n",
    "    return li.index(key)\n",
    "li=[34,56,2,567,234,233]  \n",
    "linearSearch3(li,234)"
   ]
  },
  {
   "cell_type": "code",
   "execution_count": 111,
   "metadata": {},
   "outputs": [
    {
     "name": "stdout",
     "output_type": "stream",
     "text": [
      "key2222\n"
     ]
    },
    {
     "data": {
      "text/plain": [
       "-1"
      ]
     },
     "execution_count": 111,
     "metadata": {},
     "output_type": "execute_result"
    }
   ],
   "source": [
    "def linearSearch4(li,key):\n",
    "    if key in li:\n",
    "        return li.index(key)\n",
    "    else:\n",
    "        return -1\n",
    "li=[34,56,2,567,234,233] \n",
    "key=int(input(\"key\"))\n",
    "linearSearch4(li,key)"
   ]
  },
  {
   "cell_type": "code",
   "execution_count": 125,
   "metadata": {},
   "outputs": [
    {
     "name": "stdout",
     "output_type": "stream",
     "text": [
      "enter keym\n"
     ]
    },
    {
     "data": {
      "text/plain": [
       "2"
      ]
     },
     "execution_count": 125,
     "metadata": {},
     "output_type": "execute_result"
    }
   ],
   "source": [
    "# Fucntion to count the occurances of a character in a given string\n",
    "# \"Python  Programming \",m--->2\n",
    "\n",
    "def stringOccurance(String,Substring):\n",
    "    return String.count(Substring)\n",
    "String=\"Python Programming\"\n",
    "Substring=input(\"enter key\")\n",
    "stringOccurance(String,Substring)"
   ]
  },
  {
   "cell_type": "code",
   "execution_count": 119,
   "metadata": {},
   "outputs": [
    {
     "name": "stdout",
     "output_type": "stream",
     "text": [
      "cm\n"
     ]
    },
    {
     "data": {
      "text/plain": [
       "2"
      ]
     },
     "execution_count": 119,
     "metadata": {},
     "output_type": "execute_result"
    }
   ],
   "source": [
    "# Fucntion to count the occurances of a character in a given string\n",
    "# \"Python  Programming \",m--->2\n",
    "\n",
    "def countCharOccurances(s,c):\n",
    "    count=0\n",
    "    for ch in s:\n",
    "        if ch==c:\n",
    "            count +=1\n",
    "    return count\n",
    "s=\"Python  Programming\"\n",
    "c=input(\"c\")\n",
    "countCharOccurances(s,c)"
   ]
  },
  {
   "cell_type": "code",
   "execution_count": null,
   "metadata": {},
   "outputs": [],
   "source": [
    "# Functions to find the number of occurances of a substring in given string\n",
    "\n",
    "# \"abcabcddcbaabdcab\",------->4\n",
    "\n"
   ]
  },
  {
   "cell_type": "code",
   "execution_count": null,
   "metadata": {},
   "outputs": [],
   "source": []
  }
 ],
 "metadata": {
  "kernelspec": {
   "display_name": "Python 3",
   "language": "python",
   "name": "python3"
  },
  "language_info": {
   "codemirror_mode": {
    "name": "ipython",
    "version": 3
   },
   "file_extension": ".py",
   "mimetype": "text/x-python",
   "name": "python",
   "nbconvert_exporter": "python",
   "pygments_lexer": "ipython3",
   "version": "3.7.3"
  }
 },
 "nbformat": 4,
 "nbformat_minor": 2
}
