{
 "cells": [
  {
   "cell_type": "markdown",
   "metadata": {},
   "source": [
    "#### Notebook Basics\n",
    "\n",
    "* *Itallic* <br>\n",
    "* **Bold and Ittalic** \n",
    "* ***Bold and Itallic***\n",
    "* Normal Text \n",
    "    * Sublist 1\n",
    "    * Sublist 2\n",
    "    \n",
    "    \n",
    "> 1. Ordered list element 1\n",
    "> 2. Ordered list element 2\n",
    "\n",
    "<ol>\n",
    "    <li>Tea</li>\n",
    "    <li>Milk</li>\n",
    "</ol>\n",
    "\n",
    "- [ ] Option 1\n",
    "<>\n",
    "- [ ] Option 2 <br>\n",
    "\n",
    "\n",
    "\n",
    "\n",
    "\n",
    "I get 10 times more traffic from [Google] [1] than from [yahoo] [2]\n",
    "[1]: http://google.com/\n",
    "[2]: http://search.yahoo.com/\n",
    "\n",
    "\n",
    "<b>`printf(\"Hello markdown\")`</b><br>\n",
    "<https://google.com> <br>\n",
    "<markdown@google.com>\n",
    "\n",
    "\n",
    "\n",
    "\n",
    "\n",
    "[Jupyter logo](index.png)\n",
    "![Jupyter logo](index.png)\n",
    "<img src =\"index.png\" style=\"float:left\">\n",
    "\n",
    "\n",
    "\n"
   ]
  },
  {
   "cell_type": "code",
   "execution_count": null,
   "metadata": {},
   "outputs": [],
   "source": []
  },
  {
   "cell_type": "markdown",
   "metadata": {},
   "source": [
    "# Python Basics\n",
    "\n",
    "### Python  version 3.7\n",
    "\n",
    "- Scripting\n",
    "- Object Oriented \n",
    "- Fuctional\n"
   ]
  },
  {
   "cell_type": "code",
   "execution_count": 2,
   "metadata": {},
   "outputs": [
    {
     "name": "stdout",
     "output_type": "stream",
     "text": [
      "Hello \n",
      "Good Afternoon !\n",
      "Hello Python\n",
      "Good afternoon ! Hello Python\n",
      "Good afternoon !|| Hello Python\n"
     ]
    }
   ],
   "source": [
    "# Pytjon Comments\n",
    "print(\"Hello \\nGood Afternoon !\") # Basic Output\n",
    "print(\"Hello Python\")\n",
    "print(\"Good afternoon\",\"!\",end=\" \")\n",
    "print(\"Hello Python\")\n",
    "print(\"Good afternoon\",\"!\",end=\"|| \")\n",
    "print(\"Hello Python\")\n",
    "\n",
    "\n",
    "\n",
    "\n",
    "\n",
    "\n"
   ]
  },
  {
   "cell_type": "code",
   "execution_count": null,
   "metadata": {},
   "outputs": [],
   "source": []
  },
  {
   "cell_type": "markdown",
   "metadata": {},
   "source": [
    "### Assignment"
   ]
  },
  {
   "cell_type": "code",
   "execution_count": 3,
   "metadata": {},
   "outputs": [
    {
     "name": "stdout",
     "output_type": "stream",
     "text": [
      "122 234 345\n"
     ]
    }
   ],
   "source": [
    "n1 = 123456 # single variable assignment\n",
    "# n1\n",
    "\n",
    "n2=n3=n4=n1        # multivariable assignment of the same value\n",
    "# n2,n3,n4\n",
    "\n",
    "\n",
    "a,b,c= 122,234,345 #Multivariable Assignment with different values\n",
    "# a,b,c\n",
    "\n",
    "# a\n",
    "# b\n",
    "# c # last value only print by this bcz kernel will execute last line...scripting language if want print a,b,c\n",
    "\n",
    "print (a,b,c)\n",
    "\n"
   ]
  },
  {
   "cell_type": "code",
   "execution_count": null,
   "metadata": {},
   "outputs": [],
   "source": []
  },
  {
   "cell_type": "markdown",
   "metadata": {},
   "source": [
    "### Data Types and Type Conversion\n",
    " \n",
    "- int\n",
    "- float\n",
    "- string"
   ]
  },
  {
   "cell_type": "code",
   "execution_count": 24,
   "metadata": {},
   "outputs": [
    {
     "data": {
      "text/plain": [
       "1.0"
      ]
     },
     "execution_count": 24,
     "metadata": {},
     "output_type": "execute_result"
    }
   ],
   "source": [
    "type(a)\n",
    "s1=\"Python\"\n",
    "type(s1)\n",
    "\n",
    "f1=1.22\n",
    "f1\n",
    "type(f1)\n",
    "int(f1)\n",
    "\n",
    "str(int(f1))\n",
    "float(str(int(f1)))"
   ]
  },
  {
   "cell_type": "code",
   "execution_count": null,
   "metadata": {},
   "outputs": [],
   "source": []
  },
  {
   "cell_type": "markdown",
   "metadata": {},
   "source": [
    "### Arithemetic Operations\n",
    "\n",
    "- +\n",
    "- -\n",
    "- ** \n",
    "- *\n",
    "- /\n",
    "- %"
   ]
  },
  {
   "cell_type": "code",
   "execution_count": 28,
   "metadata": {},
   "outputs": [
    {
     "name": "stdout",
     "output_type": "stream",
     "text": [
      "2\n"
     ]
    },
    {
     "data": {
      "text/plain": [
       "6130687873308026945890176790042303730066739281"
      ]
     },
     "execution_count": 28,
     "metadata": {},
     "output_type": "execute_result"
    }
   ],
   "source": [
    "n1=1\n",
    "n2=n1*2\n",
    "type(n2)\n",
    "len(str(n3))\n",
    "print(n2)\n",
    "\n",
    "atoms=10**82\n",
    "type(str(atoms))\n",
    "#len(str(atoms))\n",
    "\n",
    "\n",
    "122321 ** 999"
   ]
  },
  {
   "cell_type": "code",
   "execution_count": null,
   "metadata": {},
   "outputs": [],
   "source": []
  },
  {
   "cell_type": "markdown",
   "metadata": {},
   "source": [
    "### Conditionals Checking\n",
    "\n"
   ]
  },
  {
   "cell_type": "code",
   "execution_count": 41,
   "metadata": {},
   "outputs": [
    {
     "name": "stdout",
     "output_type": "stream",
     "text": [
      "FALSE \n"
     ]
    }
   ],
   "source": [
    "atoms < 10 ** 99 \n",
    "atoms < 10 ** 72 # In built boolean expressions where starting letter is capital\n",
    "\n",
    "if atoms > 10 ** 96:\n",
    "    print(\"TRUE\") # here true is not boolean value .it just what we printed\n",
    "else:\n",
    "    print(\"FALSE \")\n",
    "        \n"
   ]
  },
  {
   "cell_type": "code",
   "execution_count": null,
   "metadata": {},
   "outputs": [],
   "source": []
  },
  {
   "cell_type": "code",
   "execution_count": null,
   "metadata": {},
   "outputs": [],
   "source": [
    "# Check if a number is even\n",
    "\n",
    "n=123\n",
    "if(n%2==0):\n",
    "       print(\"even\")\n",
    "else:\n",
    "      print(\"odd\")\n",
    "        \n",
    "     \n",
    "    \n",
    "    \n",
    "    \n"
   ]
  },
  {
   "cell_type": "markdown",
   "metadata": {},
   "source": [
    "# find the greatest of three numbers\n",
    "\n",
    "\n"
   ]
  },
  {
   "cell_type": "code",
   "execution_count": 4,
   "metadata": {},
   "outputs": [
    {
     "name": "stdout",
     "output_type": "stream",
     "text": [
      "enter the first number-1\n",
      "enter the second number-50\n",
      "enter the third number-100\n",
      "-1 is the greatest\n"
     ]
    }
   ],
   "source": [
    "n1 =int(input (\"enter the first number\"))\n",
    "n2= int(input (\"enter the second number\"))\n",
    "n3 = int(input(\"enter the third number\"))\n",
    "\n",
    "if(n1>n2 and n1>n3):\n",
    "    print(n1,\"is the greatest\")\n",
    "elif n2 >n3:\n",
    "    print(n2,\"is the greatest\")\n",
    "else:\n",
    "    print(n3,\"is the greatest\")\n"
   ]
  },
  {
   "cell_type": "code",
   "execution_count": 6,
   "metadata": {},
   "outputs": [
    {
     "name": "stdout",
     "output_type": "stream",
     "text": [
      "Enter the number2020\n",
      "Leap\n"
     ]
    }
   ],
   "source": [
    "#given number is leap or not\n",
    "\n",
    "n=eval(input(\"Enter the number\"))\n",
    "if(n%400==0 or n%100!=0 and n%4==0):\n",
    "    print(\"Leap\")\n",
    "else:\n",
    "    print(\"Odd value\")"
   ]
  },
  {
   "cell_type": "code",
   "execution_count": 1,
   "metadata": {},
   "outputs": [
    {
     "name": "stdout",
     "output_type": "stream",
     "text": [
      "enter the num4\n",
      "Enter the lower bound1\n",
      "enter the upper bound10\n",
      " \n",
      " \n",
      " \n",
      "matched\n",
      " \n",
      " \n",
      " \n",
      " \n",
      " \n"
     ]
    }
   ],
   "source": [
    "###  check if a number exists in a given range\n",
    "\n",
    "n1=int(input(\"enter the num\"))\n",
    "lb=int(input(\"Enter the lower bound\"))\n",
    "up=int(input(\"enter the upper bound\"))\n",
    "for i in range(lb,up):\n",
    "       if(n1==i):\n",
    "           print(\"matched\")\n",
    "       else:\n",
    "           print(\" \")\n",
    "  \n",
    "\"\"\" if(n1>lb and n1<up)\"\"\""
   ]
  },
  {
   "cell_type": "code",
   "execution_count": 2,
   "metadata": {},
   "outputs": [
    {
     "name": "stdout",
     "output_type": "stream",
     "text": [
      "enter the n2345\n"
     ]
    },
    {
     "data": {
      "text/plain": [
       "4"
      ]
     },
     "execution_count": 2,
     "metadata": {},
     "output_type": "execute_result"
    }
   ],
   "source": [
    "# calucate the number of digits in a number\n",
    "\n",
    "n=input(\"enter the n\")\n",
    "len(n)\n"
   ]
  },
  {
   "cell_type": "code",
   "execution_count": 4,
   "metadata": {},
   "outputs": [
    {
     "name": "stdout",
     "output_type": "stream",
     "text": [
      "Enter the n130\n",
      "30 is 10 multiple\n"
     ]
    }
   ],
   "source": [
    "# check if a number is multiple of 10\n",
    "\n",
    "n=int(input(\"Enter the n1\"))\n",
    "if(n%10==0):\n",
    "    print(n,\"is 10 multiple\")\n",
    "else:\n",
    "    print(n,\"is not a 10 multiple\")\n"
   ]
  },
  {
   "cell_type": "code",
   "execution_count": null,
   "metadata": {},
   "outputs": [],
   "source": [
    "# check if a number is a factor of 1000\n",
    "n=int(input(\"Enter the n1\"))\n",
    "if(n%1000==0):\n",
    "    print(n,\"is 10 multiple\")\n",
    "else:\n",
    "    print(n,\"is not a 10 multiple\")"
   ]
  },
  {
   "cell_type": "code",
   "execution_count": null,
   "metadata": {},
   "outputs": [],
   "source": [
    "# calculate the square root of a number without math functions\n",
    "\n",
    "n=int(input(\"Enter n\"))\n"
   ]
  },
  {
   "cell_type": "code",
   "execution_count": 20,
   "metadata": {},
   "outputs": [
    {
     "name": "stdout",
     "output_type": "stream",
     "text": [
      "Enter the n2016\n",
      "2016 is leap year  31622400000000000\n"
     ]
    }
   ],
   "source": [
    "# calculate the number of nano seconds  in a given year (considering leap year logic)\n",
    "\n",
    "n=int(input(\"Enter the n\"))\n",
    "if(n%400==0 or n%100!=0 and n%4==0):\n",
    "    print(n,\"is leap year \",366*24*60*60*(10**9))\n",
    "else:\n",
    "    print(n,\"is oddanary year \",365*24*60*60*(10**9))\n"
   ]
  },
  {
   "cell_type": "code",
   "execution_count": null,
   "metadata": {},
   "outputs": [],
   "source": []
  }
 ],
 "metadata": {
  "kernelspec": {
   "display_name": "Python 3",
   "language": "python",
   "name": "python3"
  },
  "language_info": {
   "codemirror_mode": {
    "name": "ipython",
    "version": 3
   },
   "file_extension": ".py",
   "mimetype": "text/x-python",
   "name": "python",
   "nbconvert_exporter": "python",
   "pygments_lexer": "ipython3",
   "version": "3.7.3"
  }
 },
 "nbformat": 4,
 "nbformat_minor": 2
}
