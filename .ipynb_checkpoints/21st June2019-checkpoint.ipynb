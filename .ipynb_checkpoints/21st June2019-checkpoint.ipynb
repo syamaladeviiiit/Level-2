{
 "cells": [
  {
   "cell_type": "code",
   "execution_count": null,
   "metadata": {},
   "outputs": [],
   "source": []
  },
  {
   "cell_type": "code",
   "execution_count": 14,
   "metadata": {},
   "outputs": [
    {
     "name": "stdout",
     "output_type": "stream",
     "text": [
      "devi\n",
      "098765432\n",
      "devi23@gmail.com\n",
      "syam\n",
      "987654\n",
      "False\n",
      "kfrfr\n"
     ]
    }
   ],
   "source": [
    "#Function to add contact to contacts text file\n",
    "from Packages import  validators\n",
    "def addContact(name,phone,email):\n",
    "    \n",
    "    # store data as name,phone,email in the contacts file\n",
    "    filename='Data Files\\contacts.txt'\n",
    "    with open (filename,'a') as f:\n",
    "        line = name + ',' + str(phone) + ',' + email + '\\n'\n",
    "        f.write(line)\n",
    "    print(name,'added to contacts file')\n",
    "    return\n",
    "name=input()\n",
    "phone=input()\n",
    "email=input()\n",
    "addContact(name,phone,email)\n",
    "\n",
    "    "
   ]
  },
  {
   "cell_type": "code",
   "execution_count": 16,
   "metadata": {},
   "outputs": [
    {
     "name": "stdout",
     "output_type": "stream",
     "text": [
      "vfdff\n",
      "False\n"
     ]
    }
   ],
   "source": [
    "# Function to check the contact already exists or not\n",
    "import re\n",
    "name=input()\n",
    "def checkContactExists(name):\n",
    "    filename='Data Files\\contacts.txt'\n",
    "    with open (filename,'r') as f:\n",
    "        filedata=f.read()\n",
    "        pattern=name + ','\n",
    "        return re.search(pattern,filedata)\n",
    "if checkContactExists(name):\n",
    "    print( True)\n",
    "else:\n",
    "    print(False)\n",
    "#checkContactExists(name)\n",
    "    "
   ]
  },
  {
   "cell_type": "markdown",
   "metadata": {},
   "source": [
    "### Savig the given contacts to contacts file if not that name exists "
   ]
  },
  {
   "cell_type": "code",
   "execution_count": 25,
   "metadata": {},
   "outputs": [
    {
     "name": "stdout",
     "output_type": "stream",
     "text": [
      "syamu\n",
      "9876543\n",
      "0987654edfvbnjkl;\n",
      "syamu already exists\n"
     ]
    }
   ],
   "source": [
    "#Function to add contact to contacts text file if doestn't only add\n",
    "from Packages.validators import phoneNumberValidator as pnv ,emailValidator as env\n",
    "def addContact(name,phone,email):\n",
    "    \n",
    "    # store data as name,phone,email in the contacts file\n",
    "    filename='Data Files\\contacts.txt'\n",
    "    if not checkContactExists(name):\n",
    "        if pnv(phone) and env(email):\n",
    "            with open (filename,'a') as f:\n",
    "                line = name + ',' + str(phone) + ',' + email + '\\n'\n",
    "                f.write(line)\n",
    "            print(name,'added to contacts file')\n",
    "        else:\n",
    "            print(\"Invalid Phone Number\")\n",
    "            print(\"Invalid Email\")\n",
    "            return \n",
    "    else:\n",
    "        print(name,'already exists')\n",
    "    return\n",
    "def checkContactExists(name):\n",
    "    filename='Data Files\\contacts.txt'\n",
    "    with open (filename,'r') as f:\n",
    "        filedata=f.read()\n",
    "        pattern=name + ','\n",
    "        return re.search(pattern,filedata)\n",
    "name=input()\n",
    "phone=input()\n",
    "email=input()\n",
    "addContact(name,phone,email)"
   ]
  },
  {
   "cell_type": "code",
   "execution_count": 30,
   "metadata": {},
   "outputs": [
    {
     "data": {
      "text/plain": [
       "'syamu98858841848syamu123@gmail.com\\nsyamusyamu98858841848syamu123@gmail.com\\n98858841858syamu98858841848syamu123@gmail.com\\nsyamuu123@gmail.com\\ndeviiisyamu98858841848syamu123@gmail.com\\nsyamusyamu98858841848syamu123@gmail.com\\n98858841858syamu98858841848syamu123@gmail.com\\nsyamuu123@gmail.com\\n9440772640syamu98858841848syamu123@gmail.com\\nsyamusyamu98858841848syamu123@gmail.com\\n98858841858syamu98858841848syamu123@gmail.com\\nsyamuu123@gmail.com\\ndevii2341@gmail.com\\nsyamuuusyamu98858841848syamu123@gmail.com\\nsyamusyamu98858841848syamu123@gmail.com\\n98858841858syamu98858841848syamu123@gmail.com\\nsyamuu123@gmail.com\\ndeviiisyamu98858841848syamu123@gmail.com\\nsyamusyamu98858841848syamu123@gmail.com\\n98858841858syamu98858841848syamu123@gmail.com\\nsyamuu123@gmail.com\\n9440772640syamu98858841848syamu123@gmail.com\\nsyamusyamu98858841848syamu123@gmail.com\\n98858841858syamu98858841848syamu123@gmail.com\\nsyamuu123@gmail.com\\ndevii2341@gmail.com\\n8331063380syamu98858841848syamu123@gmail.com\\nsyamusyamu98858841848syamu123@gmail.com\\n98858841858syamu98858841848syamu123@gmail.com\\nsyamuu123@gmail.com\\ndeviiisyamu98858841848syamu123@gmail.com\\nsyamusyamu98858841848syamu123@gmail.com\\n98858841858syamu98858841848syamu123@gmail.com\\nsyamuu123@gmail.com\\n9440772640syamu98858841848syamu123@gmail.com\\nsyamusyamu98858841848syamu123@gmail.com\\n98858841858syamu98858841848syamu123@gmail.com\\nsyamuu123@gmail.com\\ndevii2341@gmail.com\\nndsjfhj@gmail.com\\n'"
      ]
     },
     "execution_count": 30,
     "metadata": {},
     "output_type": "execute_result"
    }
   ],
   "source": [
    "\n",
    "filename='Data Files\\contacts.txt'\n",
    "def csvToList(filename):\n",
    "    li=[]\n",
    "    with open(filename ,'r') as f:\n",
    "        for line in f:\n",
    "            li.append(line.split(','))\n",
    "    return li\n",
    "csvToList(filename)\n",
    "\n",
    "def listToFile(li):\n",
    "    s=''\n",
    "    for i in li:\n",
    "        s += s.join(i)\n",
    "    return s\n",
    "li=csvToList(filename)\n",
    "listToFile(li)"
   ]
  },
  {
   "cell_type": "code",
   "execution_count": null,
   "metadata": {},
   "outputs": [],
   "source": []
  },
  {
   "cell_type": "code",
   "execution_count": null,
   "metadata": {},
   "outputs": [],
   "source": []
  },
  {
   "cell_type": "markdown",
   "metadata": {},
   "source": [
    "##"
   ]
  },
  {
   "cell_type": "code",
   "execution_count": 6,
   "metadata": {},
   "outputs": [
    {
     "name": "stdout",
     "output_type": "stream",
     "text": [
      "5\n",
      "1 3 1 2 5\n",
      "5\n"
     ]
    }
   ],
   "source": [
    "n=int(input())\n",
    "s=input().split()\n",
    "li=[]\n",
    "for i in s:\n",
    "    li.append(int(i))\n",
    "max=0\n",
    "for j in li:\n",
    "    for k in range(1,len(li)):\n",
    "        sum=0\n",
    "        sum=sum+li[k]\n",
    "        if(max>sum):\n",
    "            max=max\n",
    "        else:\n",
    "            max=sum\n",
    "    #li=len(li)-1\n",
    "print(max)\n",
    "\n",
    "        \n",
    "        \n",
    "\n",
    "    \n",
    "    "
   ]
  },
  {
   "cell_type": "code",
   "execution_count": null,
   "metadata": {},
   "outputs": [],
   "source": [
    "n=input()\n",
    "sum=0\n",
    "while(n!=0):\n",
    "    for i in range(1,n):\n",
    "        sum=sum+n[i]"
   ]
  },
  {
   "cell_type": "code",
   "execution_count": null,
   "metadata": {},
   "outputs": [],
   "source": []
  }
 ],
 "metadata": {
  "kernelspec": {
   "display_name": "Python 3",
   "language": "python",
   "name": "python3"
  }
 },
 "nbformat": 4,
 "nbformat_minor": 2
}
