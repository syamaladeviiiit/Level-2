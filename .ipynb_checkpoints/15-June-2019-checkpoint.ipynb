{
 "cells": [
  {
   "cell_type": "markdown",
   "metadata": {},
   "source": [
    "### 15th June 2019"
   ]
  },
  {
   "cell_type": "markdown",
   "metadata": {},
   "source": [
    "#### Hacker Earth Problem\n",
    "** Explanation **\n",
    " - li =[3,2,-1,-2,-3] (Original List)\n",
    " - Sort the data \n",
    " - li= [-3,2,-1,2,3] (Sorted List)\n",
    " - pl = [1,2,2,3,3] ( Positive Sorted List)\n",
    " - p1[0] ----> Check if this number is -ve or +ve in the Original List\n",
    " - if p1[0] in li:\n",
    "     - return pl[0]\n",
    " - else \n",
    "     - return -p1[0]"
   ]
  },
  {
   "cell_type": "markdown",
   "metadata": {},
   "source": [
    "### Problem"
   ]
  },
  {
   "cell_type": "code",
   "execution_count": 23,
   "metadata": {},
   "outputs": [
    {
     "name": "stdout",
     "output_type": "stream",
     "text": [
      "-1\n"
     ]
    }
   ],
   "source": [
    "# Hacker Earth problem solvation\n",
    "li=[-1,-2,2,3,1]\n",
    "\n",
    "li.sort()\n",
    "\n",
    "p = []\n",
    "\n",
    "for i in li:\n",
    "    p.append(abs(i))\n",
    "p.sort()\n",
    "if p[0] in li:\n",
    "    print(p[0])  #print(-p[0]) if less value given\n",
    "else:\n",
    "    print(-p[0])  # print(p[0]) if less value print means\n",
    "\n",
    "\n",
    "    \n"
   ]
  },
  {
   "cell_type": "code",
   "execution_count": 27,
   "metadata": {},
   "outputs": [
    {
     "name": "stdout",
     "output_type": "stream",
     "text": [
      "-100\n"
     ]
    }
   ],
   "source": [
    "# Farthest From Zero\n",
    "li=[-1,-2,2,3,1,-100]\n",
    "\n",
    "li.sort()\n",
    "\n",
    "p = []\n",
    "\n",
    "for i in li:\n",
    "    p.append(abs(i))\n",
    "p.sort()\n",
    "if p[-1] in li:\n",
    "    print(p[-1])  #print(-p[0]) if less value given\n",
    "else:\n",
    "    print(-p[-1])  # print(p[0]) if less value print means\n",
    "\n",
    "\n"
   ]
  },
  {
   "cell_type": "markdown",
   "metadata": {},
   "source": [
    "### Problem 3"
   ]
  },
  {
   "cell_type": "code",
   "execution_count": 46,
   "metadata": {},
   "outputs": [
    {
     "data": {
      "text/plain": [
       "8"
      ]
     },
     "execution_count": 46,
     "metadata": {},
     "output_type": "execute_result"
    }
   ],
   "source": [
    "# your are given three numbers,a,b,c.Write a program to find the largest number which is less than or equal to c \n",
    "# and leaves remainder b when divided by a if not print -1\n",
    "\n",
    "def greater(a,b,c):\n",
    "    for i in range(c,b+1,-1):\n",
    "        if (i<=c) and (i%a==b):\n",
    "            return i\n",
    "    else:\n",
    "        return -1\n",
    "greater(3,2,9)"
   ]
  },
  {
   "cell_type": "code",
   "execution_count": null,
   "metadata": {},
   "outputs": [],
   "source": []
  },
  {
   "cell_type": "code",
   "execution_count": null,
   "metadata": {},
   "outputs": [],
   "source": []
  },
  {
   "cell_type": "code",
   "execution_count": null,
   "metadata": {},
   "outputs": [],
   "source": []
  },
  {
   "cell_type": "code",
   "execution_count": null,
   "metadata": {},
   "outputs": [],
   "source": []
  },
  {
   "cell_type": "code",
   "execution_count": 1,
   "metadata": {},
   "outputs": [
    {
     "data": {
      "text/plain": [
       "['__add__',\n",
       " '__class__',\n",
       " '__contains__',\n",
       " '__delattr__',\n",
       " '__delitem__',\n",
       " '__dir__',\n",
       " '__doc__',\n",
       " '__eq__',\n",
       " '__format__',\n",
       " '__ge__',\n",
       " '__getattribute__',\n",
       " '__getitem__',\n",
       " '__gt__',\n",
       " '__hash__',\n",
       " '__iadd__',\n",
       " '__imul__',\n",
       " '__init__',\n",
       " '__init_subclass__',\n",
       " '__iter__',\n",
       " '__le__',\n",
       " '__len__',\n",
       " '__lt__',\n",
       " '__mul__',\n",
       " '__ne__',\n",
       " '__new__',\n",
       " '__reduce__',\n",
       " '__reduce_ex__',\n",
       " '__repr__',\n",
       " '__reversed__',\n",
       " '__rmul__',\n",
       " '__setattr__',\n",
       " '__setitem__',\n",
       " '__sizeof__',\n",
       " '__str__',\n",
       " '__subclasshook__',\n",
       " 'append',\n",
       " 'clear',\n",
       " 'copy',\n",
       " 'count',\n",
       " 'extend',\n",
       " 'index',\n",
       " 'insert',\n",
       " 'pop',\n",
       " 'remove',\n",
       " 'reverse',\n",
       " 'sort']"
      ]
     },
     "execution_count": 1,
     "metadata": {},
     "output_type": "execute_result"
    }
   ],
   "source": [
    "dir(list())"
   ]
  },
  {
   "cell_type": "code",
   "execution_count": 13,
   "metadata": {},
   "outputs": [
    {
     "data": {
      "text/plain": [
       "[[55, 33, 44], 1, 2, 3, 4, 5, 22, [9, 8, 7], 1, 2]"
      ]
     },
     "execution_count": 13,
     "metadata": {},
     "output_type": "execute_result"
    }
   ],
   "source": [
    "l=[1,2,3,4,5]\n",
    "l.append(22)\n",
    "l\n",
    "l.append([9,8,7])\n",
    "l\n",
    "l.extend([1,2])\n",
    "l\n",
    "l.insert(0,[55,33,44])\n",
    "l\n"
   ]
  },
  {
   "cell_type": "code",
   "execution_count": null,
   "metadata": {},
   "outputs": [],
   "source": []
  }
 ],
 "metadata": {
  "kernelspec": {
   "display_name": "Python 3",
   "language": "python",
   "name": "python3"
  },
  "language_info": {
   "codemirror_mode": {
    "name": "ipython",
    "version": 3
   },
   "file_extension": ".py",
   "mimetype": "text/x-python",
   "name": "python",
   "nbconvert_exporter": "python",
   "pygments_lexer": "ipython3",
   "version": "3.7.3"
  }
 },
 "nbformat": 4,
 "nbformat_minor": 2
}
