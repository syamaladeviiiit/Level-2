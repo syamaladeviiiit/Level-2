{
 "cells": [
  {
   "cell_type": "markdown",
   "metadata": {},
   "source": [
    "####  Date : 22 June 2019\n",
    "\n",
    "#### Day Objectives\n",
    " - File Handling\n",
    "    - Basic File Data Processing\n",
    "        - Accessing and Modifying File Data\n",
    "    - Problems related to Accessing and Modifying File Data\n",
    "    - Character Count\n",
    "    - Line Count (Number files or characters in a file Count that)\n",
    "    - File size program\n",
    "    - Word Count (How do we count the words in a file)\n",
    "    - Unique Word Count"
   ]
  },
  {
   "cell_type": "code",
   "execution_count": 25,
   "metadata": {},
   "outputs": [
    {
     "name": "stdout",
     "output_type": "stream",
     "text": [
      "name1,9888588418,name22344@gmail.com\n"
     ]
    }
   ],
   "source": [
    "# Read a File - File should Exist in some part of the sotorage (Read Mode)\n",
    "\n",
    "# Write to a File - Existing( append mode)  or New File(Write mode)\n",
    "\n",
    "def readFile(filePath):\n",
    "    with open(filePath, 'r') as f:\n",
    "        filedata = f.read()\n",
    "    return filedata\n",
    "\n",
    "filePath = 'Data Files/data.txt'\n",
    "print(readFile(filePath))"
   ]
  },
  {
   "cell_type": "code",
   "execution_count": 1,
   "metadata": {},
   "outputs": [
    {
     "ename": "NameError",
     "evalue": "name 'filePath' is not defined",
     "output_type": "error",
     "traceback": [
      "\u001b[1;31m---------------------------------------------------------------------------\u001b[0m",
      "\u001b[1;31mNameError\u001b[0m                                 Traceback (most recent call last)",
      "\u001b[1;32m<ipython-input-1-8fd7cc33267f>\u001b[0m in \u001b[0;36m<module>\u001b[1;34m\u001b[0m\n\u001b[0;32m      6\u001b[0m     \u001b[0mcount\u001b[0m\u001b[1;33m=\u001b[0m\u001b[0mlen\u001b[0m\u001b[1;33m(\u001b[0m\u001b[0mre\u001b[0m\u001b[1;33m.\u001b[0m\u001b[0msplit\u001b[0m\u001b[1;33m(\u001b[0m\u001b[0mpattern\u001b[0m\u001b[1;33m,\u001b[0m\u001b[0mfiledata\u001b[0m\u001b[1;33m)\u001b[0m\u001b[1;33m)\u001b[0m\u001b[1;33m\u001b[0m\u001b[1;33m\u001b[0m\u001b[0m\n\u001b[0;32m      7\u001b[0m     \u001b[1;32mreturn\u001b[0m \u001b[0mcount\u001b[0m\u001b[1;33m\u001b[0m\u001b[1;33m\u001b[0m\u001b[0m\n\u001b[1;32m----> 8\u001b[1;33m \u001b[0mwordcount\u001b[0m\u001b[1;33m(\u001b[0m\u001b[0mfilePath\u001b[0m\u001b[1;33m)\u001b[0m\u001b[1;33m\u001b[0m\u001b[1;33m\u001b[0m\u001b[0m\n\u001b[0m",
      "\u001b[1;31mNameError\u001b[0m: name 'filePath' is not defined"
     ]
    }
   ],
   "source": [
    "import re\n",
    "def wordcount(filePath):\n",
    "    pattern='[,\\n]'\n",
    "    #filepath='Data Files\\data.txt'\n",
    "    filedata =readFile(filePath)\n",
    "    count=len(re.split(pattern,filedata))\n",
    "    return count\n",
    "wordcount(filePath)"
   ]
  },
  {
   "cell_type": "code",
   "execution_count": 8,
   "metadata": {},
   "outputs": [
    {
     "name": "stdout",
     "output_type": "stream",
     "text": [
      "name1,9888588418,name22344@gmail.com\n"
     ]
    }
   ],
   "source": [
    "# Read a File - File should Exist in some part of the sotorage (Read Mode)\n",
    "\n",
    "# Write to a File - Existing( append mode)  or New File(Write mode)\n",
    "def readFile(filePath):\n",
    "    with open(filePath, 'r') as f:\n",
    "        filedata = f.read()\n",
    "    return filedata\n",
    "\n",
    "filePath = 'Data Files/data.txt'\n",
    "print(readFile(filePath))"
   ]
  },
  {
   "cell_type": "code",
   "execution_count": null,
   "metadata": {},
   "outputs": [],
   "source": []
  },
  {
   "cell_type": "code",
   "execution_count": 2,
   "metadata": {},
   "outputs": [
    {
     "name": "stdout",
     "output_type": "stream",
     "text": [
      "1\n"
     ]
    }
   ],
   "source": [
    "# Function to find the number of lines in a file\n",
    "def LileCount(filePath):\n",
    "    c=0\n",
    "    with open(filePath, 'r') as f:\n",
    "        c=c+1\n",
    "        print(c)\n",
    "\n",
    "filePath = 'Data Files/data.txt'\n",
    "LileCount(filePath)"
   ]
  },
  {
   "cell_type": "code",
   "execution_count": 52,
   "metadata": {},
   "outputs": [
    {
     "name": "stdout",
     "output_type": "stream",
     "text": [
      "35\n"
     ]
    }
   ],
   "source": [
    "# Function to count the number of character in a file\n",
    "def charCount(filePath):\n",
    "    c=0\n",
    "    with open(filePath, 'r') as f:\n",
    "        filedata=f.read()\n",
    "        for i in range (1,len(filedata)):\n",
    "            #print(len(filedata))\n",
    "            c=c+1\n",
    "        print(c)\n",
    "        \n",
    "\n",
    "filePath = 'Data Files/data.txt'\n",
    "charCount(filePath)"
   ]
  },
  {
   "cell_type": "code",
   "execution_count": 48,
   "metadata": {},
   "outputs": [
    {
     "name": "stdout",
     "output_type": "stream",
     "text": [
      "140\n"
     ]
    }
   ],
   "source": [
    "# Function to find the size of the character count\n",
    "def SizeOfFile(filePath):\n",
    "    c=0\n",
    "    with open(filePath, 'r') as f:\n",
    "        filedata=f.read()\n",
    "        for i in range (1,len(filedata)):\n",
    "            c=c+1\n",
    "        print(c*4)\n",
    "\n",
    "filePath = 'Data Files/data.txt'\n",
    "SizeOfFile(filePath)"
   ]
  },
  {
   "cell_type": "code",
   "execution_count": 56,
   "metadata": {},
   "outputs": [
    {
     "name": "stdout",
     "output_type": "stream",
     "text": [
      "['name', '19888588418', 'name22344@gmail.com']\n"
     ]
    },
    {
     "data": {
      "text/plain": [
       "3"
      ]
     },
     "execution_count": 56,
     "metadata": {},
     "output_type": "execute_result"
    }
   ],
   "source": [
    "# Function to find the word count of the data in a file\n",
    "import re\n",
    "def wordcount(filePath):\n",
    "    pattern='[,\\n]'\n",
    "    #filepath='Data Files\\data.txt'\n",
    "    filedata =readFile(filePath)\n",
    "    count=len(re.split(pattern,filedata))\n",
    "    print(re.split(pattern,filedata))\n",
    "    return count\n",
    "wordcount(filePath)"
   ]
  },
  {
   "cell_type": "code",
   "execution_count": 41,
   "metadata": {},
   "outputs": [
    {
     "name": "stdout",
     "output_type": "stream",
     "text": [
      "['n', 'a', 'm', 'e', '1', '9', '8', '5', '4', '2', '3', '@', 'g', 'i', 'l', '.', 'c', 'o']\n"
     ]
    }
   ],
   "source": [
    "# Function to find the unique words of the data in a file\n",
    "def Unique(filePath):\n",
    "    unique=[]\n",
    "    with open(filePath, 'r') as f:\n",
    "        filedata=f.read()\n",
    "        for i in filedata:\n",
    "            if i not in unique:\n",
    "                unique.append(i)\n",
    "        print(unique)\n",
    "\n",
    "filePath = 'Data Files/data.txt'\n",
    "Unique(filePath)"
   ]
  },
  {
   "cell_type": "code",
   "execution_count": 57,
   "metadata": {},
   "outputs": [
    {
     "data": {
      "text/plain": [
       "[1, 2, 3]"
      ]
     },
     "execution_count": 57,
     "metadata": {},
     "output_type": "execute_result"
    }
   ],
   "source": [
    "# Function to fet unique elements in a list\n",
    "# [1,2,3,3,2,1]------>[1,2,3]\n",
    "# Create empty unique list[]\n",
    "def uniqueData(li):\n",
    "    # create an empty unique list\n",
    "    unique=[]\n",
    "    # for every element in the main list,\n",
    "        # Checck if it exists in the unique list\n",
    "        # If it does not exist,add it to unique list\n",
    "        # else if it already exists ,move  on to the main list and add it to unique list\n",
    "        \n",
    "    for element in li:\n",
    "        if element not in unique:\n",
    "            unique.append(element)\n",
    "    return unique\n",
    "li=[1,2,3,3,2,1]\n",
    "uniqueData(li)\n",
    "    "
   ]
  },
  {
   "cell_type": "code",
   "execution_count": null,
   "metadata": {},
   "outputs": [],
   "source": []
  },
  {
   "cell_type": "markdown",
   "metadata": {},
   "source": [
    "###### Print the sum of the n nubers"
   ]
  },
  {
   "cell_type": "code",
   "execution_count": 14,
   "metadata": {},
   "outputs": [
    {
     "name": "stdout",
     "output_type": "stream",
     "text": [
      "1 2 3 4 5 6 7 8 9 10\n",
      "55\n"
     ]
    }
   ],
   "source": [
    "numArray = map(int, input().split()) # Get the input\n",
    "\n",
    "\n",
    "sum_integer = 0\n",
    "# write your logic to add these 4 numbers here\n",
    "for number in numArray:\n",
    "    sum_integer += number\n",
    "\n",
    "print(sum_integer) # Print the sum"
   ]
  },
  {
   "cell_type": "markdown",
   "metadata": {},
   "source": [
    "###### sum of n numbers\n"
   ]
  },
  {
   "cell_type": "code",
   "execution_count": 73,
   "metadata": {},
   "outputs": [
    {
     "name": "stdout",
     "output_type": "stream",
     "text": [
      "4\n",
      "1 2 3 4 5  6\n",
      "21\n"
     ]
    }
   ],
   "source": [
    "n=input()\n",
    "sum=0\n",
    "n1=map(int ,input().split())\n",
    "for i in n1:\n",
    "    sum=sum+i\n",
    "print(sum)\n",
    "    "
   ]
  },
  {
   "cell_type": "markdown",
   "metadata": {},
   "source": [
    "##### Print the numbers in between the range"
   ]
  },
  {
   "cell_type": "code",
   "execution_count": 74,
   "metadata": {},
   "outputs": [
    {
     "name": "stdout",
     "output_type": "stream",
     "text": [
      "5 10\n",
      "5 6 7 8 9 10 "
     ]
    }
   ],
   "source": [
    "L, R = map(int, input().split())\n",
    "for i in range(L,R+1):\n",
    "    print(i,end=\" \")\n",
    "  "
   ]
  },
  {
   "cell_type": "markdown",
   "metadata": {},
   "source": [
    "##### Add the 2 list elements"
   ]
  },
  {
   "cell_type": "code",
   "execution_count": 30,
   "metadata": {},
   "outputs": [
    {
     "name": "stdout",
     "output_type": "stream",
     "text": [
      "2\n",
      "1 2 3\n",
      "1 2 3\n",
      "2 4 6 "
     ]
    }
   ],
   "source": [
    "N = int(input())\n",
    "\n",
    "# Get the array \n",
    "numArray1 = list(map(int, input().split()))\n",
    "numArray2 = list(map(int, input().split()))\n",
    "\n",
    "sumArray = []\n",
    "for i in range(0,N+1):\n",
    "    sumArray.append(numArray1[i]+numArray2[i])\n",
    "for k in sumArray:\n",
    "    print(k,end=\" \")"
   ]
  },
  {
   "cell_type": "markdown",
   "metadata": {},
   "source": [
    "### Sitting Arrangement"
   ]
  },
  {
   "cell_type": "code",
   "execution_count": 3,
   "metadata": {},
   "outputs": [
    {
     "name": "stdout",
     "output_type": "stream",
     "text": [
      "1\n",
      "12\n"
     ]
    }
   ],
   "source": [
    "t=int(input())\n",
    "for i in range(1,t+1):\n",
    "    n=int(input())\n",
    "    n1=n%12\n",
    "    if(n1==1 or n1==6 or n1==7 or n==0):\n",
    "        if(n1==1):\n",
    "            t=n+11\n",
    "            print(t,\"WS\")\n",
    "        elif(n1==6):\n",
    "            t=n+1\n",
    "            print(t,\"WS\")\n",
    "        elif(n1==7):\n",
    "            t=n-1\n",
    "            print(t,\"WS\")\n",
    "        elif(n1==0):\n",
    "            t=n-11\n",
    "            print(t,\"WS\")\n",
    "        else:\n",
    "            print(\"no\")\n",
    "    elif(n1==2 or n1==5 or n1==11 or n1==8):\n",
    "        if(n1==2):\n",
    "            t=n+9\n",
    "            print(t,\"MS\")\n",
    "        elif(n1==5):\n",
    "            t=n+3\n",
    "            print(t,\"MS\")\n",
    "        elif(n1==8):\n",
    "            t=n-3\n",
    "            print(t,\"MS\")\n",
    "        elif(n1==11):\n",
    "            t=n-9\n",
    "            print(t,\"MS\")\n",
    "        else:\n",
    "            print(no)\n",
    "    elif(n1==3 or n1==4 or n1==9 or n1==10):\n",
    "        if(n1==3):\n",
    "            t=n+7\n",
    "            print(t,\"AS\")\n",
    "        elif(n1==4):\n",
    "            t=n+5\n",
    "            print(t,\"AS\")\n",
    "        elif(n1==9):\n",
    "            t=n-5\n",
    "            print(t,\"AS\")\n",
    "        elif(n1==10):\n",
    "            t=n-7\n",
    "            print(t,\"AS\")\n",
    "        else:\n",
    "            print(no)\n",
    "    \n"
   ]
  },
  {
   "cell_type": "code",
   "execution_count": 20,
   "metadata": {},
   "outputs": [
    {
     "name": "stdout",
     "output_type": "stream",
     "text": [
      "2\n",
      "9 6\n",
      "10\n",
      "9 6\n",
      "10\n"
     ]
    }
   ],
   "source": [
    "n=int(input())\n",
    "for i in range(1,n+1):\n",
    "    p,g=list(map(int ,input().split()))\n",
    "    n1=int(input())\n",
    "    \n",
    "\n"
   ]
  },
  {
   "cell_type": "code",
   "execution_count": 21,
   "metadata": {},
   "outputs": [
    {
     "data": {
      "text/plain": [
       "1"
      ]
     },
     "execution_count": 21,
     "metadata": {},
     "output_type": "execute_result"
    }
   ],
   "source": [
    "n=1%12\n",
    "n\n"
   ]
  },
  {
   "cell_type": "markdown",
   "metadata": {},
   "source": [
    "#### Cost Of Ballons"
   ]
  },
  {
   "cell_type": "code",
   "execution_count": 26,
   "metadata": {},
   "outputs": [
    {
     "name": "stdout",
     "output_type": "stream",
     "text": [
      "1\n",
      "1 9\n",
      "10\n",
      "0 1\n",
      "0 0\n",
      "0 0\n",
      "0 1\n",
      "1 0\n",
      "0 1\n",
      "0 1\n",
      "0 0\n",
      "0 1\n",
      "0 0\n",
      "14\n"
     ]
    }
   ],
   "source": [
    "n=int(input())\n",
    "for i in range(1,n+1):\n",
    "    p,g=list(map(int ,input().split()))\n",
    "    n1=int(input())\n",
    "    s1=0\n",
    "    s2=0\n",
    "    for j in range(1,n1+1):\n",
    "        a,b=list(map(int,input().split()))\n",
    "        s1=s1+((a*p)+(b*g))\n",
    "        s2=s2+((a*g)+(b*p))\n",
    "    if(s1<s2):\n",
    "        print(s1)\n",
    "    else:\n",
    "        print(s2)\n",
    "        \n",
    "        \n",
    "        \n",
    "\n"
   ]
  },
  {
   "cell_type": "markdown",
   "metadata": {},
   "source": [
    "##### Aman and Sharma"
   ]
  },
  {
   "cell_type": "code",
   "execution_count": 28,
   "metadata": {},
   "outputs": [
    {
     "name": "stdout",
     "output_type": "stream",
     "text": [
      "3\n",
      "3 2\n",
      "5 2\n",
      "1 3\n",
      "3\n"
     ]
    }
   ],
   "source": [
    "n=int(input())\n",
    "count=0\n",
    "for i in range(1,n+1):\n",
    "    a,b=list(map(int,input().split()))\n",
    "    if(2*(22/7)*a<=100*b):\n",
    "        count=count+1\n",
    "print(count)"
   ]
  },
  {
   "cell_type": "markdown",
   "metadata": {},
   "source": [
    "##### Find the pattern"
   ]
  },
  {
   "cell_type": "code",
   "execution_count": 50,
   "metadata": {},
   "outputs": [
    {
     "name": "stdout",
     "output_type": "stream",
     "text": [
      "2\n",
      "3\n",
      "1 2 3\n",
      "4\n",
      "11\n",
      "1 2 3 4 5 6 7 8 9 11 22\n",
      "23\n"
     ]
    }
   ],
   "source": [
    "k=int(input())\n",
    "for i in range(1,k+1):\n",
    "    N=int(input())\n",
    "    n=list(map(int,input().split()))\n",
    "    n1=max(n)\n",
    "    n2=min(n)\n",
    "    print(n1+n2)\n",
    "\n",
    "\n",
    "   "
   ]
  },
  {
   "cell_type": "code",
   "execution_count": null,
   "metadata": {},
   "outputs": [],
   "source": []
  },
  {
   "cell_type": "code",
   "execution_count": null,
   "metadata": {},
   "outputs": [],
   "source": []
  }
 ],
 "metadata": {
  "kernelspec": {
   "display_name": "Python 3",
   "language": "python",
   "name": "python3"
  },
  "language_info": {
   "codemirror_mode": {
    "name": "ipython",
    "version": 3
   },
   "file_extension": ".py",
   "mimetype": "text/x-python",
   "name": "python",
   "nbconvert_exporter": "python",
   "pygments_lexer": "ipython3",
   "version": "3.7.3"
  }
 },
 "nbformat": 4,
 "nbformat_minor": 2
}
