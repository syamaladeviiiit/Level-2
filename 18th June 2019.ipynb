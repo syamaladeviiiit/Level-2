{
 "cells": [
  {
   "cell_type": "code",
   "execution_count": 1,
   "metadata": {},
   "outputs": [
    {
     "name": "stdout",
     "output_type": "stream",
     "text": [
      "7\n",
      "YES\n"
     ]
    }
   ],
   "source": [
    "# funtion to print yes or no if the factors of the given number is prime or not\n",
    "\n",
    "def prime(n):\n",
    "    c=0\n",
    "    for i in range (1,n+1):\n",
    "        if (n%i==0):\n",
    "            c=c+1\n",
    "    if(c==2):\n",
    "        print(\"YES\")\n",
    "    else:\n",
    "        print(\"NO\")\n",
    "n=int(input())\n",
    "prime(n)\n",
    "\n",
    "\n"
   ]
  },
  {
   "cell_type": "markdown",
   "metadata": {},
   "source": [
    "### Problem Play with numbers"
   ]
  },
  {
   "cell_type": "code",
   "execution_count": null,
   "metadata": {},
   "outputs": [
    {
     "name": "stdout",
     "output_type": "stream",
     "text": [
      "5 3\n",
      "1 2 3 4 5\n",
      "2 3\n",
      "6\n",
      "1 4\n",
      "2\n"
     ]
    }
   ],
   "source": [
    "n=input().split()\n",
    "n[0],n[1]=int(n[0]),int(n[1])\n",
    "\n",
    "a=input().split()\n",
    "sum=[]\n",
    "for i in range(0,n[0]):\n",
    "    if i==0 :\n",
    "        sum.append(int(a[i]))\n",
    "    else:\n",
    "        sum.append(int(sum[i-1])+int(a[i]))  \n",
    "del a\n",
    "for k in range(0,n[1]):\n",
    "    inq=input().split()\n",
    "    i=int(inq[0])\n",
    "    j=int(inq[1])\n",
    "    if i>1:\n",
    "        print(sum[j-1]-sum[i-2]//(j-i+1))\n",
    "    else:\n",
    "        print(sum[j-1]//(j-i+1))\n",
    "                                           \n",
    "#print(sum[n[0]-1])\n",
    "                   \n",
    "        "
   ]
  },
  {
   "cell_type": "markdown",
   "metadata": {},
   "source": []
  },
  {
   "cell_type": "code",
   "execution_count": null,
   "metadata": {},
   "outputs": [],
   "source": [
    "def factor(n):\n",
    "    fact=0\n",
    "    for i in range(2,n):\n",
    "        if(n%i==0):\n",
    "            fact=fact+1\n",
    "    if(fact==2):\n",
    "        print(\"YES\")\n",
    "    else:\n",
    "        print(\"NO\")\n",
    "n1=int(input())\n",
    "for i in range(n1):\n",
    "    n=int(input())\n",
    "    factor(n)\n",
    "    \n",
    "        \n",
    "        "
   ]
  },
  {
   "cell_type": "markdown",
   "metadata": {},
   "source": [
    "### Problem:Special  Number"
   ]
  },
  {
   "cell_type": "code",
   "execution_count": 7,
   "metadata": {},
   "outputs": [
    {
     "data": {
      "text/plain": [
       "True"
      ]
     },
     "execution_count": 7,
     "metadata": {},
     "output_type": "execute_result"
    }
   ],
   "source": [
    "# Function to determine if a number is special or not\n",
    "# Function to check prime  if number is prime \n",
    "# Function to determine the number of prime factors\n",
    "\n",
    "def isSpecialNumber(n,p):\n",
    "    if numberPrimeFactors(n)>=p:\n",
    "        return True\n",
    "    return False\n",
    "\n",
    "def is_prime(n):\n",
    "    flag=1\n",
    "    if n==2:\n",
    "        return True\n",
    "    for i in range(2,n//2+1):\n",
    "        if (n%i==0):\n",
    "            flag=0\n",
    "            return False\n",
    "        \n",
    "    if flag==1:\n",
    "        return True\n",
    "    \n",
    "def numberPrimeFactors(n):\n",
    "    if is_prime(n):\n",
    "        return 1\n",
    "    count=0\n",
    "    for i in range(2,n//2+1):\n",
    "        if is_prime(i) and n%i==0:\n",
    "            count=count+1\n",
    "    return count\n",
    "isSpecialNumber(6,2)\n",
    "        \n",
    "    \n",
    "    \n",
    "def solution2():\n",
    "    p=int(input())\n",
    "    t=int(input())\n",
    "    for i in range(0,t):\n",
    "        n=int(input())\n",
    "        if isSpecialNumber(n,p):\n",
    "            print(\"YES\")\n",
    "        else:\n",
    "            print(\"NO\")\n",
    "#solution2()\n",
    "isSpecialNumber(30,2)     "
   ]
  },
  {
   "cell_type": "code",
   "execution_count": 11,
   "metadata": {},
   "outputs": [
    {
     "name": "stdout",
     "output_type": "stream",
     "text": [
      "16\n"
     ]
    }
   ],
   "source": [
    "def hi(n):\n",
    "    hr=0\n",
    "    v=n\n",
    "    for i in  range(n-1,n//2,-1):\n",
    "        r=n%i\n",
    "        if r>hr:\n",
    "            hr=r\n",
    "            v=i\n",
    "    print(v)\n",
    "    return\n",
    "hi(30)\n",
    "\n",
    "            "
   ]
  },
  {
   "cell_type": "markdown",
   "metadata": {},
   "source": [
    "### Tuples\n",
    "\n",
    "**t1 = ()<br>**\n",
    "**li = []**\n",
    "\n",
    "**Difference between Lists and Tuples**\n",
    "\n",
    "**Lists are mutable - can be changed /modified**\n",
    "  - Used to access ,Modify ,Add,Delete data\n",
    "\n",
    "**Tuple are immutable - Cannot be changed once initialised**\n",
    "\n",
    " - Tuples are generally used to access data only\n"
   ]
  },
  {
   "cell_type": "code",
   "execution_count": 12,
   "metadata": {},
   "outputs": [
    {
     "data": {
      "text/plain": [
       "(1, 2, 3, 5, 8)"
      ]
     },
     "execution_count": 12,
     "metadata": {},
     "output_type": "execute_result"
    }
   ],
   "source": [
    "t1 = (1,2,3,5,8)\n",
    "t1\n"
   ]
  },
  {
   "cell_type": "code",
   "execution_count": 16,
   "metadata": {},
   "outputs": [
    {
     "data": {
      "text/plain": [
       "5"
      ]
     },
     "execution_count": 16,
     "metadata": {},
     "output_type": "execute_result"
    }
   ],
   "source": [
    "t1=(1,2,3,5,8)\n",
    "t1[3]"
   ]
  },
  {
   "cell_type": "code",
   "execution_count": 29,
   "metadata": {},
   "outputs": [
    {
     "data": {
      "text/plain": [
       "(3, 5, 8)"
      ]
     },
     "execution_count": 29,
     "metadata": {},
     "output_type": "execute_result"
    }
   ],
   "source": [
    "t1[len(t1)//2:]"
   ]
  },
  {
   "cell_type": "markdown",
   "metadata": {},
   "source": [
    "### Dictionories\n",
    "\n",
    "**IT Works on the concept of Set**<br>\n",
    "**Unique Data**<br>\n",
    "**Keys,Values<br>**\n",
    "**Key is the unique identifier for a value**<br>\n",
    "**Value is data that can be accessed with a key**<br>"
   ]
  },
  {
   "cell_type": "code",
   "execution_count": 30,
   "metadata": {},
   "outputs": [
    {
     "data": {
      "text/plain": [
       "{'k1': 'value1', 'k2': 'value2'}"
      ]
     },
     "execution_count": 30,
     "metadata": {},
     "output_type": "execute_result"
    }
   ],
   "source": [
    "d1={\"k1\":\"value1\",\"k2\":\"value2\"}\n",
    "d1"
   ]
  },
  {
   "cell_type": "code",
   "execution_count": 32,
   "metadata": {},
   "outputs": [
    {
     "data": {
      "text/plain": [
       "'value2'"
      ]
     },
     "execution_count": 32,
     "metadata": {},
     "output_type": "execute_result"
    }
   ],
   "source": [
    "d1[\"k2\"] # Accessing the value with key k2"
   ]
  },
  {
   "cell_type": "code",
   "execution_count": 35,
   "metadata": {},
   "outputs": [
    {
     "data": {
      "text/plain": [
       "dict_keys(['k1', 'k2'])"
      ]
     },
     "execution_count": 35,
     "metadata": {},
     "output_type": "execute_result"
    }
   ],
   "source": [
    "d1.keys()# Returns list of all keys\n"
   ]
  },
  {
   "cell_type": "code",
   "execution_count": 36,
   "metadata": {},
   "outputs": [
    {
     "data": {
      "text/plain": [
       "dict_values(['value1', 'value2'])"
      ]
     },
     "execution_count": 36,
     "metadata": {},
     "output_type": "execute_result"
    }
   ],
   "source": [
    "d1.values() # returns list of all values"
   ]
  },
  {
   "cell_type": "code",
   "execution_count": 37,
   "metadata": {},
   "outputs": [
    {
     "data": {
      "text/plain": [
       "dict_items([('k1', 'value1'), ('k2', 'value2')])"
      ]
     },
     "execution_count": 37,
     "metadata": {},
     "output_type": "execute_result"
    }
   ],
   "source": [
    "d1.items()  #  returns list of tuples of keys and values"
   ]
  },
  {
   "cell_type": "code",
   "execution_count": 38,
   "metadata": {},
   "outputs": [
    {
     "data": {
      "text/plain": [
       "{'k1': 'value1', 'k2': 'value2', 'k3': 'value3'}"
      ]
     },
     "execution_count": 38,
     "metadata": {},
     "output_type": "execute_result"
    }
   ],
   "source": [
    "d1[\"k3\"]=\"value3\"  # Adding an element to the dictonaty "
   ]
  },
  {
   "cell_type": "code",
   "execution_count": 39,
   "metadata": {},
   "outputs": [
    {
     "data": {
      "text/plain": [
       "{'k1': 'value1', 'k2': 'value2', 'k3': 'value4'}"
      ]
     },
     "execution_count": 39,
     "metadata": {},
     "output_type": "execute_result"
    }
   ],
   "source": [
    "d1[\"k3\"]=\"value4\" # This is Upadating an element\n",
    "d1"
   ]
  },
  {
   "cell_type": "code",
   "execution_count": 44,
   "metadata": {},
   "outputs": [
    {
     "data": {
      "text/plain": [
       "{'k1': 'value1', 'k2': 'value2'}"
      ]
     },
     "execution_count": 44,
     "metadata": {},
     "output_type": "execute_result"
    }
   ],
   "source": [
    "d1.pop(\"k3\") # Delete the last element\n",
    "\n",
    "d1\n"
   ]
  },
  {
   "cell_type": "code",
   "execution_count": 53,
   "metadata": {},
   "outputs": [
    {
     "data": {
      "text/plain": [
       "False"
      ]
     },
     "execution_count": 53,
     "metadata": {},
     "output_type": "execute_result"
    }
   ],
   "source": [
    "\"k1 \" in d1"
   ]
  },
  {
   "cell_type": "markdown",
   "metadata": {},
   "source": [
    "### Contacts Application\n",
    "\n",
    "- Add Contact\n",
    "- Search for contact\n",
    "- List all contacts\n",
    "- Modify contact\n",
    "- Remove contact"
   ]
  },
  {
   "cell_type": "code",
   "execution_count": 47,
   "metadata": {},
   "outputs": [
    {
     "name": "stdout",
     "output_type": "stream",
     "text": [
      "abc\n",
      "123\n",
      "{'abc': 1233}\n",
      "Contact abc already exists\n"
     ]
    }
   ],
   "source": [
    "#contacts={}\n",
    "def addContact(name,phone):\n",
    "    # Verify the contact doesnot already exist \n",
    "    if name not in contacts:\n",
    "        contacts[name]=phone\n",
    "        print(\"Contact Added\")\n",
    "    else:\n",
    "        print(\"Contact %s already exists\" % name)\n",
    "    return\n",
    "name=input()\n",
    "phone=int(input())\n",
    "print(contacts)\n",
    "addContact(name,phone)\n",
    "    "
   ]
  },
  {
   "cell_type": "code",
   "execution_count": 11,
   "metadata": {},
   "outputs": [
    {
     "data": {
      "text/plain": [
       "{'anu': 123}"
      ]
     },
     "execution_count": 11,
     "metadata": {},
     "output_type": "execute_result"
    }
   ],
   "source": [
    "contacts\n",
    "\n"
   ]
  },
  {
   "cell_type": "code",
   "execution_count": 18,
   "metadata": {},
   "outputs": [
    {
     "name": "stdout",
     "output_type": "stream",
     "text": [
      "sdfreg\n",
      "sdfreg does not exist\n"
     ]
    }
   ],
   "source": [
    "def searchContacts(name):\n",
    "    if name in contacts:\n",
    "        print(name,\"exists\",contacts[name])\n",
    "    else:\n",
    "        print(\"%s does not exist\" % name)\n",
    "    return\n",
    "name=input()\n",
    "searchContacts(name)"
   ]
  },
  {
   "cell_type": "code",
   "execution_count": 27,
   "metadata": {},
   "outputs": [
    {
     "name": "stdout",
     "output_type": "stream",
     "text": [
      "fdgh\n",
      "4566\n",
      "hjuj\n",
      "789\n",
      "2 contacts  added successfully\n"
     ]
    }
   ],
   "source": [
    "def importContacts(newConctacts):\n",
    "    contacts.update(newContacts)\n",
    "    print(len(newContacts.keys()),\"contacts  added successfully\")\n",
    "    return\n",
    "name2=input()\n",
    "name3=input()\n",
    "phone2=input()\n",
    "phone3=input()\n",
    "newContacts={name2:phone2,name3:phone3}\n",
    "importContacts(newContacts)"
   ]
  },
  {
   "cell_type": "code",
   "execution_count": 33,
   "metadata": {},
   "outputs": [
    {
     "data": {
      "text/plain": [
       "{'anu': 123,\n",
       " 'name2': 'phone2',\n",
       " 'name3': 'phone3',\n",
       " 'fdgh': 'hjuj',\n",
       " '4566': '789'}"
      ]
     },
     "execution_count": 33,
     "metadata": {},
     "output_type": "execute_result"
    }
   ],
   "source": [
    "contacts\n"
   ]
  },
  {
   "cell_type": "code",
   "execution_count": 43,
   "metadata": {},
   "outputs": [
    {
     "name": "stdout",
     "output_type": "stream",
     "text": [
      "gfhth\n",
      "gfhth not does not exists \n"
     ]
    }
   ],
   "source": [
    "def removeContacts(name):\n",
    "    if name in contacts:\n",
    "        contacts.pop(name)\n",
    "        print(\"%s removed\"% name)\n",
    "    else:\n",
    "        print(\"%s not does not exists \"% name)\n",
    "    return\n",
    "name=input()\n",
    "removeContacts(name)\n",
    "        \n",
    "    "
   ]
  },
  {
   "cell_type": "code",
   "execution_count": 42,
   "metadata": {},
   "outputs": [
    {
     "data": {
      "text/plain": [
       "{}"
      ]
     },
     "execution_count": 42,
     "metadata": {},
     "output_type": "execute_result"
    }
   ],
   "source": [
    "contacts\n"
   ]
  },
  {
   "cell_type": "markdown",
   "metadata": {},
   "source": [
    "## Packages and Modules\n",
    "\n",
    "**Package**---> Collection of Modules(PythonFile.py)\n",
    "\n",
    "**Sub Package** --->\n",
    "\n",
    "**Module**----> Sinle Python file containing various classes and methods(Functions) (Collection of Modules called Package)\n",
    "\n",
    "**Package-->Subpackages-->Modules-->Functions**"
   ]
  },
  {
   "cell_type": "code",
   "execution_count": null,
   "metadata": {},
   "outputs": [],
   "source": [
    "import math\n",
    "\n",
    "math.ceil(123.45467)\n",
    "\n",
    "math.floor(2344.56688999)\n"
   ]
  },
  {
   "cell_type": "code",
   "execution_count": 88,
   "metadata": {},
   "outputs": [
    {
     "data": {
      "text/plain": [
       "3.141592653589793"
      ]
     },
     "execution_count": 88,
     "metadata": {},
     "output_type": "execute_result"
    }
   ],
   "source": [
    "math.pi"
   ]
  },
  {
   "cell_type": "code",
   "execution_count": 83,
   "metadata": {},
   "outputs": [
    {
     "data": {
      "text/plain": [
       "-1.995200412208242"
      ]
     },
     "execution_count": 83,
     "metadata": {},
     "output_type": "execute_result"
    }
   ],
   "source": [
    "math.tan(90)"
   ]
  },
  {
   "cell_type": "code",
   "execution_count": 84,
   "metadata": {},
   "outputs": [],
   "source": [
    "from math import  ceil"
   ]
  },
  {
   "cell_type": "code",
   "execution_count": 85,
   "metadata": {},
   "outputs": [
    {
     "data": {
      "text/plain": [
       "3.141592653589793"
      ]
     },
     "execution_count": 85,
     "metadata": {},
     "output_type": "execute_result"
    }
   ],
   "source": [
    "math.pi"
   ]
  },
  {
   "cell_type": "code",
   "execution_count": 86,
   "metadata": {},
   "outputs": [
    {
     "data": {
      "text/plain": [
       "35"
      ]
     },
     "execution_count": 86,
     "metadata": {},
     "output_type": "execute_result"
    }
   ],
   "source": [
    "ceil(34.5)"
   ]
  },
  {
   "cell_type": "code",
   "execution_count": 87,
   "metadata": {},
   "outputs": [
    {
     "data": {
      "text/plain": [
       "3"
      ]
     },
     "execution_count": 87,
     "metadata": {},
     "output_type": "execute_result"
    }
   ],
   "source": [
    "floor(3.677)"
   ]
  },
  {
   "cell_type": "code",
   "execution_count": 90,
   "metadata": {},
   "outputs": [
    {
     "name": "stdout",
     "output_type": "stream",
     "text": [
      "59 80 88 62 31 47 64 48 61 26 10 80 53 11 13 42 88 27 20 10 "
     ]
    }
   ],
   "source": [
    "import random\n",
    "def GenerateRandomNumbers(n,lb,ub):\n",
    "    for i in range(0,n):\n",
    "        print(random.randint(lb,ub),end=\" \")\n",
    "GenerateRandomNumbers(20,0,100)"
   ]
  },
  {
   "cell_type": "code",
   "execution_count": 97,
   "metadata": {},
   "outputs": [
    {
     "data": {
      "text/plain": [
       "1"
      ]
     },
     "execution_count": 97,
     "metadata": {},
     "output_type": "execute_result"
    }
   ],
   "source": [
    "from Packages import *\n",
    "numerical.numberPrimeFactors(7)"
   ]
  },
  {
   "cell_type": "code",
   "execution_count": 10,
   "metadata": {},
   "outputs": [
    {
     "data": {
      "text/plain": [
       "[0, 1, 2, 3, 9]"
      ]
     },
     "execution_count": 10,
     "metadata": {},
     "output_type": "execute_result"
    }
   ],
   "source": [
    "li=[9,1,3,0,2]\n",
    "li.sort()\n",
    "li"
   ]
  },
  {
   "cell_type": "code",
   "execution_count": 11,
   "metadata": {},
   "outputs": [
    {
     "data": {
      "text/plain": [
       "[3, 9]"
      ]
     },
     "execution_count": 11,
     "metadata": {},
     "output_type": "execute_result"
    }
   ],
   "source": [
    "li[-2:]"
   ]
  },
  {
   "cell_type": "code",
   "execution_count": 12,
   "metadata": {},
   "outputs": [
    {
     "data": {
      "text/plain": [
       "12"
      ]
     },
     "execution_count": 12,
     "metadata": {},
     "output_type": "execute_result"
    }
   ],
   "source": [
    "sum(li[-2:])"
   ]
  },
  {
   "cell_type": "code",
   "execution_count": 24,
   "metadata": {},
   "outputs": [
    {
     "name": "stdout",
     "output_type": "stream",
     "text": [
      "1\n",
      "0 4 -3 8 9 2\n"
     ]
    },
    {
     "data": {
      "text/plain": [
       "[-3, 0, 2, 4, 8, 9]"
      ]
     },
     "execution_count": 24,
     "metadata": {},
     "output_type": "execute_result"
    }
   ],
   "source": [
    "n=int(input())\n",
    "s=input().split()\n",
    "li=[]\n",
    "b=[]\n",
    "for i in  s:\n",
    "    li.append(int(i))\n",
    "li.sort()\n",
    "li\n",
    "\n"
   ]
  },
  {
   "cell_type": "code",
   "execution_count": 27,
   "metadata": {},
   "outputs": [
    {
     "name": "stdout",
     "output_type": "stream",
     "text": [
      "5\n",
      "1\n",
      "1\n",
      "2\n",
      "2\n",
      "4\n",
      "4\n",
      "42\n",
      "42\n"
     ]
    }
   ],
   "source": [
    "n1=int(input())\n",
    "for i in range (1,n1+1):\n",
    "    n=int(input())\n",
    "    print(n)\n",
    "    if(n==42):\n",
    "        break"
   ]
  },
  {
   "cell_type": "code",
   "execution_count": null,
   "metadata": {},
   "outputs": [],
   "source": []
  }
 ],
 "metadata": {
  "kernelspec": {
   "display_name": "Python 3",
   "language": "python",
   "name": "python3"
  },
  "language_info": {
   "codemirror_mode": {
    "name": "ipython",
    "version": 3
   },
   "file_extension": ".py",
   "mimetype": "text/x-python",
   "name": "python",
   "nbconvert_exporter": "python",
   "pygments_lexer": "ipython3",
   "version": "3.7.3"
  }
 },
 "nbformat": 4,
 "nbformat_minor": 2
}
