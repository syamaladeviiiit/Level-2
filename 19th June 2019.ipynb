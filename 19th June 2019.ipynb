{
 "cells": [
  {
   "cell_type": "markdown",
   "metadata": {},
   "source": [
    "## 19th June 2019\n",
    "\n",
    "## **Day Objectives**\n",
    "\n",
    "- **Solving the Hackerearth Programs**"
   ]
  },
  {
   "cell_type": "code",
   "execution_count": null,
   "metadata": {},
   "outputs": [],
   "source": []
  },
  {
   "cell_type": "markdown",
   "metadata": {},
   "source": [
    "### Program to find the Goki and his break"
   ]
  },
  {
   "cell_type": "code",
   "execution_count": 1,
   "metadata": {},
   "outputs": [
    {
     "name": "stdout",
     "output_type": "stream",
     "text": [
      "5\n",
      "100\n",
      "11\n",
      "NO\n",
      "130\n",
      "YES\n",
      "100\n",
      "YES\n",
      "90\n",
      "NO\n",
      "110\n",
      "YES\n"
     ]
    }
   ],
   "source": [
    "# Program to find the Goki and his break\n",
    "\n",
    "n=int(input())\n",
    "x=int(input())\n",
    "for i in range(1,n+1):\n",
    "    y=int(input())\n",
    "    if(x<=y):\n",
    "        print(\"YES\")\n",
    "        #max=y\n",
    "    else:\n",
    "        print(\"NO\")\n",
    "        #min=y\n",
    "    "
   ]
  },
  {
   "cell_type": "markdown",
   "metadata": {},
   "source": [
    "## Anagrams"
   ]
  },
  {
   "cell_type": "code",
   "execution_count": 2,
   "metadata": {},
   "outputs": [
    {
     "name": "stdout",
     "output_type": "stream",
     "text": [
      "2\n",
      "cdefgegrfe\n",
      "nsdfjioefje\n",
      "11\n",
      "vmfkgjjgrg\n",
      "cmnsfkljefjef\n",
      "13\n"
     ]
    }
   ],
   "source": [
    "# For make the anagram what elements to remove\n",
    "def anagram(s1,s2):\n",
    "    s3=[0]*26\n",
    "    s4=[0]*26\n",
    "    for j in range(0,len(s1)):\n",
    "        s3[ord(s1[j])-97] =s3[ord(s1[j])-97]+1\n",
    "    for f in range(0,len(s2)):\n",
    "        s4[ord(s2[f])-97]=s4[ord(s2[f])-97]+1\n",
    "    count=0\n",
    "    for k in range(26):\n",
    "        count=count+abs((s3[k]-s4[k]))\n",
    "    return count\n",
    "n=int(input())\n",
    "for i in range(n):\n",
    "    s1=input()\n",
    "    s2=input()\n",
    "    print(anagram(s1,s2))\n",
    "    "
   ]
  },
  {
   "cell_type": "markdown",
   "metadata": {},
   "source": [
    "## Life, the Universe, and Everything"
   ]
  },
  {
   "cell_type": "code",
   "execution_count": 6,
   "metadata": {},
   "outputs": [
    {
     "name": "stdout",
     "output_type": "stream",
     "text": [
      "1\n",
      "1\n",
      "2\n",
      "2\n",
      "4\n",
      "4\n",
      "88\n",
      "88\n",
      "30\n",
      "30\n",
      "42\n"
     ]
    }
   ],
   "source": [
    "# Find the Life the Universe and Everthing\n",
    "while(1):\n",
    "    n=int(input())\n",
    "    if(n==42):\n",
    "        break\n",
    "    else:\n",
    "        print(n)\n",
    "    \n"
   ]
  },
  {
   "cell_type": "markdown",
   "metadata": {},
   "source": [
    "## Array Sum"
   ]
  },
  {
   "cell_type": "code",
   "execution_count": 8,
   "metadata": {},
   "outputs": [
    {
     "name": "stdout",
     "output_type": "stream",
     "text": [
      "5\n",
      "100001 100003 10000005 1000004 1000007 \n",
      "12200020\n"
     ]
    }
   ],
   "source": [
    "# Find the Array Sum\n",
    "\n",
    "def arraysum(n):\n",
    "    sum=0\n",
    "    n=input().split()\n",
    "    li=[]\n",
    "    for i in n:\n",
    "        li.append(int(i))\n",
    "    for j in li:\n",
    "        sum=sum+j\n",
    "    print (sum)\n",
    "n=input()\n",
    "arraysum(n)\n",
    "    \n",
    "    "
   ]
  },
  {
   "cell_type": "code",
   "execution_count": null,
   "metadata": {},
   "outputs": [],
   "source": []
  }
 ],
 "metadata": {
  "kernelspec": {
   "display_name": "Python 3",
   "language": "python",
   "name": "python3"
  },
  "language_info": {
   "codemirror_mode": {
    "name": "ipython",
    "version": 3
   },
   "file_extension": ".py",
   "mimetype": "text/x-python",
   "name": "python",
   "nbconvert_exporter": "python",
   "pygments_lexer": "ipython3",
   "version": "3.7.3"
  }
 },
 "nbformat": 4,
 "nbformat_minor": 2
}
