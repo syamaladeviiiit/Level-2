{
 "cells": [
  {
   "cell_type": "markdown",
   "metadata": {},
   "source": [
    "## 28th June 2019\n",
    "\n",
    "### Day Objectives:-\n",
    "\n",
    "- Map\n",
    "- Lambda\n",
    "- Filter\n",
    "- Uses cases- File /Data Encryption"
   ]
  },
  {
   "cell_type": "markdown",
   "metadata": {},
   "source": [
    "### Maps"
   ]
  },
  {
   "cell_type": "markdown",
   "metadata": {},
   "source": [
    "- Mapping --> An Entity with a funciton<br>\n",
    "\n",
    "  - f : x^2  \n",
    "  - x : [1,10] \n",
    "  -   f(x)\n",
    " \n",
    "   \n",
    "  y=f(x)\n",
    "  \n",
    "  x ----------->    y=(x^2)\n",
    "  \n",
    "  1  .........>   2   <br>\n",
    "  2 ..........>   4   <br>\n",
    "  3 ..........>   9   <br>\n",
    "  4 ...........>  16  <br>\n",
    "  5 ............> 25   <br>\n",
    "  6 ............> 36  <br>\n",
    "  7 ...........>  49  <br>\n",
    "  8 ...........>  64  <br>\n",
    "  9  ...........> 81  <br>\n",
    "  10 ...........> 100  <br>\n",
    "  \n",
    "  ###### map ===>> ( function , Iterable )\n",
    "  "
   ]
  },
  {
   "cell_type": "code",
   "execution_count": 1,
   "metadata": {},
   "outputs": [
    {
     "data": {
      "text/plain": [
       "9"
      ]
     },
     "execution_count": 1,
     "metadata": {},
     "output_type": "execute_result"
    }
   ],
   "source": [
    "def powerN1(a,n):\n",
    "    return a**n\n",
    "a=int(input())\n",
    "n=int(input())\n",
    "powerN(3,2)\n",
    "    "
   ]
  },
  {
   "cell_type": "code",
   "execution_count": 2,
   "metadata": {},
   "outputs": [
    {
     "name": "stdout",
     "output_type": "stream",
     "text": [
      "1\n",
      "0\n"
     ]
    },
    {
     "data": {
      "text/plain": [
       "1"
      ]
     },
     "execution_count": 2,
     "metadata": {},
     "output_type": "execute_result"
    }
   ],
   "source": [
    "def powerN2(a,n):\n",
    "    r=1\n",
    "    for i in range(0,n):\n",
    "        r*=a\n",
    "    return r\n",
    "a=int(input())\n",
    "n=int(input())\n",
    "powerN2(a,n)"
   ]
  },
  {
   "cell_type": "code",
   "execution_count": 10,
   "metadata": {},
   "outputs": [
    {
     "name": "stdout",
     "output_type": "stream",
     "text": [
      "2\n",
      "4\n"
     ]
    },
    {
     "data": {
      "text/plain": [
       "16"
      ]
     },
     "execution_count": 10,
     "metadata": {},
     "output_type": "execute_result"
    }
   ],
   "source": [
    "def powerN3_Recurssion(a,n):\n",
    "    if n==0:\n",
    "        return 1\n",
    "    else:\n",
    "        return a * powerN3_Recurssion(a,n-1)\n",
    "a=int(input())\n",
    "n=int(input())\n",
    "powerN3_Recurssion(a,n)\n",
    "        \n"
   ]
  },
  {
   "cell_type": "code",
   "execution_count": 21,
   "metadata": {},
   "outputs": [
    {
     "data": {
      "text/plain": [
       "{1, 8, 27, 64, 125, 343, 512, 729}"
      ]
     },
     "execution_count": 21,
     "metadata": {},
     "output_type": "execute_result"
    }
   ],
   "source": [
    "def cube(n):\n",
    "    return n**3\n",
    "li=[1,2,3,4,5,7,9,8]\n",
    "set(map(cube, li))\n",
    "\n"
   ]
  },
  {
   "cell_type": "code",
   "execution_count": 98,
   "metadata": {},
   "outputs": [
    {
     "data": {
      "text/plain": [
       "(1.0, 2.0, 3.0, 4.0, 5.0, 6.0)"
      ]
     },
     "execution_count": 98,
     "metadata": {},
     "output_type": "execute_result"
    }
   ],
   "source": [
    "def cube(n):\n",
    "    return n**3\n",
    "li=['1','2','3','4','5','6']\n",
    "\n",
    "li2=list(map(int,li))  # to convert string to int\n",
    "li2\n",
    "\n",
    "list(map(str,li2)) # to convert int to string\n",
    "\n",
    "tuple(map(float,li2)) # map used to apply every element to iterable\n",
    "\n"
   ]
  },
  {
   "cell_type": "code",
   "execution_count": 99,
   "metadata": {},
   "outputs": [
    {
     "data": {
      "text/plain": [
       "[1, 2, 3, 4, 5, 6]"
      ]
     },
     "execution_count": 99,
     "metadata": {},
     "output_type": "execute_result"
    }
   ],
   "source": [
    "[str(i) for i in li]\n",
    "[int(i) for i in li]\n"
   ]
  },
  {
   "cell_type": "code",
   "execution_count": 102,
   "metadata": {},
   "outputs": [
    {
     "data": {
      "text/plain": [
       "[None, 1, 1, None, 1, None]"
      ]
     },
     "execution_count": 102,
     "metadata": {},
     "output_type": "execute_result"
    }
   ],
   "source": [
    "numbers=[int(i) for i in li]\n",
    "[cube(i) for i in numbers]\n",
    "\n",
    "[isprime(i) for i in numbers]\n"
   ]
  },
  {
   "cell_type": "markdown",
   "metadata": {},
   "source": [
    "### Filter\n"
   ]
  },
  {
   "cell_type": "markdown",
   "metadata": {},
   "source": [
    "- Used to check the boolean values  Fileter also used like map but boolean values\n",
    "\n",
    "\n",
    "      - f:x ---> {T,F}\n",
    "      \n",
    "      y C x\n",
    "      \n",
    "      x  ------ y \n",
    "      1  ------\n",
    "      2  ------ 2\n",
    "      3  ------ 3\n",
    "      4  ------\n",
    "      5  ------ 5\n",
    "      \n"
   ]
  },
  {
   "cell_type": "code",
   "execution_count": 49,
   "metadata": {},
   "outputs": [
    {
     "data": {
      "text/plain": [
       "False"
      ]
     },
     "execution_count": 49,
     "metadata": {},
     "output_type": "execute_result"
    }
   ],
   "source": [
    "li=[1,2,3,'a','b','c',3]\n",
    "def isDigit(c):\n",
    "    c=str(c)\n",
    "    if c.isdigit():\n",
    "        return True\n",
    "    else:\n",
    "        return False\n",
    "isDigit('a')"
   ]
  },
  {
   "cell_type": "code",
   "execution_count": 57,
   "metadata": {},
   "outputs": [
    {
     "data": {
      "text/plain": [
       "['a', 'b', 'c']"
      ]
     },
     "execution_count": 57,
     "metadata": {},
     "output_type": "execute_result"
    }
   ],
   "source": [
    "li=[1,2,3,'a','b','c']\n",
    "def isDigit(c):\n",
    "    c=str(c)\n",
    "    if c.isdigit():  # isdigit(i)\n",
    "        return 0\n",
    "    else:\n",
    "        return 100\n",
    "isDigit('a')\n",
    "\n",
    "list(filter(isDigit,li))"
   ]
  },
  {
   "cell_type": "code",
   "execution_count": 58,
   "metadata": {},
   "outputs": [
    {
     "data": {
      "text/plain": [
       "[1, 2, 3]"
      ]
     },
     "execution_count": 58,
     "metadata": {},
     "output_type": "execute_result"
    }
   ],
   "source": [
    "li=[1,2,3,'a','b','c']\n",
    "def isDigit(c):\n",
    "    c=str(c)\n",
    "    if c.isdigit():  # isdigit(i)\n",
    "        return 1\n",
    "    else:\n",
    "        return 0\n",
    "isDigit('a')\n",
    "\n",
    "list(filter(isDigit,li))"
   ]
  },
  {
   "cell_type": "code",
   "execution_count": 62,
   "metadata": {},
   "outputs": [
    {
     "data": {
      "text/plain": [
       "0"
      ]
     },
     "execution_count": 62,
     "metadata": {},
     "output_type": "execute_result"
    }
   ],
   "source": [
    "li=[1,2,3,'a','b','c']\n",
    "def isDigit(c):\n",
    "    c=str(c)\n",
    "    if c.isdigit():  # isdigit(i)\n",
    "        return -1\n",
    "    else:\n",
    "        return 0\n",
    "isDigit('a')\n",
    "\n",
    "list(filter(isDigit,li))"
   ]
  },
  {
   "cell_type": "code",
   "execution_count": 75,
   "metadata": {},
   "outputs": [
    {
     "data": {
      "text/plain": [
       "[2, 3, 5, 7]"
      ]
     },
     "execution_count": 75,
     "metadata": {},
     "output_type": "execute_result"
    }
   ],
   "source": [
    "# Identify all primes in a range\n",
    "li=[2,3,4,5,6,7,8]    \n",
    "def  isprime(n):\n",
    "    count=0\n",
    "    for i in range(1,n+1):\n",
    "        if n%i==0:\n",
    "            count=count+1\n",
    "    if(count==2):\n",
    "        return 1\n",
    "#         print(i)\n",
    "#n=int(input())\n",
    "isprime(3)\n",
    "list(filter(isprime,li))\n",
    "\n",
    "   "
   ]
  },
  {
   "cell_type": "code",
   "execution_count": 94,
   "metadata": {},
   "outputs": [
    {
     "data": {
      "text/plain": [
       "[503, 509, 521, 523, 541, 547, 557, 563, 569, 571, 577, 587, 593, 599]"
      ]
     },
     "execution_count": 94,
     "metadata": {},
     "output_type": "execute_result"
    }
   ],
   "source": [
    "def checkprime(n):\n",
    "    for i in range(2,n//2+1):\n",
    "        if n%i==0:\n",
    "            return False\n",
    "    return True\n",
    "    \n",
    "lb,ub=500,600\n",
    "primeList=list(filter(checkprime,range(lb,ub)))\n",
    "primeList\n",
    "\n",
    "\n",
    "# map fails because it doesn't apply for checking conditions \n",
    "#primeList=list(map(checkprime,range(lb,ub)))\n",
    "#primeList\n",
    "\n"
   ]
  },
  {
   "cell_type": "code",
   "execution_count": 91,
   "metadata": {},
   "outputs": [
    {
     "data": {
      "text/plain": [
       "[503, 509, 521, 523, 541, 547, 557, 563, 569, 571, 577, 587, 593, 599]"
      ]
     },
     "execution_count": 91,
     "metadata": {},
     "output_type": "execute_result"
    }
   ],
   "source": [
    "# List comprehension   \n",
    "\n",
    "primeList=[i for i in range(lb,ub+1) if checkprime(i)]\n",
    "primeList"
   ]
  },
  {
   "cell_type": "code",
   "execution_count": null,
   "metadata": {},
   "outputs": [],
   "source": []
  },
  {
   "cell_type": "markdown",
   "metadata": {},
   "source": [
    "### Lambda"
   ]
  },
  {
   "cell_type": "markdown",
   "metadata": {},
   "source": [
    "- Anonymous Functions (unknown lambda is inbuilt function\n",
    "- Can be embedded into Lists comprehension,Maps,Filters\n",
    "\n",
    "- keyword is different from inbuilt function...."
   ]
  },
  {
   "cell_type": "code",
   "execution_count": 121,
   "metadata": {},
   "outputs": [
    {
     "data": {
      "text/plain": [
       "27"
      ]
     },
     "execution_count": 121,
     "metadata": {},
     "output_type": "execute_result"
    }
   ],
   "source": [
    "a =lambda x :  x**3  \n",
    "a(3)"
   ]
  },
  {
   "cell_type": "code",
   "execution_count": 135,
   "metadata": {},
   "outputs": [
    {
     "data": {
      "text/plain": [
       "[1, 8, 27, 64, 125, 216, 343]"
      ]
     },
     "execution_count": 135,
     "metadata": {},
     "output_type": "execute_result"
    }
   ],
   "source": [
    "a =lambda x :  x**3  \n",
    "list(map(lambda x: x**3,[1,2,3,4,5,6,7]))"
   ]
  },
  {
   "cell_type": "code",
   "execution_count": 136,
   "metadata": {},
   "outputs": [
    {
     "data": {
      "text/plain": [
       "[1, 3, 5, 7]"
      ]
     },
     "execution_count": 136,
     "metadata": {},
     "output_type": "execute_result"
    }
   ],
   "source": [
    "a =lambda x :  x%2\n",
    "list(filter(lambda x: x%2!=0,[1,2,3,4,5,6,7]))"
   ]
  },
  {
   "cell_type": "code",
   "execution_count": 4,
   "metadata": {},
   "outputs": [
    {
     "data": {
      "text/plain": [
       "[23, 17, 22, 5, 25, 22, 22, 7, 13, 20]"
      ]
     },
     "execution_count": 4,
     "metadata": {},
     "output_type": "execute_result"
    }
   ],
   "source": [
    "from random import randint\n",
    "internal1=[randint(0,25) for i in  range(10)]\n",
    "internal2=[randint(0,25) for i in range(10)]\n",
    "internal2"
   ]
  },
  {
   "cell_type": "code",
   "execution_count": 5,
   "metadata": {},
   "outputs": [
    {
     "data": {
      "text/plain": [
       "[9, 16, 4, 9, 17, 13, 20, 9, 21, 24]"
      ]
     },
     "execution_count": 5,
     "metadata": {},
     "output_type": "execute_result"
    }
   ],
   "source": [
    "internal1"
   ]
  },
  {
   "cell_type": "code",
   "execution_count": 6,
   "metadata": {},
   "outputs": [
    {
     "data": {
      "text/plain": [
       "[16.0, 16.5, 13.0, 7.0, 21.0, 17.5, 21.0, 8.0, 17.0, 22.0]"
      ]
     },
     "execution_count": 6,
     "metadata": {},
     "output_type": "execute_result"
    }
   ],
   "source": [
    "averageInternal = list(map(lambda x,y:(x+y)/2,internal1,internal2))\n",
    "averageInternal"
   ]
  },
  {
   "cell_type": "code",
   "execution_count": 8,
   "metadata": {},
   "outputs": [
    {
     "data": {
      "text/plain": [
       "[10, 10, 9, 7, 8, 17, 15, 12, 4, 14]"
      ]
     },
     "execution_count": 8,
     "metadata": {},
     "output_type": "execute_result"
    }
   ],
   "source": [
    "internal1=[randint(0,25) for i in  range(10)]\n",
    "internal2=[randint(0,25) for i in range(10)]\n",
    "internal3=[randint(0,25) for i in  range(10)]\n",
    "avera3=list(map(lambda x,y,z:(x+y+z)//3,internal1,internal2,internal3))\n",
    "avera3"
   ]
  },
  {
   "cell_type": "code",
   "execution_count": 11,
   "metadata": {},
   "outputs": [
    {
     "name": "stdout",
     "output_type": "stream",
     "text": [
      "[12, 9, 17, 9, 17, 8, 11, 11, 14, 16]\n",
      "[9, 9, 8]\n"
     ]
    }
   ],
   "source": [
    "internal1=[randint(0,25) for i in  range(10)]\n",
    "internal2=[randint(0,25) for i in range(10)]\n",
    "internal3=[randint(0,25) for i in  range(10)]\n",
    "avera3=list(map(lambda x,y,z:(x+y+z)//3,internal1,internal2,internal3))\n",
    "print(avera3)\n",
    "FailedMarks=list(filter(lambda i: i<10, avera3))\n",
    "print(FailedMarks)"
   ]
  },
  {
   "cell_type": "code",
   "execution_count": null,
   "metadata": {},
   "outputs": [],
   "source": []
  },
  {
   "cell_type": "markdown",
   "metadata": {},
   "source": [
    "##### Applying Functional Programming to the Marks Analysis  Applications\n"
   ]
  },
  {
   "cell_type": "code",
   "execution_count": 14,
   "metadata": {},
   "outputs": [],
   "source": [
    "# Generate Marks data  \n",
    "from random import randint\n",
    "def generateMarks(n,lb,ub):\n",
    "    filename='D\\marks.txt'\n",
    "    with open (filename ,'w') as f:\n",
    "        for i in range(n):\n",
    "            marks=randint(lb,ub)\n",
    "            f.write(str(marks)+'\\n')\n",
    "generateMarks(10,1,100)\n",
    "        "
   ]
  },
  {
   "cell_type": "code",
   "execution_count": 60,
   "metadata": {},
   "outputs": [
    {
     "data": {
      "text/plain": [
       "56"
      ]
     },
     "execution_count": 60,
     "metadata": {},
     "output_type": "execute_result"
    }
   ],
   "source": [
    "# Marks Analysis\n",
    "    # Class Average % passed ,Failed and Disticntion\n",
    "    # Frequency of Highest and lowest Mark\n",
    "\n",
    "import re    \n",
    "def ca(filepath):\n",
    "    with open(filepath,'r') as f:\n",
    "        filedata=f.read()\n",
    "        markslist=re.split('\\n',filedata)\n",
    "        markslist=list(map(int,markslist))\n",
    "    return sum(markslist)//len(markslist)\n",
    "filepath='D\\marks.txt'\n",
    "ca(filepath)"
   ]
  },
  {
   "cell_type": "code",
   "execution_count": 61,
   "metadata": {},
   "outputs": [
    {
     "data": {
      "text/plain": [
       "56"
      ]
     },
     "execution_count": 61,
     "metadata": {},
     "output_type": "execute_result"
    }
   ],
   "source": [
    "def readMarksList(filepath):\n",
    "    with open(filepath,'r') as f:\n",
    "        filedata=f.read().split()\n",
    "    return list(map(int,filedata))\n",
    "def classAverage(filepath):\n",
    "    markslist=readMarksList(filepath)\n",
    "    return sum(markslist)//len(markslist)\n",
    "filepath='D\\marks.txt'\n",
    "classAverage(filepath)\n"
   ]
  },
  {
   "cell_type": "code",
   "execution_count": null,
   "metadata": {},
   "outputs": [],
   "source": []
  },
  {
   "cell_type": "code",
   "execution_count": 62,
   "metadata": {},
   "outputs": [
    {
     "data": {
      "text/plain": [
       "36.36363636363637"
      ]
     },
     "execution_count": 62,
     "metadata": {},
     "output_type": "execute_result"
    }
   ],
   "source": [
    "def percentageFailed(filepath):\n",
    "    markslist=readMarksList(filepath)\n",
    "    failedcount = len(list(filter(lambda mark : mark < 40,markslist)))\n",
    "    return (failedcount/len(markslist))*100\n",
    "filepath='D\\marks.txt'\n",
    "percentageFailed(filepath)"
   ]
  },
  {
   "cell_type": "code",
   "execution_count": 64,
   "metadata": {},
   "outputs": [
    {
     "data": {
      "text/plain": [
       "63.63636363636363"
      ]
     },
     "execution_count": 64,
     "metadata": {},
     "output_type": "execute_result"
    }
   ],
   "source": [
    "def PercentagePassed(filepath):\n",
    "    return 100-percentageFailed(filepath)\n",
    "PercentagePassed(filepath)"
   ]
  },
  {
   "cell_type": "code",
   "execution_count": 63,
   "metadata": {},
   "outputs": [
    {
     "data": {
      "text/plain": [
       "36.36363636363637"
      ]
     },
     "execution_count": 63,
     "metadata": {},
     "output_type": "execute_result"
    }
   ],
   "source": [
    "def PercentageDistinction(filepath):\n",
    "    markslist=readMarksList(filepath)\n",
    "    discount=len(list(filter(lambda mark:mark>70,markslist )))\n",
    "    return (discount/len(markslist))*100\n",
    "PercentageDistinction(filepath)"
   ]
  },
  {
   "cell_type": "code",
   "execution_count": 65,
   "metadata": {},
   "outputs": [
    {
     "data": {
      "text/plain": [
       "1"
      ]
     },
     "execution_count": 65,
     "metadata": {},
     "output_type": "execute_result"
    }
   ],
   "source": [
    "def HighestFrequency(filepath):\n",
    "    markslist=readMarksList(filepath)\n",
    "    return markslist.count(max(markslist))\n",
    "HighestFrequency(filepath)\n"
   ]
  },
  {
   "cell_type": "code",
   "execution_count": 67,
   "metadata": {},
   "outputs": [
    {
     "data": {
      "text/plain": [
       "2"
      ]
     },
     "execution_count": 67,
     "metadata": {},
     "output_type": "execute_result"
    }
   ],
   "source": [
    "def LowestFrequency(filepath):\n",
    "    markslist=readMarksList(filepath)\n",
    "    return markslist.count(min(markslist))\n",
    "LowestFrequency(filepath)\n"
   ]
  },
  {
   "cell_type": "code",
   "execution_count": null,
   "metadata": {},
   "outputs": [],
   "source": []
  },
  {
   "cell_type": "markdown",
   "metadata": {},
   "source": [
    "###  Data Encryption\n",
    "\n",
    "- Key - Mapping of data with replaced \n",
    "\n",
    "0 ---->  4  <br>\n",
    "1----->  5  <br>\n",
    "2----->  6  <br>\n",
    "3----->  7  <br>\n",
    "4----->  8  <br>\n",
    "5----->  9  <br>\n",
    "6----->  0  <br>\n",
    "7----->  1  <br>\n",
    "8----->  2  <br>\n",
    "9----->  3  <br>\n",
    "\n"
   ]
  },
  {
   "cell_type": "code",
   "execution_count": null,
   "metadata": {},
   "outputs": [],
   "source": []
  },
  {
   "cell_type": "code",
   "execution_count": 71,
   "metadata": {},
   "outputs": [],
   "source": [
    "# Function to generate the key for encription\n",
    "\n",
    "keypath='DataFiles\\key.txt'\n",
    "def generatekey():\n",
    "    with open(keypath,'w') as f:\n",
    "        for i in range(10):\n",
    "            if i <6:\n",
    "                f.write(str(i)+' '+str(i+4)+'\\n')\n",
    "            else:\n",
    "                f.write(str(i)+' '+str(i-6)+'\\n')\n",
    "    return\n",
    "generatekey()\n",
    "        \n",
    "        "
   ]
  },
  {
   "cell_type": "code",
   "execution_count": 79,
   "metadata": {},
   "outputs": [
    {
     "data": {
      "text/plain": [
       "{'0': '4',\n",
       " '1': '5',\n",
       " '2': '6',\n",
       " '3': '7',\n",
       " '4': '8',\n",
       " '5': '9',\n",
       " '6': '0',\n",
       " '7': '1',\n",
       " '8': '2',\n",
       " '9': '3'}"
      ]
     },
     "execution_count": 79,
     "metadata": {},
     "output_type": "execute_result"
    }
   ],
   "source": [
    "# Function to encrypt a data file \n",
    "keyfile='DataFiles\\key.txt'\n",
    "def dictionarykeyFile(keyfile):\n",
    "    key={}\n",
    "    with open (keyfile,'r') as f:\n",
    "        for line in f:\n",
    "            line=line.split()\n",
    "            key[line[0]]=line[1]\n",
    "    return key\n",
    "dictionarykeyFile(keyfile)\n",
    "\n",
    "#def encryptMarksData(datafile,keyfile):\n",
    "    # construct a dictionary   for key data "
   ]
  },
  {
   "cell_type": "code",
   "execution_count": null,
   "metadata": {},
   "outputs": [],
   "source": []
  }
 ],
 "metadata": {
  "kernelspec": {
   "display_name": "Python 3",
   "language": "python",
   "name": "python3"
  },
  "language_info": {
   "codemirror_mode": {
    "name": "ipython",
    "version": 3
   },
   "file_extension": ".py",
   "mimetype": "text/x-python",
   "name": "python",
   "nbconvert_exporter": "python",
   "pygments_lexer": "ipython3",
   "version": "3.7.3"
  }
 },
 "nbformat": 4,
 "nbformat_minor": 2
}
