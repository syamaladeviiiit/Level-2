{
 "cells": [
  {
   "cell_type": "markdown",
   "metadata": {},
   "source": [
    "# Problem Solving And Programming \n",
    "\n",
    "#### Date 12June 2019\n",
    "\n",
    "\n",
    "#### Day Objectives:-\n",
    "\n",
    "- String Slicing\n",
    "- Functions in Python\n",
    "- Basic Problems related to conditional statements using functions\n",
    "- Iteration in Python\n",
    "- Practise more problems\n",
    "    "
   ]
  },
  {
   "cell_type": "code",
   "execution_count": null,
   "metadata": {},
   "outputs": [],
   "source": []
  },
  {
   "cell_type": "markdown",
   "metadata": {},
   "source": [
    "### String Slicing"
   ]
  },
  {
   "cell_type": "code",
   "execution_count": 2,
   "metadata": {},
   "outputs": [
    {
     "data": {
      "text/plain": [
       "'nhy'"
      ]
     },
     "execution_count": 2,
     "metadata": {},
     "output_type": "execute_result"
    }
   ],
   "source": [
    "s1= \"Python\"\n",
    "\n",
    "s1[0] #Accessing the first character in a string\n",
    "\n",
    "s1[1] # Accessing the second character in a string\n",
    "\n",
    "s1[len(s1)-1] # Accessing the last character in a string\n",
    "\n",
    "# Another way of accessing the last character is \n",
    "s1[-1]\n",
    "\n",
    "\n",
    "s1[-2]#  Second character from the last character  or Accessing the penultimate character of a string\n",
    "\n",
    "s1[0:3] # Accessing the 2 characters\n",
    "\n",
    "s1[-2:] # Accessing the last two characters in a string\n",
    "\n",
    "s1[0:] # Accessing the entire word\n",
    "\n",
    "#s1[4:] # it will help in  string of the letters we know  or it is accessing all the characters from 5th character to end of the string\n",
    "\n",
    "s1[len(s1)-2:] # string of any length\n",
    "\n",
    "\n",
    "# Accessing all characters except firt and last charcter\n",
    "\n",
    "s1[1:len(s1)-1] # Accessing the all the characters except first and last character\n",
    "\n",
    "s1[1:-1] # another way of accessing the characters except first and last character\n",
    "\n",
    "s1[len(s1)//2] # middle character printing\n",
    "\n",
    "s1[-1::-1]# Reverse of a string\n",
    "\n",
    "s1[-1:-3:-1]#Access last two characters in reverse order\n",
    "\n",
    "\n",
    "s1[len(s1)//2:len(s1)//2-2:1]# Reverse the middle two characters in an even length string\n",
    "\n",
    "s1[::2]\n",
    "            #  \"python\" Accessing alterante characters in a string  in reverse and normal # \"nhy\"\n",
    "\n",
    "s1[::-2]"
   ]
  },
  {
   "cell_type": "code",
   "execution_count": null,
   "metadata": {},
   "outputs": [],
   "source": []
  },
  {
   "cell_type": "markdown",
   "metadata": {},
   "source": [
    "## Functions"
   ]
  },
  {
   "cell_type": "code",
   "execution_count": 3,
   "metadata": {},
   "outputs": [
    {
     "data": {
      "text/plain": [
       "'nohtyP'"
      ]
     },
     "execution_count": 3,
     "metadata": {},
     "output_type": "execute_result"
    }
   ],
   "source": [
    "# Function to reverse a string \n",
    "def reverseString(s):\n",
    "    return s[::-1]\n",
    "\n",
    "reverseString(\"Python\")\n",
    "    \n"
   ]
  },
  {
   "cell_type": "code",
   "execution_count": 4,
   "metadata": {},
   "outputs": [
    {
     "name": "stdout",
     "output_type": "stream",
     "text": [
      "Enter stringa\n"
     ]
    },
    {
     "data": {
      "text/plain": [
       "True"
      ]
     },
     "execution_count": 4,
     "metadata": {},
     "output_type": "execute_result"
    }
   ],
   "source": [
    "#Functions to check if a string is a Palindrome\n",
    "def Palindrome(s):\n",
    "    if s == s[::-1]:\n",
    "        return True\n",
    "    else:\n",
    "        return False\n",
    "s=input(\"Enter string\")\n",
    "Palindrome(s)"
   ]
  },
  {
   "cell_type": "code",
   "execution_count": 5,
   "metadata": {},
   "outputs": [
    {
     "name": "stdout",
     "output_type": "stream",
     "text": [
      "Enter year344\n"
     ]
    },
    {
     "data": {
      "text/plain": [
       "True"
      ]
     },
     "execution_count": 5,
     "metadata": {},
     "output_type": "execute_result"
    }
   ],
   "source": [
    "# Function check  if given year is a leap year\n",
    "def isleap(year):\n",
    "    if(year%400==0 or year%100!=0 and year%4==0):\n",
    "        return True\n",
    "    return False\n",
    "year=int(input(\"Enter year\"))\n",
    "isleap(year)\n",
    "    \n",
    "    \n",
    "\n",
    "\n",
    "\n",
    "\n"
   ]
  },
  {
   "cell_type": "code",
   "execution_count": 16,
   "metadata": {},
   "outputs": [
    {
     "name": "stdout",
     "output_type": "stream",
     "text": [
      "enter the number1234\n"
     ]
    },
    {
     "data": {
      "text/plain": [
       "4"
      ]
     },
     "execution_count": 16,
     "metadata": {},
     "output_type": "execute_result"
    }
   ],
   "source": [
    "# Function to count the number of digits in a given number\n",
    "def count(n):\n",
    "    return len(str(n))\n",
    "n=int(input(\"enter the number\"))\n",
    "count(n)\n",
    "\n"
   ]
  },
  {
   "cell_type": "code",
   "execution_count": 17,
   "metadata": {},
   "outputs": [
    {
     "name": "stdout",
     "output_type": "stream",
     "text": [
      "enter n11\n",
      "enter n14\n",
      "enter n15\n",
      "enter n12\n"
     ]
    },
    {
     "data": {
      "text/plain": [
       "5"
      ]
     },
     "execution_count": 17,
     "metadata": {},
     "output_type": "execute_result"
    }
   ],
   "source": [
    "# Function to identify the greatest of 4 numbers\n",
    "def greatest4(n1,n2,n3,n4):\n",
    "    if n1>n2 and n1>n3 and n1>n4:\n",
    "        return n1\n",
    "    elif n2>n3 and n2>n4:\n",
    "        return n2\n",
    "    elif n3>n4:\n",
    "        return n3\n",
    "    return n4\n",
    "n1=int(input(\"enter n1\"))\n",
    "n2=int(input(\"enter n1\"))\n",
    "n3=int(input(\"enter n1\"))\n",
    "n4=int(input(\"enter n1\"))\n",
    "greatest4(n1,n2,n3,n4)\n",
    "\n",
    "\n",
    "    \n",
    "\n"
   ]
  },
  {
   "cell_type": "markdown",
   "metadata": {},
   "source": [
    "###  Iteration\n",
    " - for\n",
    " - while\n",
    " "
   ]
  },
  {
   "cell_type": "code",
   "execution_count": 18,
   "metadata": {},
   "outputs": [
    {
     "name": "stdout",
     "output_type": "stream",
     "text": [
      "enter n5\n",
      "1 2 3 4 5 1 2 3 4 5 "
     ]
    }
   ],
   "source": [
    "# Function to print n numbers\n",
    "def printNNaturalNumbers(n):\n",
    "    for i in range (1,n+1):\n",
    "        print(i,end=\" \")\n",
    "    return \n",
    "    print()\n",
    "n=int(input(\"enter n\"))\n",
    "printNNaturalNumbers(n)\n",
    "printNNaturalNumbers(n)"
   ]
  },
  {
   "cell_type": "code",
   "execution_count": 19,
   "metadata": {},
   "outputs": [
    {
     "name": "stdout",
     "output_type": "stream",
     "text": [
      "enter n10\n",
      "1 2 3 4 5 6 7 8 9 10 "
     ]
    }
   ],
   "source": [
    "# Function to print N natural numbers\n",
    "\n",
    "def Natural(n):\n",
    "    counter=1\n",
    "    while counter<=n:\n",
    "        print(counter,end=\" \")\n",
    "        counter=counter+1\n",
    "    return\n",
    "n=int(input(\"enter n\"))\n",
    "Natural(n)"
   ]
  },
  {
   "cell_type": "code",
   "execution_count": null,
   "metadata": {},
   "outputs": [],
   "source": [
    "# Functions to print all numbers divisible by 6 and not a factor of 100\n",
    "\n",
    "def divby6(lb,ub):\n",
    "    for i in range(lb,ub):\n",
    "        if(i%6==0 and lb%100!=0):\n",
    "            print(i,end=\" \")\n",
    "    return\n",
    "lb=int(input(\"Enter lower bound:\"))\n",
    "ub=int(input(\"Enter upper bound\"))\n",
    "divby6(lb,ub)\n",
    "\n",
    "        \n",
    "    "
   ]
  },
  {
   "cell_type": "code",
   "execution_count": null,
   "metadata": {},
   "outputs": [],
   "source": [
    "# Function to find the average of all even numbers in a given range (lb,ub)\n",
    "def avgeven(lb,ub):\n",
    "    count=0\n",
    "    sum=0\n",
    "    for i in range(lb,ub):\n",
    "        if(i%2==0):            \n",
    "            sum=sum+i\n",
    "            count=count+1\n",
    "    avg=sum/count\n",
    "    print(avg)\n",
    "    return\n",
    "lb=int(input(\"Enter lower bound:\"))\n",
    "ub=int(input(\"Enter upper bound\"))\n",
    "avgeven(lb,ub)\n",
    "   \n",
    "        \n",
    "\n"
   ]
  },
  {
   "cell_type": "code",
   "execution_count": null,
   "metadata": {},
   "outputs": [],
   "source": [
    "# Function to find the average of cubes of all even numbers  in a given range(lb,ub)\n",
    "def avgeven(lb,ub):\n",
    "    count=0\n",
    "    sum=0\n",
    "    for i in range(lb,ub):\n",
    "        if(i%2==0): \n",
    "            k=i*i*i\n",
    "            sum=sum+k\n",
    "            count=count+1\n",
    "    avg=sum//count\n",
    "    print(avg)\n",
    "    return\n",
    "lb=int(input(\"Enter lower bound:\"))\n",
    "ub=int(input(\"Enter upper bound\"))\n",
    "avgeven(lb,ub)"
   ]
  },
  {
   "cell_type": "code",
   "execution_count": null,
   "metadata": {},
   "outputs": [],
   "source": [
    "# Functions to generate the list of factors for a given number 12---->1 2 3 4 6 12\n",
    "def factors(n):\n",
    "    sum=0\n",
    "    for i in range (1,n+1):\n",
    "        if(n%i==0):\n",
    "            print(i,end=\" \")\n",
    "            sum=sum+i\n",
    "    return sum\n",
    "n=int(input(\"Enter n\"))\n",
    "factors(n)\n"
   ]
  },
  {
   "cell_type": "code",
   "execution_count": null,
   "metadata": {},
   "outputs": [],
   "source": [
    "# Functions to calculate the factorial of a given number\n",
    "def factorial(n):\n",
    "    fact=1\n",
    "    for i in range(1,n+1):\n",
    "        fact=fact*n\n",
    "        n=n-1\n",
    "        \n",
    "    print(fact)\n",
    "    return\n",
    "n=int(input(\"Enter n\"))\n",
    "factorial(n)\n",
    "\n",
    "        "
   ]
  },
  {
   "cell_type": "code",
   "execution_count": null,
   "metadata": {},
   "outputs": [],
   "source": [
    "# Function to check if a given number is Prime\n",
    "def primecheck(n):\n",
    "    c=0\n",
    "    for i in range(1,n+1):\n",
    "        if(n%i==0):\n",
    "            c=c+1\n",
    "    if(c==2):\n",
    "        print(\"Prime\")\n",
    "    else:\n",
    "        print(\"not Prime\")\n",
    "    return\n",
    "#n=int(input(\"Enter n\"))\n",
    "#primecheck(3)\n",
    "\n",
    "    \n"
   ]
  },
  {
   "cell_type": "code",
   "execution_count": null,
   "metadata": {},
   "outputs": [],
   "source": [
    "# Function to calculate the avearage first N Prime numbers\n",
    "def primeavg(n):\n",
    "    primeCount=0\n",
    "    sum=0\n",
    "    seqCount=2\n",
    "    while(primeCount<n):\n",
    "        if primecheck(seqCount):\n",
    "            primeCount +=1\n",
    "            sum+=seqCount\n",
    "        seqCount+=1\n",
    "    return sum/n\n",
    "n=int(input(\"Enter n\"))\n",
    "primeavg(n)\n",
    "            \n"
   ]
  },
  {
   "cell_type": "code",
   "execution_count": null,
   "metadata": {},
   "outputs": [],
   "source": [
    "# Function to generate all perfect numbers in a given range\n",
    "\n",
    "def isperfect(n):\n",
    "    if factors(n)==n:\n",
    "        return True\n",
    "    return False\n",
    "def generatePerfect(lb,ub):\n",
    "    for i in range(lb,ub):\n",
    "        if isperfect(i):\n",
    "            print(i,end=\" \")\n",
    "    return\n",
    "generatePerfect(1,100)"
   ]
  },
  {
   "cell_type": "code",
   "execution_count": null,
   "metadata": {},
   "outputs": [],
   "source": [
    "# Function to generate all perfect numbers in a given range\n",
    "\n",
    "def prefectrange(lb,ub):\n",
    "    count=0\n",
    "    sum=0\n",
    "    for i  in range (lb,ub):\n",
    "        for j in range (1,i):\n",
    "            if(i%j==0):\n",
    "                sum=sum+j\n",
    "        if(sum==i):\n",
    "            print(i,end=\" \")\n",
    "    return\n",
    "lb=int(input(\"Enter lower bound:\"))\n",
    "ub=int(input(\"Enter upper bound\"))\n",
    "prefectrange(lb,ub)\n"
   ]
  },
  {
   "cell_type": "code",
   "execution_count": null,
   "metadata": {},
   "outputs": [],
   "source": [
    "# Function to # Function to calculate the avearage first N Prime numbers\n",
    "def avgprime(lb,ub,n):\n",
    "    count=0\n",
    "    sum=0\n",
    "    fact=0\n",
    "    while(fact==n):\n",
    "        for i in range (lb,ub):\n",
    "            for j in range (1,i+1):\n",
    "                if(i%j==0):\n",
    "                    count=count+1\n",
    "            if(count==2):\n",
    "                sum=sum+i\n",
    "                fact=fact+1\n",
    "        print(sum)\n",
    "    #return sum/n\n",
    "n=int(input(\"Enter n\"))\n",
    "\n",
    "lb=int(input(\"Enter lower bound:\"))\n",
    "ub=int(input(\"Enter upper bound\"))\n",
    "avgprime(lb,ub,n)"
   ]
  },
  {
   "cell_type": "code",
   "execution_count": null,
   "metadata": {},
   "outputs": [],
   "source": [
    "def prime(u):\n",
    "    for j in range(u):\n",
    "        count=0\n",
    "        n=j\n",
    "        for i in range(1,n+1):\n",
    "            if(n%i==0):\n",
    "                count+=1\n",
    "        if(count==2):\n",
    "               print(n)\n",
    "    \n",
    "prime(20)"
   ]
  },
  {
   "cell_type": "code",
   "execution_count": null,
   "metadata": {},
   "outputs": [],
   "source": [
    "# Advanced Problem Set (Optional)\n",
    "# Function to calculate average of all factorials in a given range\n",
    "# Function to generate N odd arm strong numbers\n",
    "# Function to generate Multiplication table for a number in a given range \n",
    "      #10 in the range (100,102)  inclusive\n",
    "      #10*100=1000\n",
    "      #10*101=1010\n",
    "      #10*102=1020\n",
    "        \n",
    "        \n",
    "def mul_table(lb,ub):\n",
    "    for i in range(lb,ub):\n",
    "        print(10*i)\n",
    "    return\n",
    "lb=int(input(\"Enter lower bound:\"))\n",
    "ub=int(input(\"Enter upper bound\"))\n",
    "n=int(input(\"enter n\"))\n",
    "        "
   ]
  },
  {
   "cell_type": "code",
   "execution_count": null,
   "metadata": {},
   "outputs": [],
   "source": [
    "# function to print the alternate values in a range \n",
    "# [500,550]--> 500 502 ......550\n",
    "# (500,550)--> 501 503 503.....549\n",
    "#range(500,550)---> 500 501 502....549\n",
    "# All set based functions in Python have start value \n",
    "\n",
    "\n",
    "\n",
    "def alternateValues(lb,ub):\n",
    "    for i in range(lb,ub+1,2):\n",
    "        print(i,end=\" \")\n",
    "    return\n",
    "lb=int(input(\"Enter lower bound:\"))\n",
    "ub=int(input(\"Enter upper bound\"))\n",
    "alternateValues(lb,ub)\n",
    "        \n",
    "    \n"
   ]
  },
  {
   "cell_type": "code",
   "execution_count": null,
   "metadata": {},
   "outputs": [],
   "source": [
    " def avg_factors(lb,ub):\n",
    "    count=0\n",
    "    sum=0\n",
    "    avg=0\n",
    "    for i in range (lb,ub):\n",
    "        sum=0\n",
    "        \n",
    "        for j in range (1,i+1):\n",
    "            if(i%j==0):\n",
    "                sum=sum+j\n",
    "                count=count+1\n",
    "    avg=sum/count\n",
    "    print(avg)\n",
    "    return\n",
    "lb=int(input(\"Enter lower bound:\"))\n",
    "ub=int(input(\"Enter upper bound\"))\n",
    "avg_factorials(lb,ub)\n"
   ]
  },
  {
   "cell_type": "code",
   "execution_count": null,
   "metadata": {},
   "outputs": [],
   "source": [
    "def Sfactorial(n):\n",
    "    factorial=1\n",
    "    fact=0\n",
    "    for i in range (1,n+1):\n",
    "        fact=factorial*i\n",
    "    return fact\n",
    "Sfactorial(5)\n",
    "#def factorials(lb,ub):\n",
    "    "
   ]
  },
  {
   "cell_type": "code",
   "execution_count": null,
   "metadata": {},
   "outputs": [],
   "source": [
    "# Function to print reverse of given range in the same  line\n",
    "def reverse(lb,ub):\n",
    "    for i in range(ub,lb-1,-1):\n",
    "        print(i,end=\" \")\n",
    "        #i=i-1\n",
    "    return\n",
    "lb=int(input(\"Enter lower bound:\"))\n",
    "ub=int(input(\"Enter upper bound\"))\n",
    "reverse(lb,ub)\n"
   ]
  },
  {
   "cell_type": "code",
   "execution_count": null,
   "metadata": {},
   "outputs": [],
   "source": [
    "# Function to print odd numbers in reverse order in a range\n",
    "def reverse_odd(lb,ub):\n",
    "    for i in range(ub,lb,-1):\n",
    "        if(i%2!=0):\n",
    "            print(i,end=\" \")\n",
    "    return\n",
    "lb=int(input(\"Enter lower bound:\"))\n",
    "ub=int(input(\"Enter upper bound:\"))\n",
    "reverse_odd(lb,ub)\n",
    "        "
   ]
  },
  {
   "cell_type": "code",
   "execution_count": null,
   "metadata": {},
   "outputs": [],
   "source": []
  },
  {
   "cell_type": "code",
   "execution_count": null,
   "metadata": {},
   "outputs": [],
   "source": [
    "\n",
    "# Function to calculate the sum of numbers in a range\n",
    "def suminarange(lb,ub):\n",
    "    sum=0\n",
    "    count=0\n",
    "    for i in range(lb,ub+1):\n",
    "        sum=sum+i\n",
    "        count+=1\n",
    "    return sum\n"
   ]
  },
  {
   "cell_type": "code",
   "execution_count": null,
   "metadata": {},
   "outputs": [],
   "source": [
    "def sumcount(lb,ub):\n",
    "    count=0\n",
    "    for i in range(lb,ub+1):\n",
    "        count+=1\n",
    "    return count"
   ]
  },
  {
   "cell_type": "code",
   "execution_count": null,
   "metadata": {},
   "outputs": [],
   "source": [
    "# Function to calculate the average of a given range\n",
    "suminarange(1,5)"
   ]
  },
  {
   "cell_type": "code",
   "execution_count": null,
   "metadata": {},
   "outputs": [],
   "source": [
    "c=sumcount(1,5)"
   ]
  },
  {
   "cell_type": "code",
   "execution_count": null,
   "metadata": {},
   "outputs": [],
   "source": [
    "s=suminarange(1,5)"
   ]
  },
  {
   "cell_type": "code",
   "execution_count": null,
   "metadata": {},
   "outputs": [],
   "source": [
    "s//c"
   ]
  },
  {
   "cell_type": "code",
   "execution_count": null,
   "metadata": {},
   "outputs": [],
   "source": [
    "# Function to calculate the average of a given range\n",
    "\n",
    "\n"
   ]
  },
  {
   "cell_type": "code",
   "execution_count": null,
   "metadata": {},
   "outputs": [],
   "source": [
    "# Function to generate all leap years in a given time period \n",
    "# 2000 -2020---> 2000 2004.......2020\n",
    "\n",
    "def isLeap(n):\n",
    "    if(n%400==0 or n%100!=0 and n%4==0):\n",
    "        return True\n",
    "    else:\n",
    "        return False\n",
    "#n=int(input(\"enter year\"))\n",
    "#isLeap(n)\n",
    "        \n",
    "def generateLeapYears(lb,ub):\n",
    "    for i in range(lb, ub+1):\n",
    "        if isLeap(i):\n",
    "            print(i,end=\" \")\n",
    "#lb=int(input(\"enter start range\"))\n",
    "#ub=int(input(\"enter end range\"))\n",
    "generateLeapYears(lb,ub)\n",
    "        \n",
    "   "
   ]
  },
  {
   "cell_type": "code",
   "execution_count": null,
   "metadata": {},
   "outputs": [],
   "source": [
    "# Function to calculate number of days in a given time period using Leapyear\n",
    "def no_of_days(lb,ub):\n",
    "    sum=0\n",
    "    for i in range (lb,ub+1):\n",
    "        if isLeap(i):\n",
    "            sum=sum+366\n",
    "        else:\n",
    "            sum=sum+365\n",
    "    return sum\n",
    "lb=int(input(\"enter start range\"))\n",
    "ub=int(input(\"enter end range\"))\n",
    "no_of_days(lb,ub)\n",
    "\n",
    "    "
   ]
  },
  {
   "cell_type": "code",
   "execution_count": null,
   "metadata": {},
   "outputs": [],
   "source": [
    "# Function to caluculate number of hours for a given period\n",
    "def no_of_hours(sm,sy,em,ey):\n",
    "    k=(31+30)*24\n",
    "    return k\n",
    "no_of_hours(5,2019,6,2019)\n"
   ]
  },
  {
   "cell_type": "code",
   "execution_count": null,
   "metadata": {},
   "outputs": [],
   "source": [
    "# Function to caluculate number of hours for a given period\n",
    "# 2,2017 ,6,2019\n",
    "# no of hours =24*no Of days\n",
    "# 3 steps \n",
    "  # 1. Start month year to end of year --> caluculate no of days\n",
    "  # 2. Calculate days for all years between start year and end year\n",
    "                # 2017,2018-365*no of days\n",
    "  # 3.\n",
    "\n",
    "def numberofdaysmonth(month):\n",
    "    if month<=7 and month%2!=0:\n",
    "        return 31\n",
    "    else:\n",
    "        return 30\n",
    "    \n",
    "        \n"
   ]
  },
  {
   "cell_type": "code",
   "execution_count": null,
   "metadata": {},
   "outputs": [],
   "source": [
    "# Function to calulate the armstrong number"
   ]
  },
  {
   "cell_type": "code",
   "execution_count": null,
   "metadata": {},
   "outputs": [],
   "source": [
    "# Function to print the Factorial average"
   ]
  },
  {
   "cell_type": "code",
   "execution_count": null,
   "metadata": {},
   "outputs": [],
   "source": []
  },
  {
   "cell_type": "code",
   "execution_count": null,
   "metadata": {},
   "outputs": [],
   "source": []
  },
  {
   "cell_type": "code",
   "execution_count": null,
   "metadata": {},
   "outputs": [],
   "source": []
  },
  {
   "cell_type": "code",
   "execution_count": null,
   "metadata": {},
   "outputs": [],
   "source": []
  }
 ],
 "metadata": {
  "kernelspec": {
   "display_name": "Python 3",
   "language": "python",
   "name": "python3"
  },
  "language_info": {
   "codemirror_mode": {
    "name": "ipython",
    "version": 3
   },
   "file_extension": ".py",
   "mimetype": "text/x-python",
   "name": "python",
   "nbconvert_exporter": "python",
   "pygments_lexer": "ipython3",
   "version": "3.7.3"
  }
 },
 "nbformat": 4,
 "nbformat_minor": 2
}
