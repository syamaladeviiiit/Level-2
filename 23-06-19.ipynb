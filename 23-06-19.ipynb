{
 "cells": [
  {
   "cell_type": "code",
   "execution_count": 4,
   "metadata": {},
   "outputs": [
    {
     "name": "stdout",
     "output_type": "stream",
     "text": [
      "['Line1', 'Line2']\n"
     ]
    }
   ],
   "source": [
    "# Read a File - File should Exist in some part of the sotorage (Read Mode)\n",
    "\n",
    "# Write to a File - Existing( append mode)  or New File(Write mode)\n",
    "def readFile(filePath):\n",
    "    with open(filePath, 'r') as f:\n",
    "        filedata = f.read()\n",
    "        lines=filedata.split('\\n')\n",
    "    return lines\n",
    "\n",
    "filePath = 'DataFiles/data.txt'\n",
    "print(readFile(filePath))"
   ]
  },
  {
   "cell_type": "code",
   "execution_count": 2,
   "metadata": {},
   "outputs": [
    {
     "name": "stdout",
     "output_type": "stream",
     "text": [
      "29\n",
      "line1\n",
      "line1\n",
      "nine2 line3\n",
      "nine2\n"
     ]
    }
   ],
   "source": [
    "def readFile(filepath):\n",
    "    with open(filepath,'r')  as f:# Refference to the file object\n",
    "        filedata=f.read()\n",
    "        print(len(filedata))\n",
    "    return filedata\n",
    "filepath = 'Data Files/data.txt'\n",
    "print(readFile(filepath))"
   ]
  },
  {
   "cell_type": "code",
   "execution_count": 32,
   "metadata": {},
   "outputs": [
    {
     "data": {
      "text/plain": [
       "2"
      ]
     },
     "execution_count": 32,
     "metadata": {},
     "output_type": "execute_result"
    }
   ],
   "source": [
    "# Function to count number of lines in a file\n",
    "\n",
    "def countLinesFile(filepath):\n",
    "    count=len(readFile(filepath).split())\n",
    "    return count\n",
    "countLinesFile(filepath)"
   ]
  },
  {
   "cell_type": "code",
   "execution_count": 3,
   "metadata": {},
   "outputs": [
    {
     "name": "stdout",
     "output_type": "stream",
     "text": [
      "29\n"
     ]
    },
    {
     "data": {
      "text/plain": [
       "5"
      ]
     },
     "execution_count": 3,
     "metadata": {},
     "output_type": "execute_result"
    }
   ],
   "source": [
    "import re\n",
    "def wordcount(filepath):\n",
    "    pattern='[, \\n]'\n",
    "    #filepath='Data Files\\data.txt'\n",
    "    filedata =readFile(filepath)\n",
    "    count=len(re.split(pattern,filedata))\n",
    "    return count\n",
    "wordcount(filepath)"
   ]
  },
  {
   "cell_type": "code",
   "execution_count": 31,
   "metadata": {},
   "outputs": [
    {
     "data": {
      "text/plain": [
       "34"
      ]
     },
     "execution_count": 31,
     "metadata": {},
     "output_type": "execute_result"
    }
   ],
   "source": [
    "def charcount(filepath):\n",
    "    count=len(readFile(filepath))\n",
    "    return count\n",
    "charcount(filepath)"
   ]
  },
  {
   "cell_type": "code",
   "execution_count": 7,
   "metadata": {},
   "outputs": [
    {
     "data": {
      "text/plain": [
       "[1, 2, 3]"
      ]
     },
     "execution_count": 7,
     "metadata": {},
     "output_type": "execute_result"
    }
   ],
   "source": [
    "# Function to fet unique elements in a list\n",
    "# [1,2,3,3,2,1]------>[1,2,3]\n",
    "# Create empty unique list[]\n",
    "def uniqueData(li):\n",
    "    # create an empty unique list\n",
    "    unique=[]\n",
    "    # for every element in the main list,\n",
    "        # Checck if it exists in the unique list\n",
    "        # If it does not exist,add it to unique list\n",
    "        # else if it already exists ,move  on to the main list and add it to unique list\n",
    "        \n",
    "    for element in li:\n",
    "        if element not in unique:\n",
    "            unique.append(element)\n",
    "    return unique\n",
    "li=[1,2,3,3,2,1]\n",
    "uniqueData(li)\n",
    "    "
   ]
  },
  {
   "cell_type": "code",
   "execution_count": 4,
   "metadata": {},
   "outputs": [
    {
     "name": "stdout",
     "output_type": "stream",
     "text": [
      "['l', 'i', 'n', 'e', '1', '\\n', '2', ' ', '3']\n"
     ]
    }
   ],
   "source": [
    "# Function to find the unique letters of the data in a file\n",
    "def UniqueL(filePath):\n",
    "    unique=[]\n",
    "    with open(filePath, 'r') as f:\n",
    "        filedata=f.read()\n",
    "        for i in filedata:\n",
    "            if i not in unique:\n",
    "                unique.append(i)\n",
    "        print(unique)\n",
    "\n",
    "filePath = 'Data Files/data.txt'\n",
    "UniqueL(filePath)"
   ]
  },
  {
   "cell_type": "code",
   "execution_count": 5,
   "metadata": {},
   "outputs": [
    {
     "name": "stdout",
     "output_type": "stream",
     "text": [
      "['line1', 'nine2', 'line3']\n",
      "3\n"
     ]
    }
   ],
   "source": [
    "# Function to find the unique letters count of the data in a file\n",
    "def UniqueLC(filePath):\n",
    "    unique=[]\n",
    "    c=0\n",
    "    with open(filePath, 'r') as f:\n",
    "        filedata=f.read().split()\n",
    "        for i in filedata:\n",
    "            if i not in unique:\n",
    "                unique.append(i)\n",
    "                c=c+1\n",
    "    print(unique)\n",
    "    print(c)\n",
    "\n",
    "filePath = 'Data Files/data.txt'\n",
    "UniqueLC(filePath)"
   ]
  },
  {
   "cell_type": "code",
   "execution_count": 6,
   "metadata": {},
   "outputs": [
    {
     "name": "stdout",
     "output_type": "stream",
     "text": [
      "['line1', 'line1', 'nine2', 'line3', 'nine2']\n",
      "['line1', 'nine2', 'line3']\n",
      "line1 : 2\n",
      "nine2 : 2\n",
      "line3 : 1\n"
     ]
    }
   ],
   "source": [
    "# Function to find the unique word count and the frequency of the data in a file\n",
    "\n",
    "# This can be do with using the  values and keys (dictionaries) as well as the unique words count and then count frequency\n",
    "def UniqueWordsFre(filePath):\n",
    "    unique=[]\n",
    "    freq=[]\n",
    "    with open(filePath, 'r') as f:\n",
    "        filedata=f.read().split()\n",
    "    print(filedata)\n",
    "    for element in filedata:\n",
    "        if element not in unique:\n",
    "            unique.append(element)\n",
    "    print(unique)\n",
    "    for i in unique:\n",
    "        print(i,':',filedata.count(i))\n",
    "    \n",
    "filePath = 'Data Files/data.txt'\n",
    "UniqueWordsFre(filePath)"
   ]
  },
  {
   "cell_type": "code",
   "execution_count": null,
   "metadata": {},
   "outputs": [],
   "source": [
    "Def FreqDistributionOfWords(filepath):\n",
    "    # Dictionary to be used\n",
    "         # Keys---> unique words\n",
    "         # Values---> Count of unique words\n",
    "    # Two lists "
   ]
  },
  {
   "cell_type": "code",
   "execution_count": null,
   "metadata": {},
   "outputs": [],
   "source": []
  },
  {
   "cell_type": "code",
   "execution_count": null,
   "metadata": {},
   "outputs": [],
   "source": [
    "n=int(input())\n",
    "a=int(input())\n",
    "if(abs(n-a)<(n-b)):\n",
    " \n",
    "\n",
    "\n"
   ]
  },
  {
   "cell_type": "code",
   "execution_count": null,
   "metadata": {},
   "outputs": [],
   "source": []
  }
 ],
 "metadata": {
  "kernelspec": {
   "display_name": "Python 3",
   "language": "python",
   "name": "python3"
  },
  "language_info": {
   "codemirror_mode": {
    "name": "ipython",
    "version": 3
   },
   "file_extension": ".py",
   "mimetype": "text/x-python",
   "name": "python",
   "nbconvert_exporter": "python",
   "pygments_lexer": "ipython3",
   "version": "3.7.3"
  }
 },
 "nbformat": 4,
 "nbformat_minor": 2
}
